{
 "cells": [
  {
   "cell_type": "code",
   "execution_count": 1,
   "id": "8544ce09",
   "metadata": {},
   "outputs": [],
   "source": [
    "import pandas as pd\n",
    "import seaborn as sns\n",
    "import numpy as np\n",
    "import matplotlib.pyplot as plt\n",
    "%matplotlib inline\n",
    "import statsmodels.api as sm\n",
    "from statsmodels.formula.api import ols\n"
   ]
  },
  {
   "cell_type": "code",
   "execution_count": 4,
   "id": "73fa4627",
   "metadata": {},
   "outputs": [],
   "source": [
    "yield_data = pd.read_excel(\"2021 Yield.xlsx\")"
   ]
  },
  {
   "cell_type": "code",
   "execution_count": 5,
   "id": "6af25c5d",
   "metadata": {},
   "outputs": [
    {
     "data": {
      "text/html": [
       "<div>\n",
       "<style scoped>\n",
       "    .dataframe tbody tr th:only-of-type {\n",
       "        vertical-align: middle;\n",
       "    }\n",
       "\n",
       "    .dataframe tbody tr th {\n",
       "        vertical-align: top;\n",
       "    }\n",
       "\n",
       "    .dataframe thead th {\n",
       "        text-align: right;\n",
       "    }\n",
       "</style>\n",
       "<table border=\"1\" class=\"dataframe\">\n",
       "  <thead>\n",
       "    <tr style=\"text-align: right;\">\n",
       "      <th></th>\n",
       "      <th>Plot Number</th>\n",
       "      <th>Block</th>\n",
       "      <th>Treatment</th>\n",
       "      <th>Simp. Treatment</th>\n",
       "      <th>Yield (avg; bu/ac)</th>\n",
       "      <th>Treatment Description</th>\n",
       "      <th>Short Trt Description</th>\n",
       "    </tr>\n",
       "  </thead>\n",
       "  <tbody>\n",
       "    <tr>\n",
       "      <th>0</th>\n",
       "      <td>1</td>\n",
       "      <td>2</td>\n",
       "      <td>2S</td>\n",
       "      <td>2.0</td>\n",
       "      <td>75.328418</td>\n",
       "      <td>Corn/Soy, Spring Manure</td>\n",
       "      <td>CS, SM</td>\n",
       "    </tr>\n",
       "    <tr>\n",
       "      <th>1</th>\n",
       "      <td>2</td>\n",
       "      <td>2</td>\n",
       "      <td>6S</td>\n",
       "      <td>6.0</td>\n",
       "      <td>77.482016</td>\n",
       "      <td>Corn/Soy, Fall Manure</td>\n",
       "      <td>CS, FM</td>\n",
       "    </tr>\n",
       "    <tr>\n",
       "      <th>2</th>\n",
       "      <td>3</td>\n",
       "      <td>2</td>\n",
       "      <td>1C</td>\n",
       "      <td>1.0</td>\n",
       "      <td>232.173281</td>\n",
       "      <td>Corn/Soy, Spring UAN</td>\n",
       "      <td>CS, SUAN</td>\n",
       "    </tr>\n",
       "    <tr>\n",
       "      <th>3</th>\n",
       "      <td>4</td>\n",
       "      <td>2</td>\n",
       "      <td>3.1</td>\n",
       "      <td>3.1</td>\n",
       "      <td>231.645855</td>\n",
       "      <td>Continuous Corn</td>\n",
       "      <td>CC</td>\n",
       "    </tr>\n",
       "    <tr>\n",
       "      <th>4</th>\n",
       "      <td>5</td>\n",
       "      <td>2</td>\n",
       "      <td>4.1</td>\n",
       "      <td>4.1</td>\n",
       "      <td>208.940519</td>\n",
       "      <td>Continuous Corn + PGC</td>\n",
       "      <td>CC + PGC</td>\n",
       "    </tr>\n",
       "  </tbody>\n",
       "</table>\n",
       "</div>"
      ],
      "text/plain": [
       "   Plot Number  Block Treatment  Simp. Treatment  Yield (avg; bu/ac)  \\\n",
       "0            1      2        2S              2.0           75.328418   \n",
       "1            2      2        6S              6.0           77.482016   \n",
       "2            3      2        1C              1.0          232.173281   \n",
       "3            4      2       3.1              3.1          231.645855   \n",
       "4            5      2       4.1              4.1          208.940519   \n",
       "\n",
       "     Treatment Description Short Trt Description  \n",
       "0  Corn/Soy, Spring Manure                CS, SM  \n",
       "1    Corn/Soy, Fall Manure                CS, FM  \n",
       "2     Corn/Soy, Spring UAN              CS, SUAN  \n",
       "3          Continuous Corn                    CC  \n",
       "4    Continuous Corn + PGC              CC + PGC  "
      ]
     },
     "execution_count": 5,
     "metadata": {},
     "output_type": "execute_result"
    }
   ],
   "source": [
    "yield_data.head()"
   ]
  },
  {
   "cell_type": "code",
   "execution_count": 6,
   "id": "d2ba7c26",
   "metadata": {},
   "outputs": [
    {
     "data": {
      "image/png": "[encoded data removed]",
      "text/plain": [
       "<Figure size 432x288 with 1 Axes>"
      ]
     },
     "metadata": {
      "needs_background": "light"
     },
     "output_type": "display_data"
    }
   ],
   "source": [
    "ax = sns.boxplot(x = \"Treatment\", y = \"Yield (avg; bu/ac)\", data = yield_data)\n",
    "plt.savefig('all_yield_box.png')"
   ]
  },
  {
   "cell_type": "markdown",
   "id": "3ce43f6d",
   "metadata": {},
   "source": [
    "Including all of the yield data on the same plot doesn't make sense because some treatments are soybeans and some are corn"
   ]
  },
  {
   "cell_type": "code",
   "execution_count": 7,
   "id": "c06d86fb",
   "metadata": {},
   "outputs": [
    {
     "data": {
      "text/plain": [
       "Plot Number                int64\n",
       "Block                      int64\n",
       "Treatment                 object\n",
       "Simp. Treatment          float64\n",
       "Yield (avg; bu/ac)       float64\n",
       "Treatment Description     object\n",
       "Short Trt Description     object\n",
       "dtype: object"
      ]
     },
     "execution_count": 7,
     "metadata": {},
     "output_type": "execute_result"
    }
   ],
   "source": [
    "yield_data.dtypes"
   ]
  },
  {
   "cell_type": "code",
   "execution_count": 8,
   "id": "eb07cfcf",
   "metadata": {},
   "outputs": [
    {
     "data": {
      "text/plain": [
       "Plot Number                int64\n",
       "Block                      int64\n",
       "Treatment                 string\n",
       "Simp. Treatment          float64\n",
       "Yield (avg; bu/ac)       float64\n",
       "Treatment Description     object\n",
       "Short Trt Description     object\n",
       "dtype: object"
      ]
     },
     "execution_count": 8,
     "metadata": {},
     "output_type": "execute_result"
    }
   ],
   "source": [
    "yield_data['Treatment'] = yield_data['Treatment'].astype('string')\n",
    "yield_data.dtypes"
   ]
  },
  {
   "cell_type": "markdown",
   "id": "02180951",
   "metadata": {},
   "source": [
    "Filtering out the soybean treatment data"
   ]
  },
  {
   "cell_type": "code",
   "execution_count": 9,
   "id": "5bb1dac4",
   "metadata": {},
   "outputs": [
    {
     "data": {
      "text/html": [
       "<div>\n",
       "<style scoped>\n",
       "    .dataframe tbody tr th:only-of-type {\n",
       "        vertical-align: middle;\n",
       "    }\n",
       "\n",
       "    .dataframe tbody tr th {\n",
       "        vertical-align: top;\n",
       "    }\n",
       "\n",
       "    .dataframe thead th {\n",
       "        text-align: right;\n",
       "    }\n",
       "</style>\n",
       "<table border=\"1\" class=\"dataframe\">\n",
       "  <thead>\n",
       "    <tr style=\"text-align: right;\">\n",
       "      <th></th>\n",
       "      <th>Plot Number</th>\n",
       "      <th>Block</th>\n",
       "      <th>Treatment</th>\n",
       "      <th>Simp. Treatment</th>\n",
       "      <th>Yield (avg; bu/ac)</th>\n",
       "      <th>Treatment Description</th>\n",
       "      <th>Short Trt Description</th>\n",
       "    </tr>\n",
       "  </thead>\n",
       "  <tbody>\n",
       "    <tr>\n",
       "      <th>2</th>\n",
       "      <td>3</td>\n",
       "      <td>2</td>\n",
       "      <td>1C</td>\n",
       "      <td>1.0</td>\n",
       "      <td>232.173281</td>\n",
       "      <td>Corn/Soy, Spring UAN</td>\n",
       "      <td>CS, SUAN</td>\n",
       "    </tr>\n",
       "    <tr>\n",
       "      <th>3</th>\n",
       "      <td>4</td>\n",
       "      <td>2</td>\n",
       "      <td>3.1</td>\n",
       "      <td>3.1</td>\n",
       "      <td>231.645855</td>\n",
       "      <td>Continuous Corn</td>\n",
       "      <td>CC</td>\n",
       "    </tr>\n",
       "    <tr>\n",
       "      <th>4</th>\n",
       "      <td>5</td>\n",
       "      <td>2</td>\n",
       "      <td>4.1</td>\n",
       "      <td>4.1</td>\n",
       "      <td>208.940519</td>\n",
       "      <td>Continuous Corn + PGC</td>\n",
       "      <td>CC + PGC</td>\n",
       "    </tr>\n",
       "    <tr>\n",
       "      <th>5</th>\n",
       "      <td>6</td>\n",
       "      <td>2</td>\n",
       "      <td>3.2</td>\n",
       "      <td>3.2</td>\n",
       "      <td>223.988531</td>\n",
       "      <td>Continuous Corn + 30 in ISC</td>\n",
       "      <td>CC + 30ISC</td>\n",
       "    </tr>\n",
       "    <tr>\n",
       "      <th>10</th>\n",
       "      <td>11</td>\n",
       "      <td>2</td>\n",
       "      <td>2C</td>\n",
       "      <td>2.0</td>\n",
       "      <td>237.683989</td>\n",
       "      <td>Corn/Soy, Spring Manure</td>\n",
       "      <td>CS, SM</td>\n",
       "    </tr>\n",
       "  </tbody>\n",
       "</table>\n",
       "</div>"
      ],
      "text/plain": [
       "    Plot Number  Block Treatment  Simp. Treatment  Yield (avg; bu/ac)  \\\n",
       "2             3      2        1C              1.0          232.173281   \n",
       "3             4      2       3.1              3.1          231.645855   \n",
       "4             5      2       4.1              4.1          208.940519   \n",
       "5             6      2       3.2              3.2          223.988531   \n",
       "10           11      2        2C              2.0          237.683989   \n",
       "\n",
       "          Treatment Description Short Trt Description  \n",
       "2          Corn/Soy, Spring UAN              CS, SUAN  \n",
       "3               Continuous Corn                    CC  \n",
       "4         Continuous Corn + PGC              CC + PGC  \n",
       "5   Continuous Corn + 30 in ISC            CC + 30ISC  \n",
       "10      Corn/Soy, Spring Manure                CS, SM  "
      ]
     },
     "execution_count": 9,
     "metadata": {},
     "output_type": "execute_result"
    }
   ],
   "source": [
    "corn_only = yield_data[yield_data['Treatment'].str.contains('1C|2C|3.1|3.2|4.1|4.2|5C|6C')]\n",
    "corn_only.head()"
   ]
  },
  {
   "cell_type": "code",
   "execution_count": 10,
   "id": "8afc2fe2",
   "metadata": {},
   "outputs": [
    {
     "data": {
      "text/plain": [
       "24"
      ]
     },
     "execution_count": 10,
     "metadata": {},
     "output_type": "execute_result"
    }
   ],
   "source": [
    "len(corn_only)"
   ]
  },
  {
   "cell_type": "markdown",
   "id": "2e61ba81",
   "metadata": {},
   "source": [
    "Making sure all of the treatments were included. There are 8 treatments with corn growing and each treatment has three reps, so 24 is correct. "
   ]
  },
  {
   "cell_type": "code",
   "execution_count": 11,
   "id": "3fc35598",
   "metadata": {},
   "outputs": [
    {
     "data": {
      "image/png": "[encoded data removed]",
      "text/plain": [
       "<Figure size 432x288 with 1 Axes>"
      ]
     },
     "metadata": {
      "needs_background": "light"
     },
     "output_type": "display_data"
    }
   ],
   "source": [
    "ax = sns.boxplot(x = \"Treatment\", y = \"Yield (avg; bu/ac)\", data = corn_only, hue = 'Short Trt Description', dodge = False)\n",
    "plt.legend(bbox_to_anchor=(1.05, 1), loc=2, borderaxespad=0.)\n",
    "plt.savefig('corn_yield_box.jpg', bbox_inches='tight')"
   ]
  },
  {
   "cell_type": "code",
   "execution_count": 12,
   "id": "78be2b0b",
   "metadata": {},
   "outputs": [
    {
     "data": {
      "text/html": [
       "<div>\n",
       "<style scoped>\n",
       "    .dataframe tbody tr th:only-of-type {\n",
       "        vertical-align: middle;\n",
       "    }\n",
       "\n",
       "    .dataframe tbody tr th {\n",
       "        vertical-align: top;\n",
       "    }\n",
       "\n",
       "    .dataframe thead th {\n",
       "        text-align: right;\n",
       "    }\n",
       "</style>\n",
       "<table border=\"1\" class=\"dataframe\">\n",
       "  <thead>\n",
       "    <tr style=\"text-align: right;\">\n",
       "      <th></th>\n",
       "      <th>Plot Number</th>\n",
       "      <th>Block</th>\n",
       "      <th>Treatment</th>\n",
       "      <th>Simp. Treatment</th>\n",
       "      <th>Yield (avg; bu/ac)</th>\n",
       "      <th>Treatment Description</th>\n",
       "      <th>Short Trt Description</th>\n",
       "    </tr>\n",
       "  </thead>\n",
       "  <tbody>\n",
       "    <tr>\n",
       "      <th>0</th>\n",
       "      <td>1</td>\n",
       "      <td>2</td>\n",
       "      <td>2S</td>\n",
       "      <td>2.0</td>\n",
       "      <td>75.328418</td>\n",
       "      <td>Corn/Soy, Spring Manure</td>\n",
       "      <td>CS, SM</td>\n",
       "    </tr>\n",
       "    <tr>\n",
       "      <th>1</th>\n",
       "      <td>2</td>\n",
       "      <td>2</td>\n",
       "      <td>6S</td>\n",
       "      <td>6.0</td>\n",
       "      <td>77.482016</td>\n",
       "      <td>Corn/Soy, Fall Manure</td>\n",
       "      <td>CS, FM</td>\n",
       "    </tr>\n",
       "    <tr>\n",
       "      <th>6</th>\n",
       "      <td>7</td>\n",
       "      <td>3</td>\n",
       "      <td>2S</td>\n",
       "      <td>2.0</td>\n",
       "      <td>75.667936</td>\n",
       "      <td>Corn/Soy, Spring Manure</td>\n",
       "      <td>CS, SM</td>\n",
       "    </tr>\n",
       "    <tr>\n",
       "      <th>7</th>\n",
       "      <td>8</td>\n",
       "      <td>3</td>\n",
       "      <td>5S</td>\n",
       "      <td>5.0</td>\n",
       "      <td>71.839370</td>\n",
       "      <td>Corn/Soy + Rye</td>\n",
       "      <td>CS + R</td>\n",
       "    </tr>\n",
       "    <tr>\n",
       "      <th>8</th>\n",
       "      <td>9</td>\n",
       "      <td>2</td>\n",
       "      <td>5S</td>\n",
       "      <td>5.0</td>\n",
       "      <td>72.610892</td>\n",
       "      <td>Corn/Soy + Rye</td>\n",
       "      <td>CS + R</td>\n",
       "    </tr>\n",
       "  </tbody>\n",
       "</table>\n",
       "</div>"
      ],
      "text/plain": [
       "   Plot Number  Block Treatment  Simp. Treatment  Yield (avg; bu/ac)  \\\n",
       "0            1      2        2S              2.0           75.328418   \n",
       "1            2      2        6S              6.0           77.482016   \n",
       "6            7      3        2S              2.0           75.667936   \n",
       "7            8      3        5S              5.0           71.839370   \n",
       "8            9      2        5S              5.0           72.610892   \n",
       "\n",
       "     Treatment Description Short Trt Description  \n",
       "0  Corn/Soy, Spring Manure                CS, SM  \n",
       "1    Corn/Soy, Fall Manure                CS, FM  \n",
       "6  Corn/Soy, Spring Manure                CS, SM  \n",
       "7           Corn/Soy + Rye                CS + R  \n",
       "8           Corn/Soy + Rye                CS + R  "
      ]
     },
     "execution_count": 12,
     "metadata": {},
     "output_type": "execute_result"
    }
   ],
   "source": [
    "soy_only = yield_data[yield_data['Treatment'].str.contains('1S|2S|5S|6S')]\n",
    "soy_only.head()"
   ]
  },
  {
   "cell_type": "code",
   "execution_count": 13,
   "id": "5cfed28a",
   "metadata": {},
   "outputs": [
    {
     "data": {
      "image/png": "[encoded data removed]",
      "text/plain": [
       "<Figure size 432x288 with 1 Axes>"
      ]
     },
     "metadata": {
      "needs_background": "light"
     },
     "output_type": "display_data"
    }
   ],
   "source": [
    "ax = sns.boxplot(x = \"Treatment\", y = \"Yield (avg; bu/ac)\", data = soy_only, hue = 'Short Trt Description', dodge = False)\n",
    "plt.legend(bbox_to_anchor=(1.05, 1), loc=2, borderaxespad=0.)\n",
    "plt.savefig('soy_yield_box.jpg', bbox_inches='tight')"
   ]
  },
  {
   "cell_type": "code",
   "execution_count": 18,
   "id": "f04718ac",
   "metadata": {},
   "outputs": [],
   "source": [
    "corn_only = corn_only.rename(columns={\"Yield (avg; bu/ac)\": \"Yield\"})"
   ]
  },
  {
   "cell_type": "code",
   "execution_count": 19,
   "id": "e2cadc5c",
   "metadata": {},
   "outputs": [
    {
     "data": {
      "text/html": [
       "<div>\n",
       "<style scoped>\n",
       "    .dataframe tbody tr th:only-of-type {\n",
       "        vertical-align: middle;\n",
       "    }\n",
       "\n",
       "    .dataframe tbody tr th {\n",
       "        vertical-align: top;\n",
       "    }\n",
       "\n",
       "    .dataframe thead th {\n",
       "        text-align: right;\n",
       "    }\n",
       "</style>\n",
       "<table border=\"1\" class=\"dataframe\">\n",
       "  <thead>\n",
       "    <tr style=\"text-align: right;\">\n",
       "      <th></th>\n",
       "      <th>Plot Number</th>\n",
       "      <th>Block</th>\n",
       "      <th>Treatment</th>\n",
       "      <th>Simp. Treatment</th>\n",
       "      <th>Yield</th>\n",
       "      <th>Treatment Description</th>\n",
       "      <th>Short Trt Description</th>\n",
       "    </tr>\n",
       "  </thead>\n",
       "  <tbody>\n",
       "    <tr>\n",
       "      <th>2</th>\n",
       "      <td>3</td>\n",
       "      <td>2</td>\n",
       "      <td>1C</td>\n",
       "      <td>1.0</td>\n",
       "      <td>232.173281</td>\n",
       "      <td>Corn/Soy, Spring UAN</td>\n",
       "      <td>CS, SUAN</td>\n",
       "    </tr>\n",
       "    <tr>\n",
       "      <th>3</th>\n",
       "      <td>4</td>\n",
       "      <td>2</td>\n",
       "      <td>3.1</td>\n",
       "      <td>3.1</td>\n",
       "      <td>231.645855</td>\n",
       "      <td>Continuous Corn</td>\n",
       "      <td>CC</td>\n",
       "    </tr>\n",
       "    <tr>\n",
       "      <th>4</th>\n",
       "      <td>5</td>\n",
       "      <td>2</td>\n",
       "      <td>4.1</td>\n",
       "      <td>4.1</td>\n",
       "      <td>208.940519</td>\n",
       "      <td>Continuous Corn + PGC</td>\n",
       "      <td>CC + PGC</td>\n",
       "    </tr>\n",
       "    <tr>\n",
       "      <th>5</th>\n",
       "      <td>6</td>\n",
       "      <td>2</td>\n",
       "      <td>3.2</td>\n",
       "      <td>3.2</td>\n",
       "      <td>223.988531</td>\n",
       "      <td>Continuous Corn + 30 in ISC</td>\n",
       "      <td>CC + 30ISC</td>\n",
       "    </tr>\n",
       "    <tr>\n",
       "      <th>10</th>\n",
       "      <td>11</td>\n",
       "      <td>2</td>\n",
       "      <td>2C</td>\n",
       "      <td>2.0</td>\n",
       "      <td>237.683989</td>\n",
       "      <td>Corn/Soy, Spring Manure</td>\n",
       "      <td>CS, SM</td>\n",
       "    </tr>\n",
       "    <tr>\n",
       "      <th>11</th>\n",
       "      <td>12</td>\n",
       "      <td>2</td>\n",
       "      <td>5C</td>\n",
       "      <td>5.0</td>\n",
       "      <td>229.933270</td>\n",
       "      <td>Corn/Soy + Rye</td>\n",
       "      <td>CS + R</td>\n",
       "    </tr>\n",
       "    <tr>\n",
       "      <th>12</th>\n",
       "      <td>13</td>\n",
       "      <td>2</td>\n",
       "      <td>4.2</td>\n",
       "      <td>4.2</td>\n",
       "      <td>179.638775</td>\n",
       "      <td>Continuous Corn + 60in ISC</td>\n",
       "      <td>CC + 60ISC</td>\n",
       "    </tr>\n",
       "    <tr>\n",
       "      <th>13</th>\n",
       "      <td>14</td>\n",
       "      <td>2</td>\n",
       "      <td>6C</td>\n",
       "      <td>6.0</td>\n",
       "      <td>239.973125</td>\n",
       "      <td>Corn/Soy, Fall Manure</td>\n",
       "      <td>CS, FM</td>\n",
       "    </tr>\n",
       "    <tr>\n",
       "      <th>16</th>\n",
       "      <td>17</td>\n",
       "      <td>1</td>\n",
       "      <td>5C</td>\n",
       "      <td>5.0</td>\n",
       "      <td>214.635798</td>\n",
       "      <td>Corn/Soy + Rye</td>\n",
       "      <td>CS + R</td>\n",
       "    </tr>\n",
       "    <tr>\n",
       "      <th>17</th>\n",
       "      <td>18</td>\n",
       "      <td>1</td>\n",
       "      <td>3.1</td>\n",
       "      <td>3.1</td>\n",
       "      <td>225.744819</td>\n",
       "      <td>Continuous Corn</td>\n",
       "      <td>CC</td>\n",
       "    </tr>\n",
       "    <tr>\n",
       "      <th>20</th>\n",
       "      <td>21</td>\n",
       "      <td>1</td>\n",
       "      <td>4.1</td>\n",
       "      <td>4.1</td>\n",
       "      <td>212.613434</td>\n",
       "      <td>Continuous Corn + PGC</td>\n",
       "      <td>CC + PGC</td>\n",
       "    </tr>\n",
       "    <tr>\n",
       "      <th>21</th>\n",
       "      <td>22</td>\n",
       "      <td>1</td>\n",
       "      <td>4.2</td>\n",
       "      <td>4.2</td>\n",
       "      <td>174.955895</td>\n",
       "      <td>Continuous Corn + 60in ISC</td>\n",
       "      <td>CC + 60ISC</td>\n",
       "    </tr>\n",
       "    <tr>\n",
       "      <th>22</th>\n",
       "      <td>23</td>\n",
       "      <td>3</td>\n",
       "      <td>2C</td>\n",
       "      <td>2.0</td>\n",
       "      <td>235.878142</td>\n",
       "      <td>Corn/Soy, Spring Manure</td>\n",
       "      <td>CS, SM</td>\n",
       "    </tr>\n",
       "    <tr>\n",
       "      <th>23</th>\n",
       "      <td>24</td>\n",
       "      <td>3</td>\n",
       "      <td>1C</td>\n",
       "      <td>1.0</td>\n",
       "      <td>221.982221</td>\n",
       "      <td>Corn/Soy, Spring UAN</td>\n",
       "      <td>CS, SUAN</td>\n",
       "    </tr>\n",
       "    <tr>\n",
       "      <th>24</th>\n",
       "      <td>25</td>\n",
       "      <td>3</td>\n",
       "      <td>6C</td>\n",
       "      <td>6.0</td>\n",
       "      <td>242.690536</td>\n",
       "      <td>Corn/Soy, Fall Manure</td>\n",
       "      <td>CS, FM</td>\n",
       "    </tr>\n",
       "    <tr>\n",
       "      <th>25</th>\n",
       "      <td>26</td>\n",
       "      <td>3</td>\n",
       "      <td>4.1</td>\n",
       "      <td>4.1</td>\n",
       "      <td>224.553810</td>\n",
       "      <td>Continuous Corn + PGC</td>\n",
       "      <td>CC + PGC</td>\n",
       "    </tr>\n",
       "    <tr>\n",
       "      <th>26</th>\n",
       "      <td>27</td>\n",
       "      <td>1</td>\n",
       "      <td>2C</td>\n",
       "      <td>2.0</td>\n",
       "      <td>242.054538</td>\n",
       "      <td>Corn/Soy, Spring Manure</td>\n",
       "      <td>CS, SM</td>\n",
       "    </tr>\n",
       "    <tr>\n",
       "      <th>27</th>\n",
       "      <td>28</td>\n",
       "      <td>1</td>\n",
       "      <td>1C</td>\n",
       "      <td>1.0</td>\n",
       "      <td>218.430571</td>\n",
       "      <td>Corn/Soy, Spring UAN</td>\n",
       "      <td>CS, SUAN</td>\n",
       "    </tr>\n",
       "    <tr>\n",
       "      <th>30</th>\n",
       "      <td>31</td>\n",
       "      <td>1</td>\n",
       "      <td>6C</td>\n",
       "      <td>6.0</td>\n",
       "      <td>241.981279</td>\n",
       "      <td>Corn/Soy, Fall Manure</td>\n",
       "      <td>CS, FM</td>\n",
       "    </tr>\n",
       "    <tr>\n",
       "      <th>31</th>\n",
       "      <td>32</td>\n",
       "      <td>1</td>\n",
       "      <td>3.2</td>\n",
       "      <td>3.2</td>\n",
       "      <td>214.282805</td>\n",
       "      <td>Continuous Corn + 30 in ISC</td>\n",
       "      <td>CC + 30ISC</td>\n",
       "    </tr>\n",
       "    <tr>\n",
       "      <th>32</th>\n",
       "      <td>33</td>\n",
       "      <td>3</td>\n",
       "      <td>3.1</td>\n",
       "      <td>3.1</td>\n",
       "      <td>226.954749</td>\n",
       "      <td>Continuous Corn</td>\n",
       "      <td>CC</td>\n",
       "    </tr>\n",
       "    <tr>\n",
       "      <th>33</th>\n",
       "      <td>34</td>\n",
       "      <td>3</td>\n",
       "      <td>5C</td>\n",
       "      <td>5.0</td>\n",
       "      <td>226.563653</td>\n",
       "      <td>Corn/Soy + Rye</td>\n",
       "      <td>CS + R</td>\n",
       "    </tr>\n",
       "    <tr>\n",
       "      <th>34</th>\n",
       "      <td>35</td>\n",
       "      <td>3</td>\n",
       "      <td>4.2</td>\n",
       "      <td>4.2</td>\n",
       "      <td>174.586423</td>\n",
       "      <td>Continuous Corn + 60in ISC</td>\n",
       "      <td>CC + 60ISC</td>\n",
       "    </tr>\n",
       "    <tr>\n",
       "      <th>35</th>\n",
       "      <td>36</td>\n",
       "      <td>3</td>\n",
       "      <td>3.2</td>\n",
       "      <td>3.2</td>\n",
       "      <td>233.153352</td>\n",
       "      <td>Continuous Corn + 30 in ISC</td>\n",
       "      <td>CC + 30ISC</td>\n",
       "    </tr>\n",
       "  </tbody>\n",
       "</table>\n",
       "</div>"
      ],
      "text/plain": [
       "    Plot Number  Block Treatment  Simp. Treatment       Yield  \\\n",
       "2             3      2        1C              1.0  232.173281   \n",
       "3             4      2       3.1              3.1  231.645855   \n",
       "4             5      2       4.1              4.1  208.940519   \n",
       "5             6      2       3.2              3.2  223.988531   \n",
       "10           11      2        2C              2.0  237.683989   \n",
       "11           12      2        5C              5.0  229.933270   \n",
       "12           13      2       4.2              4.2  179.638775   \n",
       "13           14      2        6C              6.0  239.973125   \n",
       "16           17      1        5C              5.0  214.635798   \n",
       "17           18      1       3.1              3.1  225.744819   \n",
       "20           21      1       4.1              4.1  212.613434   \n",
       "21           22      1       4.2              4.2  174.955895   \n",
       "22           23      3        2C              2.0  235.878142   \n",
       "23           24      3        1C              1.0  221.982221   \n",
       "24           25      3        6C              6.0  242.690536   \n",
       "25           26      3       4.1              4.1  224.553810   \n",
       "26           27      1        2C              2.0  242.054538   \n",
       "27           28      1        1C              1.0  218.430571   \n",
       "30           31      1        6C              6.0  241.981279   \n",
       "31           32      1       3.2              3.2  214.282805   \n",
       "32           33      3       3.1              3.1  226.954749   \n",
       "33           34      3        5C              5.0  226.563653   \n",
       "34           35      3       4.2              4.2  174.586423   \n",
       "35           36      3       3.2              3.2  233.153352   \n",
       "\n",
       "          Treatment Description Short Trt Description  \n",
       "2          Corn/Soy, Spring UAN              CS, SUAN  \n",
       "3               Continuous Corn                    CC  \n",
       "4         Continuous Corn + PGC              CC + PGC  \n",
       "5   Continuous Corn + 30 in ISC            CC + 30ISC  \n",
       "10      Corn/Soy, Spring Manure                CS, SM  \n",
       "11               Corn/Soy + Rye                CS + R  \n",
       "12   Continuous Corn + 60in ISC            CC + 60ISC  \n",
       "13        Corn/Soy, Fall Manure                CS, FM  \n",
       "16               Corn/Soy + Rye                CS + R  \n",
       "17              Continuous Corn                    CC  \n",
       "20        Continuous Corn + PGC              CC + PGC  \n",
       "21   Continuous Corn + 60in ISC            CC + 60ISC  \n",
       "22      Corn/Soy, Spring Manure                CS, SM  \n",
       "23         Corn/Soy, Spring UAN              CS, SUAN  \n",
       "24        Corn/Soy, Fall Manure                CS, FM  \n",
       "25        Continuous Corn + PGC              CC + PGC  \n",
       "26      Corn/Soy, Spring Manure                CS, SM  \n",
       "27         Corn/Soy, Spring UAN              CS, SUAN  \n",
       "30        Corn/Soy, Fall Manure                CS, FM  \n",
       "31  Continuous Corn + 30 in ISC            CC + 30ISC  \n",
       "32              Continuous Corn                    CC  \n",
       "33               Corn/Soy + Rye                CS + R  \n",
       "34   Continuous Corn + 60in ISC            CC + 60ISC  \n",
       "35  Continuous Corn + 30 in ISC            CC + 30ISC  "
      ]
     },
     "execution_count": 19,
     "metadata": {},
     "output_type": "execute_result"
    }
   ],
   "source": [
    "corn_only"
   ]
  },
  {
   "cell_type": "code",
   "execution_count": 28,
   "id": "517d5aea",
   "metadata": {},
   "outputs": [
    {
     "data": {
      "text/plain": [
       "<AxesSubplot:title={'center':'Mean Yield of Corn Treatments'}, xlabel='Treatment'>"
      ]
     },
     "execution_count": 28,
     "metadata": {},
     "output_type": "execute_result"
    },
    {
     "data": {
      "image/png": "[encoded data removed]",
      "text/plain": [
       "<Figure size 432x288 with 1 Axes>"
      ]
     },
     "metadata": {
      "needs_background": "light"
     },
     "output_type": "display_data"
    }
   ],
   "source": [
    "corn_only.groupby('Treatment')['Yield'].describe()['mean'].plot(kind='bar', title = 'Mean Yield of Corn Treatments')"
   ]
  },
  {
   "cell_type": "code",
   "execution_count": 50,
   "id": "4341c644",
   "metadata": {},
   "outputs": [
    {
     "data": {
      "text/html": [
       "<div>\n",
       "<style scoped>\n",
       "    .dataframe tbody tr th:only-of-type {\n",
       "        vertical-align: middle;\n",
       "    }\n",
       "\n",
       "    .dataframe tbody tr th {\n",
       "        vertical-align: top;\n",
       "    }\n",
       "\n",
       "    .dataframe thead th {\n",
       "        text-align: right;\n",
       "    }\n",
       "</style>\n",
       "<table border=\"1\" class=\"dataframe\">\n",
       "  <thead>\n",
       "    <tr style=\"text-align: right;\">\n",
       "      <th></th>\n",
       "      <th>Treatment</th>\n",
       "      <th>mean</th>\n",
       "    </tr>\n",
       "  </thead>\n",
       "  <tbody>\n",
       "    <tr>\n",
       "      <th>0</th>\n",
       "      <td>1C</td>\n",
       "      <td>224.195358</td>\n",
       "    </tr>\n",
       "    <tr>\n",
       "      <th>1</th>\n",
       "      <td>2C</td>\n",
       "      <td>238.538890</td>\n",
       "    </tr>\n",
       "    <tr>\n",
       "      <th>2</th>\n",
       "      <td>3.1</td>\n",
       "      <td>228.115141</td>\n",
       "    </tr>\n",
       "    <tr>\n",
       "      <th>3</th>\n",
       "      <td>3.2</td>\n",
       "      <td>223.808229</td>\n",
       "    </tr>\n",
       "    <tr>\n",
       "      <th>4</th>\n",
       "      <td>4.1</td>\n",
       "      <td>215.369255</td>\n",
       "    </tr>\n",
       "  </tbody>\n",
       "</table>\n",
       "</div>"
      ],
      "text/plain": [
       "  Treatment        mean\n",
       "0        1C  224.195358\n",
       "1        2C  238.538890\n",
       "2       3.1  228.115141\n",
       "3       3.2  223.808229\n",
       "4       4.1  215.369255"
      ]
     },
     "execution_count": 50,
     "metadata": {},
     "output_type": "execute_result"
    }
   ],
   "source": [
    "corn_means = pd.DataFrame(corn_only.groupby('Treatment')['Yield'].describe()['mean'])\n",
    "corn_means = corn_means.reset_index()\n",
    "corn_means.head()"
   ]
  },
  {
   "cell_type": "code",
   "execution_count": 52,
   "id": "8d6850e0",
   "metadata": {},
   "outputs": [
    {
     "name": "stdout",
     "output_type": "stream",
     "text": [
      "Index(['Treatment', 'mean'], dtype='object')\n"
     ]
    }
   ],
   "source": [
    "print(corn_means.columns)"
   ]
  },
  {
   "cell_type": "code",
   "execution_count": 61,
   "id": "7126683e",
   "metadata": {},
   "outputs": [
    {
     "data": {
      "image/png": "[encoded data removed]",
      "text/plain": [
       "<Figure size 432x288 with 1 Axes>"
      ]
     },
     "metadata": {
      "needs_background": "light"
     },
     "output_type": "display_data"
    }
   ],
   "source": [
    "ax = sns.barplot(x = 'Treatment', y = 'mean', data = corn_means)\n",
    "ax.set_title('2021 Yield of Corn Treatments')\n",
    "ax.set(xlabel='Treatment', ylabel='Mean Yield (bu/ac)')\n",
    "\n",
    "#for annotating \n",
    "for p in ax.patches:\n",
    "             ax.annotate(\"%.0f\" % p.get_height(), (p.get_x() + p.get_width() / 2., p.get_height()),\n",
    "                 ha='center', va='center', fontsize=10, color='black', xytext=(0, 5),\n",
    "                 textcoords='offset points')\n",
    "        \n",
    "plt.savefig('corn_bar.jpg', bbox_inches='tight')"
   ]
  },
  {
   "cell_type": "code",
   "execution_count": 22,
   "id": "e5f5dab9",
   "metadata": {},
   "outputs": [
    {
     "ename": "TypeError",
     "evalue": "Cannot interpret 'StringDtype' as a data type",
     "output_type": "error",
     "traceback": [
      "\u001b[1;31m---------------------------------------------------------------------------\u001b[0m",
      "\u001b[1;31mTypeError\u001b[0m                                 Traceback (most recent call last)",
      "\u001b[1;32m<ipython-input-22-f01401b474c4>\u001b[0m in \u001b[0;36m<module>\u001b[1;34m\u001b[0m\n\u001b[0;32m      1\u001b[0m \u001b[0mcorn_formula\u001b[0m \u001b[1;33m=\u001b[0m \u001b[1;34m'Yield ~C(Block)+C(Treatment)+C(Block):C(Treatment)'\u001b[0m\u001b[1;33m\u001b[0m\u001b[1;33m\u001b[0m\u001b[0m\n\u001b[1;32m----> 2\u001b[1;33m \u001b[0mmodel\u001b[0m \u001b[1;33m=\u001b[0m \u001b[0mols\u001b[0m\u001b[1;33m(\u001b[0m\u001b[0mcorn_formula\u001b[0m\u001b[1;33m,\u001b[0m \u001b[0mcorn_only\u001b[0m\u001b[1;33m)\u001b[0m\u001b[1;33m.\u001b[0m\u001b[0mfit\u001b[0m\u001b[1;33m(\u001b[0m\u001b[1;33m)\u001b[0m\u001b[1;33m\u001b[0m\u001b[1;33m\u001b[0m\u001b[0m\n\u001b[0m\u001b[0;32m      3\u001b[0m \u001b[0maov_table\u001b[0m \u001b[1;33m=\u001b[0m \u001b[0manova_lm\u001b[0m\u001b[1;33m(\u001b[0m\u001b[0mmodel\u001b[0m\u001b[1;33m,\u001b[0m \u001b[0mtyp\u001b[0m \u001b[1;33m=\u001b[0m \u001b[1;36m2\u001b[0m\u001b[1;33m)\u001b[0m\u001b[1;33m\u001b[0m\u001b[1;33m\u001b[0m\u001b[0m\n\u001b[0;32m      4\u001b[0m \u001b[0mprint\u001b[0m\u001b[1;33m(\u001b[0m\u001b[0maov_table\u001b[0m\u001b[1;33m)\u001b[0m\u001b[1;33m\u001b[0m\u001b[1;33m\u001b[0m\u001b[0m\n",
      "\u001b[1;32m~\\Anaconda3\\lib\\site-packages\\statsmodels\\base\\model.py\u001b[0m in \u001b[0;36mfrom_formula\u001b[1;34m(cls, formula, data, subset, drop_cols, *args, **kwargs)\u001b[0m\n\u001b[0;32m    167\u001b[0m             \u001b[0mmissing\u001b[0m \u001b[1;33m=\u001b[0m \u001b[1;34m'raise'\u001b[0m\u001b[1;33m\u001b[0m\u001b[1;33m\u001b[0m\u001b[0m\n\u001b[0;32m    168\u001b[0m \u001b[1;33m\u001b[0m\u001b[0m\n\u001b[1;32m--> 169\u001b[1;33m         tmp = handle_formula_data(data, None, formula, depth=eval_env,\n\u001b[0m\u001b[0;32m    170\u001b[0m                                   missing=missing)\n\u001b[0;32m    171\u001b[0m         \u001b[1;33m(\u001b[0m\u001b[1;33m(\u001b[0m\u001b[0mendog\u001b[0m\u001b[1;33m,\u001b[0m \u001b[0mexog\u001b[0m\u001b[1;33m)\u001b[0m\u001b[1;33m,\u001b[0m \u001b[0mmissing_idx\u001b[0m\u001b[1;33m,\u001b[0m \u001b[0mdesign_info\u001b[0m\u001b[1;33m)\u001b[0m \u001b[1;33m=\u001b[0m \u001b[0mtmp\u001b[0m\u001b[1;33m\u001b[0m\u001b[1;33m\u001b[0m\u001b[0m\n",
      "\u001b[1;32m~\\Anaconda3\\lib\\site-packages\\statsmodels\\formula\\formulatools.py\u001b[0m in \u001b[0;36mhandle_formula_data\u001b[1;34m(Y, X, formula, depth, missing)\u001b[0m\n\u001b[0;32m     61\u001b[0m     \u001b[1;32melse\u001b[0m\u001b[1;33m:\u001b[0m\u001b[1;33m\u001b[0m\u001b[1;33m\u001b[0m\u001b[0m\n\u001b[0;32m     62\u001b[0m         \u001b[1;32mif\u001b[0m \u001b[0mdata_util\u001b[0m\u001b[1;33m.\u001b[0m\u001b[0m_is_using_pandas\u001b[0m\u001b[1;33m(\u001b[0m\u001b[0mY\u001b[0m\u001b[1;33m,\u001b[0m \u001b[1;32mNone\u001b[0m\u001b[1;33m)\u001b[0m\u001b[1;33m:\u001b[0m\u001b[1;33m\u001b[0m\u001b[1;33m\u001b[0m\u001b[0m\n\u001b[1;32m---> 63\u001b[1;33m             result = dmatrices(formula, Y, depth, return_type='dataframe',\n\u001b[0m\u001b[0;32m     64\u001b[0m                                NA_action=na_action)\n\u001b[0;32m     65\u001b[0m         \u001b[1;32melse\u001b[0m\u001b[1;33m:\u001b[0m\u001b[1;33m\u001b[0m\u001b[1;33m\u001b[0m\u001b[0m\n",
      "\u001b[1;32m~\\Anaconda3\\lib\\site-packages\\patsy\\highlevel.py\u001b[0m in \u001b[0;36mdmatrices\u001b[1;34m(formula_like, data, eval_env, NA_action, return_type)\u001b[0m\n\u001b[0;32m    307\u001b[0m     \"\"\"\n\u001b[0;32m    308\u001b[0m     \u001b[0meval_env\u001b[0m \u001b[1;33m=\u001b[0m \u001b[0mEvalEnvironment\u001b[0m\u001b[1;33m.\u001b[0m\u001b[0mcapture\u001b[0m\u001b[1;33m(\u001b[0m\u001b[0meval_env\u001b[0m\u001b[1;33m,\u001b[0m \u001b[0mreference\u001b[0m\u001b[1;33m=\u001b[0m\u001b[1;36m1\u001b[0m\u001b[1;33m)\u001b[0m\u001b[1;33m\u001b[0m\u001b[1;33m\u001b[0m\u001b[0m\n\u001b[1;32m--> 309\u001b[1;33m     (lhs, rhs) = _do_highlevel_design(formula_like, data, eval_env,\n\u001b[0m\u001b[0;32m    310\u001b[0m                                       NA_action, return_type)\n\u001b[0;32m    311\u001b[0m     \u001b[1;32mif\u001b[0m \u001b[0mlhs\u001b[0m\u001b[1;33m.\u001b[0m\u001b[0mshape\u001b[0m\u001b[1;33m[\u001b[0m\u001b[1;36m1\u001b[0m\u001b[1;33m]\u001b[0m \u001b[1;33m==\u001b[0m \u001b[1;36m0\u001b[0m\u001b[1;33m:\u001b[0m\u001b[1;33m\u001b[0m\u001b[1;33m\u001b[0m\u001b[0m\n",
      "\u001b[1;32m~\\Anaconda3\\lib\\site-packages\\patsy\\highlevel.py\u001b[0m in \u001b[0;36m_do_highlevel_design\u001b[1;34m(formula_like, data, eval_env, NA_action, return_type)\u001b[0m\n\u001b[0;32m    162\u001b[0m     \u001b[1;32mdef\u001b[0m \u001b[0mdata_iter_maker\u001b[0m\u001b[1;33m(\u001b[0m\u001b[1;33m)\u001b[0m\u001b[1;33m:\u001b[0m\u001b[1;33m\u001b[0m\u001b[1;33m\u001b[0m\u001b[0m\n\u001b[0;32m    163\u001b[0m         \u001b[1;32mreturn\u001b[0m \u001b[0miter\u001b[0m\u001b[1;33m(\u001b[0m\u001b[1;33m[\u001b[0m\u001b[0mdata\u001b[0m\u001b[1;33m]\u001b[0m\u001b[1;33m)\u001b[0m\u001b[1;33m\u001b[0m\u001b[1;33m\u001b[0m\u001b[0m\n\u001b[1;32m--> 164\u001b[1;33m     design_infos = _try_incr_builders(formula_like, data_iter_maker, eval_env,\n\u001b[0m\u001b[0;32m    165\u001b[0m                                       NA_action)\n\u001b[0;32m    166\u001b[0m     \u001b[1;32mif\u001b[0m \u001b[0mdesign_infos\u001b[0m \u001b[1;32mis\u001b[0m \u001b[1;32mnot\u001b[0m \u001b[1;32mNone\u001b[0m\u001b[1;33m:\u001b[0m\u001b[1;33m\u001b[0m\u001b[1;33m\u001b[0m\u001b[0m\n",
      "\u001b[1;32m~\\Anaconda3\\lib\\site-packages\\patsy\\highlevel.py\u001b[0m in \u001b[0;36m_try_incr_builders\u001b[1;34m(formula_like, data_iter_maker, eval_env, NA_action)\u001b[0m\n\u001b[0;32m     64\u001b[0m     \u001b[1;32mif\u001b[0m \u001b[0misinstance\u001b[0m\u001b[1;33m(\u001b[0m\u001b[0mformula_like\u001b[0m\u001b[1;33m,\u001b[0m \u001b[0mModelDesc\u001b[0m\u001b[1;33m)\u001b[0m\u001b[1;33m:\u001b[0m\u001b[1;33m\u001b[0m\u001b[1;33m\u001b[0m\u001b[0m\n\u001b[0;32m     65\u001b[0m         \u001b[1;32massert\u001b[0m \u001b[0misinstance\u001b[0m\u001b[1;33m(\u001b[0m\u001b[0meval_env\u001b[0m\u001b[1;33m,\u001b[0m \u001b[0mEvalEnvironment\u001b[0m\u001b[1;33m)\u001b[0m\u001b[1;33m\u001b[0m\u001b[1;33m\u001b[0m\u001b[0m\n\u001b[1;32m---> 66\u001b[1;33m         return design_matrix_builders([formula_like.lhs_termlist,\n\u001b[0m\u001b[0;32m     67\u001b[0m                                        formula_like.rhs_termlist],\n\u001b[0;32m     68\u001b[0m                                       \u001b[0mdata_iter_maker\u001b[0m\u001b[1;33m,\u001b[0m\u001b[1;33m\u001b[0m\u001b[1;33m\u001b[0m\u001b[0m\n",
      "\u001b[1;32m~\\Anaconda3\\lib\\site-packages\\patsy\\build.py\u001b[0m in \u001b[0;36mdesign_matrix_builders\u001b[1;34m(termlists, data_iter_maker, eval_env, NA_action)\u001b[0m\n\u001b[0;32m    691\u001b[0m     \u001b[1;31m# on some data to find out what type of data they return.\u001b[0m\u001b[1;33m\u001b[0m\u001b[1;33m\u001b[0m\u001b[1;33m\u001b[0m\u001b[0m\n\u001b[0;32m    692\u001b[0m     (num_column_counts,\n\u001b[1;32m--> 693\u001b[1;33m      \u001b[0mcat_levels_contrasts\u001b[0m\u001b[1;33m)\u001b[0m \u001b[1;33m=\u001b[0m \u001b[0m_examine_factor_types\u001b[0m\u001b[1;33m(\u001b[0m\u001b[0mall_factors\u001b[0m\u001b[1;33m,\u001b[0m\u001b[1;33m\u001b[0m\u001b[1;33m\u001b[0m\u001b[0m\n\u001b[0m\u001b[0;32m    694\u001b[0m                                                    \u001b[0mfactor_states\u001b[0m\u001b[1;33m,\u001b[0m\u001b[1;33m\u001b[0m\u001b[1;33m\u001b[0m\u001b[0m\n\u001b[0;32m    695\u001b[0m                                                    \u001b[0mdata_iter_maker\u001b[0m\u001b[1;33m,\u001b[0m\u001b[1;33m\u001b[0m\u001b[1;33m\u001b[0m\u001b[0m\n",
      "\u001b[1;32m~\\Anaconda3\\lib\\site-packages\\patsy\\build.py\u001b[0m in \u001b[0;36m_examine_factor_types\u001b[1;34m(factors, factor_states, data_iter_maker, NA_action)\u001b[0m\n\u001b[0;32m    446\u001b[0m                     cat_sniffers[factor] = CategoricalSniffer(NA_action,\n\u001b[0;32m    447\u001b[0m                                                               factor.origin)\n\u001b[1;32m--> 448\u001b[1;33m                 \u001b[0mdone\u001b[0m \u001b[1;33m=\u001b[0m \u001b[0mcat_sniffers\u001b[0m\u001b[1;33m[\u001b[0m\u001b[0mfactor\u001b[0m\u001b[1;33m]\u001b[0m\u001b[1;33m.\u001b[0m\u001b[0msniff\u001b[0m\u001b[1;33m(\u001b[0m\u001b[0mvalue\u001b[0m\u001b[1;33m)\u001b[0m\u001b[1;33m\u001b[0m\u001b[1;33m\u001b[0m\u001b[0m\n\u001b[0m\u001b[0;32m    449\u001b[0m                 \u001b[1;32mif\u001b[0m \u001b[0mdone\u001b[0m\u001b[1;33m:\u001b[0m\u001b[1;33m\u001b[0m\u001b[1;33m\u001b[0m\u001b[0m\n\u001b[0;32m    450\u001b[0m                     \u001b[0mexamine_needed\u001b[0m\u001b[1;33m.\u001b[0m\u001b[0mremove\u001b[0m\u001b[1;33m(\u001b[0m\u001b[0mfactor\u001b[0m\u001b[1;33m)\u001b[0m\u001b[1;33m\u001b[0m\u001b[1;33m\u001b[0m\u001b[0m\n",
      "\u001b[1;32m~\\Anaconda3\\lib\\site-packages\\patsy\\categorical.py\u001b[0m in \u001b[0;36msniff\u001b[1;34m(self, data)\u001b[0m\n\u001b[0;32m    196\u001b[0m         \u001b[1;31m# fastpath to avoid doing an item-by-item iteration over boolean\u001b[0m\u001b[1;33m\u001b[0m\u001b[1;33m\u001b[0m\u001b[1;33m\u001b[0m\u001b[0m\n\u001b[0;32m    197\u001b[0m         \u001b[1;31m# arrays, as requested by #44\u001b[0m\u001b[1;33m\u001b[0m\u001b[1;33m\u001b[0m\u001b[1;33m\u001b[0m\u001b[0m\n\u001b[1;32m--> 198\u001b[1;33m         \u001b[1;32mif\u001b[0m \u001b[0mhasattr\u001b[0m\u001b[1;33m(\u001b[0m\u001b[0mdata\u001b[0m\u001b[1;33m,\u001b[0m \u001b[1;34m\"dtype\"\u001b[0m\u001b[1;33m)\u001b[0m \u001b[1;32mand\u001b[0m \u001b[0msafe_issubdtype\u001b[0m\u001b[1;33m(\u001b[0m\u001b[0mdata\u001b[0m\u001b[1;33m.\u001b[0m\u001b[0mdtype\u001b[0m\u001b[1;33m,\u001b[0m \u001b[0mnp\u001b[0m\u001b[1;33m.\u001b[0m\u001b[0mbool_\u001b[0m\u001b[1;33m)\u001b[0m\u001b[1;33m:\u001b[0m\u001b[1;33m\u001b[0m\u001b[1;33m\u001b[0m\u001b[0m\n\u001b[0m\u001b[0;32m    199\u001b[0m             \u001b[0mself\u001b[0m\u001b[1;33m.\u001b[0m\u001b[0m_level_set\u001b[0m \u001b[1;33m=\u001b[0m \u001b[0mset\u001b[0m\u001b[1;33m(\u001b[0m\u001b[1;33m[\u001b[0m\u001b[1;32mTrue\u001b[0m\u001b[1;33m,\u001b[0m \u001b[1;32mFalse\u001b[0m\u001b[1;33m]\u001b[0m\u001b[1;33m)\u001b[0m\u001b[1;33m\u001b[0m\u001b[1;33m\u001b[0m\u001b[0m\n\u001b[0;32m    200\u001b[0m             \u001b[1;32mreturn\u001b[0m \u001b[1;32mTrue\u001b[0m\u001b[1;33m\u001b[0m\u001b[1;33m\u001b[0m\u001b[0m\n",
      "\u001b[1;32m~\\Anaconda3\\lib\\site-packages\\patsy\\util.py\u001b[0m in \u001b[0;36msafe_issubdtype\u001b[1;34m(dt1, dt2)\u001b[0m\n\u001b[0;32m    708\u001b[0m     \u001b[1;32mif\u001b[0m \u001b[0msafe_is_pandas_categorical_dtype\u001b[0m\u001b[1;33m(\u001b[0m\u001b[0mdt1\u001b[0m\u001b[1;33m)\u001b[0m\u001b[1;33m:\u001b[0m\u001b[1;33m\u001b[0m\u001b[1;33m\u001b[0m\u001b[0m\n\u001b[0;32m    709\u001b[0m         \u001b[1;32mreturn\u001b[0m \u001b[1;32mFalse\u001b[0m\u001b[1;33m\u001b[0m\u001b[1;33m\u001b[0m\u001b[0m\n\u001b[1;32m--> 710\u001b[1;33m     \u001b[1;32mreturn\u001b[0m \u001b[0mnp\u001b[0m\u001b[1;33m.\u001b[0m\u001b[0missubdtype\u001b[0m\u001b[1;33m(\u001b[0m\u001b[0mdt1\u001b[0m\u001b[1;33m,\u001b[0m \u001b[0mdt2\u001b[0m\u001b[1;33m)\u001b[0m\u001b[1;33m\u001b[0m\u001b[1;33m\u001b[0m\u001b[0m\n\u001b[0m\u001b[0;32m    711\u001b[0m \u001b[1;33m\u001b[0m\u001b[0m\n\u001b[0;32m    712\u001b[0m \u001b[1;32mdef\u001b[0m \u001b[0mtest_safe_issubdtype\u001b[0m\u001b[1;33m(\u001b[0m\u001b[1;33m)\u001b[0m\u001b[1;33m:\u001b[0m\u001b[1;33m\u001b[0m\u001b[1;33m\u001b[0m\u001b[0m\n",
      "\u001b[1;32m~\\Anaconda3\\lib\\site-packages\\numpy\\core\\numerictypes.py\u001b[0m in \u001b[0;36missubdtype\u001b[1;34m(arg1, arg2)\u001b[0m\n\u001b[0;32m    417\u001b[0m     \"\"\"\n\u001b[0;32m    418\u001b[0m     \u001b[1;32mif\u001b[0m \u001b[1;32mnot\u001b[0m \u001b[0missubclass_\u001b[0m\u001b[1;33m(\u001b[0m\u001b[0marg1\u001b[0m\u001b[1;33m,\u001b[0m \u001b[0mgeneric\u001b[0m\u001b[1;33m)\u001b[0m\u001b[1;33m:\u001b[0m\u001b[1;33m\u001b[0m\u001b[1;33m\u001b[0m\u001b[0m\n\u001b[1;32m--> 419\u001b[1;33m         \u001b[0marg1\u001b[0m \u001b[1;33m=\u001b[0m \u001b[0mdtype\u001b[0m\u001b[1;33m(\u001b[0m\u001b[0marg1\u001b[0m\u001b[1;33m)\u001b[0m\u001b[1;33m.\u001b[0m\u001b[0mtype\u001b[0m\u001b[1;33m\u001b[0m\u001b[1;33m\u001b[0m\u001b[0m\n\u001b[0m\u001b[0;32m    420\u001b[0m     \u001b[1;32mif\u001b[0m \u001b[1;32mnot\u001b[0m \u001b[0missubclass_\u001b[0m\u001b[1;33m(\u001b[0m\u001b[0marg2\u001b[0m\u001b[1;33m,\u001b[0m \u001b[0mgeneric\u001b[0m\u001b[1;33m)\u001b[0m\u001b[1;33m:\u001b[0m\u001b[1;33m\u001b[0m\u001b[1;33m\u001b[0m\u001b[0m\n\u001b[0;32m    421\u001b[0m         \u001b[0marg2\u001b[0m \u001b[1;33m=\u001b[0m \u001b[0mdtype\u001b[0m\u001b[1;33m(\u001b[0m\u001b[0marg2\u001b[0m\u001b[1;33m)\u001b[0m\u001b[1;33m.\u001b[0m\u001b[0mtype\u001b[0m\u001b[1;33m\u001b[0m\u001b[1;33m\u001b[0m\u001b[0m\n",
      "\u001b[1;31mTypeError\u001b[0m: Cannot interpret 'StringDtype' as a data type"
     ]
    }
   ],
   "source": [
    "corn_formula = 'Yield ~C(Block)+C(Treatment)+C(Block):C(Treatment)'\n",
    "model = ols(corn_formula, corn_only).fit()\n",
    "aov_table = anova_lm(model, typ = 2)\n",
    "print(aov_table)"
   ]
  },
  {
   "cell_type": "code",
   "execution_count": 24,
   "id": "c13599db",
   "metadata": {},
   "outputs": [
    {
     "data": {
      "text/plain": [
       "Plot Number                int64\n",
       "Block                      int64\n",
       "Treatment                 string\n",
       "Simp. Treatment          float64\n",
       "Yield                    float64\n",
       "Treatment Description     object\n",
       "Short Trt Description     object\n",
       "dtype: object"
      ]
     },
     "execution_count": 24,
     "metadata": {},
     "output_type": "execute_result"
    }
   ],
   "source": [
    "corn_only.dtypes"
   ]
  },
  {
   "cell_type": "markdown",
   "id": "1ff7c769",
   "metadata": {},
   "source": [
    "https://medium.com/budding-data-scientist/data-analytics-using-python-part-6-9e740a1dd681"
   ]
  },
  {
   "cell_type": "code",
   "execution_count": null,
   "id": "7ab0bfc0",
   "metadata": {},
   "outputs": [],
   "source": []
  }
 ],
 "metadata": {
  "kernelspec": {
   "display_name": "Python 3",
   "language": "python",
   "name": "python3"
  },
  "language_info": {
   "codemirror_mode": {
    "name": "ipython",
    "version": 3
   },
   "file_extension": ".py",
   "mimetype": "text/x-python",
   "name": "python",
   "nbconvert_exporter": "python",
   "pygments_lexer": "ipython3",
   "version": "3.8.8"
  }
 },
 "nbformat": 4,
 "nbformat_minor": 5
}
