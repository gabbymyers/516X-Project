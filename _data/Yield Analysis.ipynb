{
 "cells": [
  {
   "cell_type": "code",
   "execution_count": 48,
   "id": "09a81b69",
   "metadata": {},
   "outputs": [],
   "source": [
    "import pandas as pd\n",
    "import seaborn as sns\n",
    "import numpy as np\n",
    "import matplotlib.pyplot as plt\n",
    "%matplotlib inline"
   ]
  },
  {
   "cell_type": "code",
   "execution_count": 49,
   "id": "9a6ebd09",
   "metadata": {},
   "outputs": [],
   "source": [
    "yield_data = pd.read_excel(\"2021 Yield.xlsx\")"
   ]
  },
  {
   "cell_type": "code",
   "execution_count": 50,
   "id": "8252b445",
   "metadata": {},
   "outputs": [
    {
     "data": {
      "text/html": [
       "<div>\n",
       "<style scoped>\n",
       "    .dataframe tbody tr th:only-of-type {\n",
       "        vertical-align: middle;\n",
       "    }\n",
       "\n",
       "    .dataframe tbody tr th {\n",
       "        vertical-align: top;\n",
       "    }\n",
       "\n",
       "    .dataframe thead th {\n",
       "        text-align: right;\n",
       "    }\n",
       "</style>\n",
       "<table border=\"1\" class=\"dataframe\">\n",
       "  <thead>\n",
       "    <tr style=\"text-align: right;\">\n",
       "      <th></th>\n",
       "      <th>Plot Number</th>\n",
       "      <th>Treatment</th>\n",
       "      <th>Simp. Treatment</th>\n",
       "      <th>Yield (avg; bu/ac)</th>\n",
       "      <th>Treatment Description</th>\n",
       "      <th>Short Trt Description</th>\n",
       "    </tr>\n",
       "  </thead>\n",
       "  <tbody>\n",
       "    <tr>\n",
       "      <th>0</th>\n",
       "      <td>1</td>\n",
       "      <td>2S</td>\n",
       "      <td>2.0</td>\n",
       "      <td>75.328418</td>\n",
       "      <td>Corn/Soy, Spring Manure</td>\n",
       "      <td>CS, SM</td>\n",
       "    </tr>\n",
       "    <tr>\n",
       "      <th>1</th>\n",
       "      <td>2</td>\n",
       "      <td>6S</td>\n",
       "      <td>6.0</td>\n",
       "      <td>77.482016</td>\n",
       "      <td>Corn/Soy, Fall Manure</td>\n",
       "      <td>CS, FM</td>\n",
       "    </tr>\n",
       "    <tr>\n",
       "      <th>2</th>\n",
       "      <td>3</td>\n",
       "      <td>1C</td>\n",
       "      <td>1.0</td>\n",
       "      <td>232.173281</td>\n",
       "      <td>Corn/Soy, Spring UAN</td>\n",
       "      <td>CS, SUAN</td>\n",
       "    </tr>\n",
       "    <tr>\n",
       "      <th>3</th>\n",
       "      <td>4</td>\n",
       "      <td>3.1</td>\n",
       "      <td>3.1</td>\n",
       "      <td>231.645855</td>\n",
       "      <td>Continuous Corn</td>\n",
       "      <td>CC</td>\n",
       "    </tr>\n",
       "    <tr>\n",
       "      <th>4</th>\n",
       "      <td>5</td>\n",
       "      <td>4.1</td>\n",
       "      <td>4.1</td>\n",
       "      <td>208.940519</td>\n",
       "      <td>Continuous Corn + PGC</td>\n",
       "      <td>CC + PGC</td>\n",
       "    </tr>\n",
       "  </tbody>\n",
       "</table>\n",
       "</div>"
      ],
      "text/plain": [
       "   Plot Number Treatment  Simp. Treatment  Yield (avg; bu/ac)  \\\n",
       "0            1        2S              2.0           75.328418   \n",
       "1            2        6S              6.0           77.482016   \n",
       "2            3        1C              1.0          232.173281   \n",
       "3            4       3.1              3.1          231.645855   \n",
       "4            5       4.1              4.1          208.940519   \n",
       "\n",
       "     Treatment Description Short Trt Description  \n",
       "0  Corn/Soy, Spring Manure                CS, SM  \n",
       "1    Corn/Soy, Fall Manure                CS, FM  \n",
       "2     Corn/Soy, Spring UAN              CS, SUAN  \n",
       "3          Continuous Corn                    CC  \n",
       "4    Continuous Corn + PGC              CC + PGC  "
      ]
     },
     "execution_count": 50,
     "metadata": {},
     "output_type": "execute_result"
    }
   ],
   "source": [
    "yield_data.head()"
   ]
  },
  {
   "cell_type": "code",
   "execution_count": 51,
   "id": "47bbb4f0",
   "metadata": {},
   "outputs": [
    {
     "data": {
      "image/png": "[encoded data removed]",
      "text/plain": [
       "<Figure size 432x288 with 1 Axes>"
      ]
     },
     "metadata": {
      "needs_background": "light"
     },
     "output_type": "display_data"
    }
   ],
   "source": [
    "ax = sns.boxplot(x = \"Treatment\", y = \"Yield (avg; bu/ac)\", data = yield_data)\n",
    "plt.savefig('all_yield_box.png')"
   ]
  },
  {
   "cell_type": "markdown",
   "id": "f409b370",
   "metadata": {},
   "source": [
    "Including all of the yield data on the same plot doesn't make sense because some treatments are soybeans and some are corn"
   ]
  },
  {
   "cell_type": "code",
   "execution_count": 52,
   "id": "7d8129ff",
   "metadata": {},
   "outputs": [
    {
     "data": {
      "text/plain": [
       "Plot Number                int64\n",
       "Treatment                 object\n",
       "Simp. Treatment          float64\n",
       "Yield (avg; bu/ac)       float64\n",
       "Treatment Description     object\n",
       "Short Trt Description     object\n",
       "dtype: object"
      ]
     },
     "execution_count": 52,
     "metadata": {},
     "output_type": "execute_result"
    }
   ],
   "source": [
    "yield_data.dtypes"
   ]
  },
  {
   "cell_type": "code",
   "execution_count": 53,
   "id": "68ab6bfb",
   "metadata": {},
   "outputs": [
    {
     "data": {
      "text/plain": [
       "Plot Number                int64\n",
       "Treatment                 string\n",
       "Simp. Treatment          float64\n",
       "Yield (avg; bu/ac)       float64\n",
       "Treatment Description     object\n",
       "Short Trt Description     object\n",
       "dtype: object"
      ]
     },
     "execution_count": 53,
     "metadata": {},
     "output_type": "execute_result"
    }
   ],
   "source": [
    "yield_data['Treatment'] = yield_data['Treatment'].astype('string')\n",
    "yield_data.dtypes"
   ]
  },
  {
   "cell_type": "markdown",
   "id": "b93b0aef",
   "metadata": {},
   "source": [
    "Filtering out the soybean treatment data"
   ]
  },
  {
   "cell_type": "code",
   "execution_count": 54,
   "id": "3fd0020a",
   "metadata": {},
   "outputs": [
    {
     "data": {
      "text/html": [
       "<div>\n",
       "<style scoped>\n",
       "    .dataframe tbody tr th:only-of-type {\n",
       "        vertical-align: middle;\n",
       "    }\n",
       "\n",
       "    .dataframe tbody tr th {\n",
       "        vertical-align: top;\n",
       "    }\n",
       "\n",
       "    .dataframe thead th {\n",
       "        text-align: right;\n",
       "    }\n",
       "</style>\n",
       "<table border=\"1\" class=\"dataframe\">\n",
       "  <thead>\n",
       "    <tr style=\"text-align: right;\">\n",
       "      <th></th>\n",
       "      <th>Plot Number</th>\n",
       "      <th>Treatment</th>\n",
       "      <th>Simp. Treatment</th>\n",
       "      <th>Yield (avg; bu/ac)</th>\n",
       "      <th>Treatment Description</th>\n",
       "      <th>Short Trt Description</th>\n",
       "    </tr>\n",
       "  </thead>\n",
       "  <tbody>\n",
       "    <tr>\n",
       "      <th>2</th>\n",
       "      <td>3</td>\n",
       "      <td>1C</td>\n",
       "      <td>1.0</td>\n",
       "      <td>232.173281</td>\n",
       "      <td>Corn/Soy, Spring UAN</td>\n",
       "      <td>CS, SUAN</td>\n",
       "    </tr>\n",
       "    <tr>\n",
       "      <th>3</th>\n",
       "      <td>4</td>\n",
       "      <td>3.1</td>\n",
       "      <td>3.1</td>\n",
       "      <td>231.645855</td>\n",
       "      <td>Continuous Corn</td>\n",
       "      <td>CC</td>\n",
       "    </tr>\n",
       "    <tr>\n",
       "      <th>4</th>\n",
       "      <td>5</td>\n",
       "      <td>4.1</td>\n",
       "      <td>4.1</td>\n",
       "      <td>208.940519</td>\n",
       "      <td>Continuous Corn + PGC</td>\n",
       "      <td>CC + PGC</td>\n",
       "    </tr>\n",
       "    <tr>\n",
       "      <th>5</th>\n",
       "      <td>6</td>\n",
       "      <td>3.2</td>\n",
       "      <td>3.2</td>\n",
       "      <td>223.988531</td>\n",
       "      <td>Continuous Corn + 30 in ISC</td>\n",
       "      <td>CC + 30ISC</td>\n",
       "    </tr>\n",
       "    <tr>\n",
       "      <th>10</th>\n",
       "      <td>11</td>\n",
       "      <td>2C</td>\n",
       "      <td>2.0</td>\n",
       "      <td>237.683989</td>\n",
       "      <td>Corn/Soy, Spring Manure</td>\n",
       "      <td>CS, SM</td>\n",
       "    </tr>\n",
       "  </tbody>\n",
       "</table>\n",
       "</div>"
      ],
      "text/plain": [
       "    Plot Number Treatment  Simp. Treatment  Yield (avg; bu/ac)  \\\n",
       "2             3        1C              1.0          232.173281   \n",
       "3             4       3.1              3.1          231.645855   \n",
       "4             5       4.1              4.1          208.940519   \n",
       "5             6       3.2              3.2          223.988531   \n",
       "10           11        2C              2.0          237.683989   \n",
       "\n",
       "          Treatment Description Short Trt Description  \n",
       "2          Corn/Soy, Spring UAN              CS, SUAN  \n",
       "3               Continuous Corn                    CC  \n",
       "4         Continuous Corn + PGC              CC + PGC  \n",
       "5   Continuous Corn + 30 in ISC            CC + 30ISC  \n",
       "10      Corn/Soy, Spring Manure                CS, SM  "
      ]
     },
     "execution_count": 54,
     "metadata": {},
     "output_type": "execute_result"
    }
   ],
   "source": [
    "corn_only = yield_data[yield_data['Treatment'].str.contains('1C|2C|3.1|3.2|4.1|4.2|5C|6C')]\n",
    "corn_only.head()"
   ]
  },
  {
   "cell_type": "code",
   "execution_count": 55,
   "id": "8de694f3",
   "metadata": {},
   "outputs": [
    {
     "data": {
      "text/plain": [
       "24"
      ]
     },
     "execution_count": 55,
     "metadata": {},
     "output_type": "execute_result"
    }
   ],
   "source": [
    "len(corn_only)"
   ]
  },
  {
   "cell_type": "markdown",
   "id": "8dd21b6b",
   "metadata": {},
   "source": [
    "Making sure all of the treatments were included. There are 8 treatments with corn growing and each treatment has three reps, so 24 is correct. "
   ]
  },
  {
   "cell_type": "code",
   "execution_count": 57,
   "id": "d9938bfa",
   "metadata": {},
   "outputs": [
    {
     "data": {
      "image/png": "[encoded data removed]",
      "text/plain": [
       "<Figure size 432x288 with 1 Axes>"
      ]
     },
     "metadata": {
      "needs_background": "light"
     },
     "output_type": "display_data"
    }
   ],
   "source": [
    "ax = sns.boxplot(x = \"Treatment\", y = \"Yield (avg; bu/ac)\", data = corn_only, hue = 'Short Trt Description', dodge = False)\n",
    "plt.legend(bbox_to_anchor=(1.05, 1), loc=2, borderaxespad=0.)\n",
    "plt.savefig('corn_yield_box.png')"
   ]
  },
  {
   "cell_type": "code",
   "execution_count": null,
   "id": "16029858",
   "metadata": {},
   "outputs": [],
   "source": []
  }
 ],
 "metadata": {
  "kernelspec": {
   "display_name": "Python 3",
   "language": "python",
   "name": "python3"
  },
  "language_info": {
   "codemirror_mode": {
    "name": "ipython",
    "version": 3
   },
   "file_extension": ".py",
   "mimetype": "text/x-python",
   "name": "python",
   "nbconvert_exporter": "python",
   "pygments_lexer": "ipython3",
   "version": "3.8.8"
  }
 },
 "nbformat": 4,
 "nbformat_minor": 5
}
