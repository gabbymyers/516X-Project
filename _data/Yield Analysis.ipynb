{
 "cells": [
  {
   "cell_type": "code",
   "execution_count": 2,
   "id": "8544ce09",
   "metadata": {},
   "outputs": [],
   "source": [
    "import pandas as pd\n",
    "import seaborn as sns\n",
    "import numpy as np\n",
    "import matplotlib.pyplot as plt\n",
    "%matplotlib inline\n",
    "import statsmodels.api as sm\n",
    "from statsmodels.formula.api import ols\n"
   ]
  },
  {
   "cell_type": "code",
   "execution_count": 3,
   "id": "73fa4627",
   "metadata": {},
   "outputs": [],
   "source": [
    "yield_data = pd.read_excel(\"2021 Yield.xlsx\")"
   ]
  },
  {
   "cell_type": "code",
   "execution_count": 4,
   "id": "6af25c5d",
   "metadata": {},
   "outputs": [
    {
     "data": {
      "text/html": [
       "<div>\n",
       "<style scoped>\n",
       "    .dataframe tbody tr th:only-of-type {\n",
       "        vertical-align: middle;\n",
       "    }\n",
       "\n",
       "    .dataframe tbody tr th {\n",
       "        vertical-align: top;\n",
       "    }\n",
       "\n",
       "    .dataframe thead th {\n",
       "        text-align: right;\n",
       "    }\n",
       "</style>\n",
       "<table border=\"1\" class=\"dataframe\">\n",
       "  <thead>\n",
       "    <tr style=\"text-align: right;\">\n",
       "      <th></th>\n",
       "      <th>Plot Number</th>\n",
       "      <th>Block</th>\n",
       "      <th>Treatment</th>\n",
       "      <th>Simp. Treatment</th>\n",
       "      <th>Yield (avg; bu/ac)</th>\n",
       "      <th>Treatment Description</th>\n",
       "      <th>Short Trt Description</th>\n",
       "    </tr>\n",
       "  </thead>\n",
       "  <tbody>\n",
       "    <tr>\n",
       "      <th>0</th>\n",
       "      <td>1</td>\n",
       "      <td>2</td>\n",
       "      <td>2S</td>\n",
       "      <td>2.0</td>\n",
       "      <td>75.328418</td>\n",
       "      <td>Corn/Soy, Spring Manure</td>\n",
       "      <td>CS, SM</td>\n",
       "    </tr>\n",
       "    <tr>\n",
       "      <th>1</th>\n",
       "      <td>2</td>\n",
       "      <td>2</td>\n",
       "      <td>6S</td>\n",
       "      <td>6.0</td>\n",
       "      <td>77.482016</td>\n",
       "      <td>Corn/Soy, Fall Manure</td>\n",
       "      <td>CS, FM</td>\n",
       "    </tr>\n",
       "    <tr>\n",
       "      <th>2</th>\n",
       "      <td>3</td>\n",
       "      <td>2</td>\n",
       "      <td>1C</td>\n",
       "      <td>1.0</td>\n",
       "      <td>232.173281</td>\n",
       "      <td>Corn/Soy, Spring UAN</td>\n",
       "      <td>CS, SUAN</td>\n",
       "    </tr>\n",
       "    <tr>\n",
       "      <th>3</th>\n",
       "      <td>4</td>\n",
       "      <td>2</td>\n",
       "      <td>3.1</td>\n",
       "      <td>3.1</td>\n",
       "      <td>231.645855</td>\n",
       "      <td>Continuous Corn</td>\n",
       "      <td>CC</td>\n",
       "    </tr>\n",
       "    <tr>\n",
       "      <th>4</th>\n",
       "      <td>5</td>\n",
       "      <td>2</td>\n",
       "      <td>4.1</td>\n",
       "      <td>4.1</td>\n",
       "      <td>208.940519</td>\n",
       "      <td>Continuous Corn + PGC</td>\n",
       "      <td>CC + PGC</td>\n",
       "    </tr>\n",
       "  </tbody>\n",
       "</table>\n",
       "</div>"
      ],
      "text/plain": [
       "   Plot Number  Block Treatment  Simp. Treatment  Yield (avg; bu/ac)  \\\n",
       "0            1      2        2S              2.0           75.328418   \n",
       "1            2      2        6S              6.0           77.482016   \n",
       "2            3      2        1C              1.0          232.173281   \n",
       "3            4      2       3.1              3.1          231.645855   \n",
       "4            5      2       4.1              4.1          208.940519   \n",
       "\n",
       "     Treatment Description Short Trt Description  \n",
       "0  Corn/Soy, Spring Manure                CS, SM  \n",
       "1    Corn/Soy, Fall Manure                CS, FM  \n",
       "2     Corn/Soy, Spring UAN              CS, SUAN  \n",
       "3          Continuous Corn                    CC  \n",
       "4    Continuous Corn + PGC              CC + PGC  "
      ]
     },
     "execution_count": 4,
     "metadata": {},
     "output_type": "execute_result"
    }
   ],
   "source": [
    "yield_data.head()"
   ]
  },
  {
   "cell_type": "code",
   "execution_count": 5,
   "id": "d2ba7c26",
   "metadata": {},
   "outputs": [
    {
     "data": {
      "image/png": "[encoded data removed]",
      "text/plain": [
       "<Figure size 432x288 with 1 Axes>"
      ]
     },
     "metadata": {
      "needs_background": "light"
     },
     "output_type": "display_data"
    }
   ],
   "source": [
    "ax = sns.boxplot(x = \"Treatment\", y = \"Yield (avg; bu/ac)\", data = yield_data)\n",
    "plt.savefig('all_yield_box.png')"
   ]
  },
  {
   "cell_type": "markdown",
   "id": "3ce43f6d",
   "metadata": {},
   "source": [
    "Including all of the yield data on the same plot doesn't make sense because some treatments are soybeans and some are corn"
   ]
  },
  {
   "cell_type": "code",
   "execution_count": 6,
   "id": "c06d86fb",
   "metadata": {},
   "outputs": [
    {
     "data": {
      "text/plain": [
       "Plot Number                int64\n",
       "Block                      int64\n",
       "Treatment                 object\n",
       "Simp. Treatment          float64\n",
       "Yield (avg; bu/ac)       float64\n",
       "Treatment Description     object\n",
       "Short Trt Description     object\n",
       "dtype: object"
      ]
     },
     "execution_count": 6,
     "metadata": {},
     "output_type": "execute_result"
    }
   ],
   "source": [
    "yield_data.dtypes"
   ]
  },
  {
   "cell_type": "code",
   "execution_count": 7,
   "id": "eb07cfcf",
   "metadata": {},
   "outputs": [
    {
     "data": {
      "text/plain": [
       "Plot Number                int64\n",
       "Block                      int64\n",
       "Treatment                 string\n",
       "Simp. Treatment          float64\n",
       "Yield (avg; bu/ac)       float64\n",
       "Treatment Description     object\n",
       "Short Trt Description     object\n",
       "dtype: object"
      ]
     },
     "execution_count": 7,
     "metadata": {},
     "output_type": "execute_result"
    }
   ],
   "source": [
    "yield_data['Treatment'] = yield_data['Treatment'].astype('string')\n",
    "yield_data.dtypes"
   ]
  },
  {
   "cell_type": "markdown",
   "id": "02180951",
   "metadata": {},
   "source": [
    "Filtering out the soybean treatment data"
   ]
  },
  {
   "cell_type": "code",
   "execution_count": 8,
   "id": "5bb1dac4",
   "metadata": {},
   "outputs": [
    {
     "data": {
      "text/html": [
       "<div>\n",
       "<style scoped>\n",
       "    .dataframe tbody tr th:only-of-type {\n",
       "        vertical-align: middle;\n",
       "    }\n",
       "\n",
       "    .dataframe tbody tr th {\n",
       "        vertical-align: top;\n",
       "    }\n",
       "\n",
       "    .dataframe thead th {\n",
       "        text-align: right;\n",
       "    }\n",
       "</style>\n",
       "<table border=\"1\" class=\"dataframe\">\n",
       "  <thead>\n",
       "    <tr style=\"text-align: right;\">\n",
       "      <th></th>\n",
       "      <th>Plot Number</th>\n",
       "      <th>Block</th>\n",
       "      <th>Treatment</th>\n",
       "      <th>Simp. Treatment</th>\n",
       "      <th>Yield (avg; bu/ac)</th>\n",
       "      <th>Treatment Description</th>\n",
       "      <th>Short Trt Description</th>\n",
       "    </tr>\n",
       "  </thead>\n",
       "  <tbody>\n",
       "    <tr>\n",
       "      <th>2</th>\n",
       "      <td>3</td>\n",
       "      <td>2</td>\n",
       "      <td>1C</td>\n",
       "      <td>1.0</td>\n",
       "      <td>232.173281</td>\n",
       "      <td>Corn/Soy, Spring UAN</td>\n",
       "      <td>CS, SUAN</td>\n",
       "    </tr>\n",
       "    <tr>\n",
       "      <th>3</th>\n",
       "      <td>4</td>\n",
       "      <td>2</td>\n",
       "      <td>3.1</td>\n",
       "      <td>3.1</td>\n",
       "      <td>231.645855</td>\n",
       "      <td>Continuous Corn</td>\n",
       "      <td>CC</td>\n",
       "    </tr>\n",
       "    <tr>\n",
       "      <th>4</th>\n",
       "      <td>5</td>\n",
       "      <td>2</td>\n",
       "      <td>4.1</td>\n",
       "      <td>4.1</td>\n",
       "      <td>208.940519</td>\n",
       "      <td>Continuous Corn + PGC</td>\n",
       "      <td>CC + PGC</td>\n",
       "    </tr>\n",
       "    <tr>\n",
       "      <th>5</th>\n",
       "      <td>6</td>\n",
       "      <td>2</td>\n",
       "      <td>3.2</td>\n",
       "      <td>3.2</td>\n",
       "      <td>223.988531</td>\n",
       "      <td>Continuous Corn + 30 in ISC</td>\n",
       "      <td>CC + 30ISC</td>\n",
       "    </tr>\n",
       "    <tr>\n",
       "      <th>10</th>\n",
       "      <td>11</td>\n",
       "      <td>2</td>\n",
       "      <td>2C</td>\n",
       "      <td>2.0</td>\n",
       "      <td>237.683989</td>\n",
       "      <td>Corn/Soy, Spring Manure</td>\n",
       "      <td>CS, SM</td>\n",
       "    </tr>\n",
       "  </tbody>\n",
       "</table>\n",
       "</div>"
      ],
      "text/plain": [
       "    Plot Number  Block Treatment  Simp. Treatment  Yield (avg; bu/ac)  \\\n",
       "2             3      2        1C              1.0          232.173281   \n",
       "3             4      2       3.1              3.1          231.645855   \n",
       "4             5      2       4.1              4.1          208.940519   \n",
       "5             6      2       3.2              3.2          223.988531   \n",
       "10           11      2        2C              2.0          237.683989   \n",
       "\n",
       "          Treatment Description Short Trt Description  \n",
       "2          Corn/Soy, Spring UAN              CS, SUAN  \n",
       "3               Continuous Corn                    CC  \n",
       "4         Continuous Corn + PGC              CC + PGC  \n",
       "5   Continuous Corn + 30 in ISC            CC + 30ISC  \n",
       "10      Corn/Soy, Spring Manure                CS, SM  "
      ]
     },
     "execution_count": 8,
     "metadata": {},
     "output_type": "execute_result"
    }
   ],
   "source": [
    "corn_only = yield_data[yield_data['Treatment'].str.contains('1C|2C|3.1|3.2|4.1|4.2|5C|6C')]\n",
    "corn_only.head()"
   ]
  },
  {
   "cell_type": "code",
   "execution_count": 9,
   "id": "8afc2fe2",
   "metadata": {},
   "outputs": [
    {
     "data": {
      "text/plain": [
       "24"
      ]
     },
     "execution_count": 9,
     "metadata": {},
     "output_type": "execute_result"
    }
   ],
   "source": [
    "len(corn_only)"
   ]
  },
  {
   "cell_type": "markdown",
   "id": "2e61ba81",
   "metadata": {},
   "source": [
    "Making sure all of the treatments were included. There are 8 treatments with corn growing and each treatment has three reps, so 24 is correct. "
   ]
  },
  {
   "cell_type": "code",
   "execution_count": 10,
   "id": "3fc35598",
   "metadata": {},
   "outputs": [
    {
     "data": {
      "image/png": "[encoded data removed]",
      "text/plain": [
       "<Figure size 432x288 with 1 Axes>"
      ]
     },
     "metadata": {
      "needs_background": "light"
     },
     "output_type": "display_data"
    }
   ],
   "source": [
    "ax = sns.boxplot(x = \"Treatment\", y = \"Yield (avg; bu/ac)\", data = corn_only, hue = 'Short Trt Description', dodge = False)\n",
    "plt.legend(bbox_to_anchor=(1.05, 1), loc=2, borderaxespad=0.)\n",
    "plt.savefig('corn_yield_box.jpg', bbox_inches='tight')"
   ]
  },
  {
   "cell_type": "code",
   "execution_count": 11,
   "id": "78be2b0b",
   "metadata": {},
   "outputs": [
    {
     "data": {
      "text/html": [
       "<div>\n",
       "<style scoped>\n",
       "    .dataframe tbody tr th:only-of-type {\n",
       "        vertical-align: middle;\n",
       "    }\n",
       "\n",
       "    .dataframe tbody tr th {\n",
       "        vertical-align: top;\n",
       "    }\n",
       "\n",
       "    .dataframe thead th {\n",
       "        text-align: right;\n",
       "    }\n",
       "</style>\n",
       "<table border=\"1\" class=\"dataframe\">\n",
       "  <thead>\n",
       "    <tr style=\"text-align: right;\">\n",
       "      <th></th>\n",
       "      <th>Plot Number</th>\n",
       "      <th>Block</th>\n",
       "      <th>Treatment</th>\n",
       "      <th>Simp. Treatment</th>\n",
       "      <th>Yield (avg; bu/ac)</th>\n",
       "      <th>Treatment Description</th>\n",
       "      <th>Short Trt Description</th>\n",
       "    </tr>\n",
       "  </thead>\n",
       "  <tbody>\n",
       "    <tr>\n",
       "      <th>0</th>\n",
       "      <td>1</td>\n",
       "      <td>2</td>\n",
       "      <td>2S</td>\n",
       "      <td>2.0</td>\n",
       "      <td>75.328418</td>\n",
       "      <td>Corn/Soy, Spring Manure</td>\n",
       "      <td>CS, SM</td>\n",
       "    </tr>\n",
       "    <tr>\n",
       "      <th>1</th>\n",
       "      <td>2</td>\n",
       "      <td>2</td>\n",
       "      <td>6S</td>\n",
       "      <td>6.0</td>\n",
       "      <td>77.482016</td>\n",
       "      <td>Corn/Soy, Fall Manure</td>\n",
       "      <td>CS, FM</td>\n",
       "    </tr>\n",
       "    <tr>\n",
       "      <th>6</th>\n",
       "      <td>7</td>\n",
       "      <td>3</td>\n",
       "      <td>2S</td>\n",
       "      <td>2.0</td>\n",
       "      <td>75.667936</td>\n",
       "      <td>Corn/Soy, Spring Manure</td>\n",
       "      <td>CS, SM</td>\n",
       "    </tr>\n",
       "    <tr>\n",
       "      <th>7</th>\n",
       "      <td>8</td>\n",
       "      <td>3</td>\n",
       "      <td>5S</td>\n",
       "      <td>5.0</td>\n",
       "      <td>71.839370</td>\n",
       "      <td>Corn/Soy + Rye</td>\n",
       "      <td>CS + R</td>\n",
       "    </tr>\n",
       "    <tr>\n",
       "      <th>8</th>\n",
       "      <td>9</td>\n",
       "      <td>2</td>\n",
       "      <td>5S</td>\n",
       "      <td>5.0</td>\n",
       "      <td>72.610892</td>\n",
       "      <td>Corn/Soy + Rye</td>\n",
       "      <td>CS + R</td>\n",
       "    </tr>\n",
       "  </tbody>\n",
       "</table>\n",
       "</div>"
      ],
      "text/plain": [
       "   Plot Number  Block Treatment  Simp. Treatment  Yield (avg; bu/ac)  \\\n",
       "0            1      2        2S              2.0           75.328418   \n",
       "1            2      2        6S              6.0           77.482016   \n",
       "6            7      3        2S              2.0           75.667936   \n",
       "7            8      3        5S              5.0           71.839370   \n",
       "8            9      2        5S              5.0           72.610892   \n",
       "\n",
       "     Treatment Description Short Trt Description  \n",
       "0  Corn/Soy, Spring Manure                CS, SM  \n",
       "1    Corn/Soy, Fall Manure                CS, FM  \n",
       "6  Corn/Soy, Spring Manure                CS, SM  \n",
       "7           Corn/Soy + Rye                CS + R  \n",
       "8           Corn/Soy + Rye                CS + R  "
      ]
     },
     "execution_count": 11,
     "metadata": {},
     "output_type": "execute_result"
    }
   ],
   "source": [
    "soy_only = yield_data[yield_data['Treatment'].str.contains('1S|2S|5S|6S')]\n",
    "soy_only.head()"
   ]
  },
  {
   "cell_type": "code",
   "execution_count": 12,
   "id": "5cfed28a",
   "metadata": {},
   "outputs": [
    {
     "data": {
      "image/png": "[encoded data removed]",
      "text/plain": [
       "<Figure size 432x288 with 1 Axes>"
      ]
     },
     "metadata": {
      "needs_background": "light"
     },
     "output_type": "display_data"
    }
   ],
   "source": [
    "ax = sns.boxplot(x = \"Treatment\", y = \"Yield (avg; bu/ac)\", data = soy_only, hue = 'Short Trt Description', dodge = False)\n",
    "plt.legend(bbox_to_anchor=(1.05, 1), loc=2, borderaxespad=0.)\n",
    "plt.savefig('soy_yield_box.jpg', bbox_inches='tight')"
   ]
  },
  {
   "cell_type": "code",
   "execution_count": 13,
   "id": "f04718ac",
   "metadata": {},
   "outputs": [],
   "source": [
    "corn_only = corn_only.rename(columns={\"Yield (avg; bu/ac)\": \"Yield\"})"
   ]
  },
  {
   "cell_type": "code",
   "execution_count": 14,
   "id": "1ae9c5e4",
   "metadata": {},
   "outputs": [],
   "source": [
    "corn_only.to_excel(\"Corn_Yield_2021.xlsx\")"
   ]
  },
  {
   "cell_type": "markdown",
   "id": "63633870",
   "metadata": {},
   "source": [
    "Saving the corn data as its own spreadsheet in case I want to come back to it "
   ]
  },
  {
   "cell_type": "markdown",
   "id": "4ac3f131",
   "metadata": {},
   "source": [
    "### Bar Plots"
   ]
  },
  {
   "cell_type": "code",
   "execution_count": 15,
   "id": "068bc7ee",
   "metadata": {},
   "outputs": [
    {
     "data": {
      "text/plain": [
       "<AxesSubplot:title={'center':'Mean Yield of Corn Treatments'}, xlabel='Treatment'>"
      ]
     },
     "execution_count": 15,
     "metadata": {},
     "output_type": "execute_result"
    },
    {
     "data": {
      "image/png": "[encoded data removed]",
      "text/plain": [
       "<Figure size 432x288 with 1 Axes>"
      ]
     },
     "metadata": {
      "needs_background": "light"
     },
     "output_type": "display_data"
    }
   ],
   "source": [
    "corn_only.groupby('Treatment')['Yield'].describe()['mean'].plot(kind='bar', title = 'Mean Yield of Corn Treatments')"
   ]
  },
  {
   "cell_type": "code",
   "execution_count": 16,
   "id": "b1d825cd",
   "metadata": {},
   "outputs": [
    {
     "data": {
      "text/html": [
       "<div>\n",
       "<style scoped>\n",
       "    .dataframe tbody tr th:only-of-type {\n",
       "        vertical-align: middle;\n",
       "    }\n",
       "\n",
       "    .dataframe tbody tr th {\n",
       "        vertical-align: top;\n",
       "    }\n",
       "\n",
       "    .dataframe thead th {\n",
       "        text-align: right;\n",
       "    }\n",
       "</style>\n",
       "<table border=\"1\" class=\"dataframe\">\n",
       "  <thead>\n",
       "    <tr style=\"text-align: right;\">\n",
       "      <th></th>\n",
       "      <th>Treatment</th>\n",
       "      <th>mean</th>\n",
       "    </tr>\n",
       "  </thead>\n",
       "  <tbody>\n",
       "    <tr>\n",
       "      <th>0</th>\n",
       "      <td>1C</td>\n",
       "      <td>224.195358</td>\n",
       "    </tr>\n",
       "    <tr>\n",
       "      <th>1</th>\n",
       "      <td>2C</td>\n",
       "      <td>238.538890</td>\n",
       "    </tr>\n",
       "    <tr>\n",
       "      <th>2</th>\n",
       "      <td>3.1</td>\n",
       "      <td>228.115141</td>\n",
       "    </tr>\n",
       "    <tr>\n",
       "      <th>3</th>\n",
       "      <td>3.2</td>\n",
       "      <td>223.808229</td>\n",
       "    </tr>\n",
       "    <tr>\n",
       "      <th>4</th>\n",
       "      <td>4.1</td>\n",
       "      <td>215.369255</td>\n",
       "    </tr>\n",
       "  </tbody>\n",
       "</table>\n",
       "</div>"
      ],
      "text/plain": [
       "  Treatment        mean\n",
       "0        1C  224.195358\n",
       "1        2C  238.538890\n",
       "2       3.1  228.115141\n",
       "3       3.2  223.808229\n",
       "4       4.1  215.369255"
      ]
     },
     "execution_count": 16,
     "metadata": {},
     "output_type": "execute_result"
    }
   ],
   "source": [
    "corn_means = pd.DataFrame(corn_only.groupby('Treatment')['Yield'].describe()['mean'])\n",
    "corn_means = corn_means.reset_index()\n",
    "corn_means.head()"
   ]
  },
  {
   "cell_type": "code",
   "execution_count": 17,
   "id": "f0bae70d",
   "metadata": {},
   "outputs": [
    {
     "name": "stdout",
     "output_type": "stream",
     "text": [
      "Index(['Treatment', 'mean'], dtype='object')\n"
     ]
    }
   ],
   "source": [
    "print(corn_means.columns)"
   ]
  },
  {
   "cell_type": "code",
   "execution_count": 18,
   "id": "d0adacf1",
   "metadata": {},
   "outputs": [
    {
     "data": {
      "image/png": "[encoded data removed]",
      "text/plain": [
       "<Figure size 432x288 with 1 Axes>"
      ]
     },
     "metadata": {
      "needs_background": "light"
     },
     "output_type": "display_data"
    }
   ],
   "source": [
    "ax = sns.barplot(x = 'Treatment', y = 'mean', data = corn_means)\n",
    "ax.set_title('2021 Yield of Corn Treatments')\n",
    "ax.set(xlabel='Treatment', ylabel='Mean Yield (bu/ac)')\n",
    "\n",
    "#for annotating \n",
    "for p in ax.patches:\n",
    "             ax.annotate(\"%.0f\" % p.get_height(), (p.get_x() + p.get_width() / 2., p.get_height()),\n",
    "                 ha='center', va='center', fontsize=10, color='black', xytext=(0, 5),\n",
    "                 textcoords='offset points')\n",
    "        \n",
    "plt.savefig('corn_bar.jpg', bbox_inches='tight')"
   ]
  },
  {
   "cell_type": "code",
   "execution_count": 19,
   "id": "c3ee477e",
   "metadata": {},
   "outputs": [
    {
     "data": {
      "text/html": [
       "<div>\n",
       "<style scoped>\n",
       "    .dataframe tbody tr th:only-of-type {\n",
       "        vertical-align: middle;\n",
       "    }\n",
       "\n",
       "    .dataframe tbody tr th {\n",
       "        vertical-align: top;\n",
       "    }\n",
       "\n",
       "    .dataframe thead th {\n",
       "        text-align: right;\n",
       "    }\n",
       "</style>\n",
       "<table border=\"1\" class=\"dataframe\">\n",
       "  <thead>\n",
       "    <tr style=\"text-align: right;\">\n",
       "      <th></th>\n",
       "      <th>Block</th>\n",
       "      <th>mean</th>\n",
       "    </tr>\n",
       "  </thead>\n",
       "  <tbody>\n",
       "    <tr>\n",
       "      <th>0</th>\n",
       "      <td>1</td>\n",
       "      <td>218.087392</td>\n",
       "    </tr>\n",
       "    <tr>\n",
       "      <th>1</th>\n",
       "      <td>2</td>\n",
       "      <td>222.997168</td>\n",
       "    </tr>\n",
       "    <tr>\n",
       "      <th>2</th>\n",
       "      <td>3</td>\n",
       "      <td>223.295361</td>\n",
       "    </tr>\n",
       "  </tbody>\n",
       "</table>\n",
       "</div>"
      ],
      "text/plain": [
       "   Block        mean\n",
       "0      1  218.087392\n",
       "1      2  222.997168\n",
       "2      3  223.295361"
      ]
     },
     "execution_count": 19,
     "metadata": {},
     "output_type": "execute_result"
    }
   ],
   "source": [
    "corn_block_means = pd.DataFrame(corn_only.groupby('Block')['Yield'].describe()['mean'])\n",
    "corn_block_means = corn_block_means.reset_index()\n",
    "corn_block_means.head()"
   ]
  },
  {
   "cell_type": "code",
   "execution_count": 20,
   "id": "27354de3",
   "metadata": {},
   "outputs": [
    {
     "data": {
      "image/png": "[encoded data removed]",
      "text/plain": [
       "<Figure size 432x288 with 1 Axes>"
      ]
     },
     "metadata": {
      "needs_background": "light"
     },
     "output_type": "display_data"
    }
   ],
   "source": [
    "ax = sns.barplot(x = 'Block', y = 'mean', data = corn_block_means)\n",
    "ax.set_title('2021 Corn Yield of Blocks')\n",
    "ax.set(xlabel='Block', ylabel='Mean Yield (bu/ac)')\n",
    "\n",
    "#for annotating \n",
    "for p in ax.patches:\n",
    "             ax.annotate(\"%.1f\" % p.get_height(), (p.get_x() + p.get_width() / 2., p.get_height()),\n",
    "                 ha='center', va='center', fontsize=10, color='black', xytext=(0, 5),\n",
    "                 textcoords='offset points')\n",
    "        \n",
    "plt.savefig('corn_block_bar.jpg', bbox_inches='tight')"
   ]
  },
  {
   "cell_type": "code",
   "execution_count": 21,
   "id": "634a4586",
   "metadata": {},
   "outputs": [
    {
     "data": {
      "text/html": [
       "<div>\n",
       "<style scoped>\n",
       "    .dataframe tbody tr th:only-of-type {\n",
       "        vertical-align: middle;\n",
       "    }\n",
       "\n",
       "    .dataframe tbody tr th {\n",
       "        vertical-align: top;\n",
       "    }\n",
       "\n",
       "    .dataframe thead th {\n",
       "        text-align: right;\n",
       "    }\n",
       "</style>\n",
       "<table border=\"1\" class=\"dataframe\">\n",
       "  <thead>\n",
       "    <tr style=\"text-align: right;\">\n",
       "      <th></th>\n",
       "      <th>Plot Number</th>\n",
       "      <th>Block</th>\n",
       "      <th>Treatment</th>\n",
       "      <th>Simp. Treatment</th>\n",
       "      <th>Yield (avg; bu/ac)</th>\n",
       "      <th>Treatment Description</th>\n",
       "      <th>Short Trt Description</th>\n",
       "    </tr>\n",
       "  </thead>\n",
       "  <tbody>\n",
       "    <tr>\n",
       "      <th>0</th>\n",
       "      <td>1</td>\n",
       "      <td>2</td>\n",
       "      <td>2S</td>\n",
       "      <td>2.0</td>\n",
       "      <td>75.328418</td>\n",
       "      <td>Corn/Soy, Spring Manure</td>\n",
       "      <td>CS, SM</td>\n",
       "    </tr>\n",
       "    <tr>\n",
       "      <th>1</th>\n",
       "      <td>2</td>\n",
       "      <td>2</td>\n",
       "      <td>6S</td>\n",
       "      <td>6.0</td>\n",
       "      <td>77.482016</td>\n",
       "      <td>Corn/Soy, Fall Manure</td>\n",
       "      <td>CS, FM</td>\n",
       "    </tr>\n",
       "    <tr>\n",
       "      <th>6</th>\n",
       "      <td>7</td>\n",
       "      <td>3</td>\n",
       "      <td>2S</td>\n",
       "      <td>2.0</td>\n",
       "      <td>75.667936</td>\n",
       "      <td>Corn/Soy, Spring Manure</td>\n",
       "      <td>CS, SM</td>\n",
       "    </tr>\n",
       "    <tr>\n",
       "      <th>7</th>\n",
       "      <td>8</td>\n",
       "      <td>3</td>\n",
       "      <td>5S</td>\n",
       "      <td>5.0</td>\n",
       "      <td>71.839370</td>\n",
       "      <td>Corn/Soy + Rye</td>\n",
       "      <td>CS + R</td>\n",
       "    </tr>\n",
       "    <tr>\n",
       "      <th>8</th>\n",
       "      <td>9</td>\n",
       "      <td>2</td>\n",
       "      <td>5S</td>\n",
       "      <td>5.0</td>\n",
       "      <td>72.610892</td>\n",
       "      <td>Corn/Soy + Rye</td>\n",
       "      <td>CS + R</td>\n",
       "    </tr>\n",
       "  </tbody>\n",
       "</table>\n",
       "</div>"
      ],
      "text/plain": [
       "   Plot Number  Block Treatment  Simp. Treatment  Yield (avg; bu/ac)  \\\n",
       "0            1      2        2S              2.0           75.328418   \n",
       "1            2      2        6S              6.0           77.482016   \n",
       "6            7      3        2S              2.0           75.667936   \n",
       "7            8      3        5S              5.0           71.839370   \n",
       "8            9      2        5S              5.0           72.610892   \n",
       "\n",
       "     Treatment Description Short Trt Description  \n",
       "0  Corn/Soy, Spring Manure                CS, SM  \n",
       "1    Corn/Soy, Fall Manure                CS, FM  \n",
       "6  Corn/Soy, Spring Manure                CS, SM  \n",
       "7           Corn/Soy + Rye                CS + R  \n",
       "8           Corn/Soy + Rye                CS + R  "
      ]
     },
     "execution_count": 21,
     "metadata": {},
     "output_type": "execute_result"
    }
   ],
   "source": [
    "soy_only.head()"
   ]
  },
  {
   "cell_type": "code",
   "execution_count": 22,
   "id": "1649b6a5",
   "metadata": {},
   "outputs": [],
   "source": [
    "soy_only = soy_only.rename(columns={\"Yield (avg; bu/ac)\": \"Yield\"})"
   ]
  },
  {
   "cell_type": "code",
   "execution_count": 23,
   "id": "035b430d",
   "metadata": {},
   "outputs": [
    {
     "data": {
      "image/png": "[encoded data removed]",
      "text/plain": [
       "<Figure size 432x288 with 1 Axes>"
      ]
     },
     "metadata": {
      "needs_background": "light"
     },
     "output_type": "display_data"
    }
   ],
   "source": [
    "soy_means = pd.DataFrame(soy_only.groupby('Treatment')['Yield'].describe()['mean'])\n",
    "soy_means = soy_means.reset_index()\n",
    "\n",
    "ax = sns.barplot(x = 'Treatment', y = 'mean', data = soy_means)\n",
    "ax.set_title('2021 Yield of Soy Treatments')\n",
    "ax.set(xlabel='Treatment', ylabel='Mean Yield (bu/ac)')\n",
    "\n",
    "#for annotating \n",
    "for p in ax.patches:\n",
    "             ax.annotate(\"%.0f\" % p.get_height(), (p.get_x() + p.get_width() / 2., p.get_height()),\n",
    "                 ha='center', va='center', fontsize=10, color='black', xytext=(0, 5),\n",
    "                 textcoords='offset points')\n",
    "        \n",
    "plt.savefig('soy_bar.jpg', bbox_inches='tight')"
   ]
  },
  {
   "cell_type": "code",
   "execution_count": 24,
   "id": "bb309062",
   "metadata": {},
   "outputs": [
    {
     "data": {
      "image/png": "[encoded data removed]",
      "text/plain": [
       "<Figure size 432x288 with 1 Axes>"
      ]
     },
     "metadata": {
      "needs_background": "light"
     },
     "output_type": "display_data"
    }
   ],
   "source": [
    "soy_block_means = pd.DataFrame(soy_only.groupby('Block')['Yield'].describe()['mean'])\n",
    "soy_block_means = soy_block_means.reset_index()\n",
    "\n",
    "ax = sns.barplot(x = 'Block', y = 'mean', data = soy_block_means)\n",
    "ax.set_title('2021 Soy Yield of Blocks')\n",
    "ax.set(xlabel='Block', ylabel='Mean Yield (bu/ac)')\n",
    "\n",
    "#for annotating \n",
    "for p in ax.patches:\n",
    "             ax.annotate(\"%.1f\" % p.get_height(), (p.get_x() + p.get_width() / 2., p.get_height()),\n",
    "                 ha='center', va='center', fontsize=10, color='black', xytext=(0, 5),\n",
    "                 textcoords='offset points')\n",
    "        \n",
    "plt.savefig('soy_block_bar.jpg', bbox_inches='tight')"
   ]
  },
  {
   "cell_type": "markdown",
   "id": "c0bd1118",
   "metadata": {},
   "source": [
    "## ANOVA"
   ]
  },
  {
   "cell_type": "code",
   "execution_count": 25,
   "id": "7f3a933d",
   "metadata": {},
   "outputs": [
    {
     "data": {
      "text/html": [
       "<div>\n",
       "<style scoped>\n",
       "    .dataframe tbody tr th:only-of-type {\n",
       "        vertical-align: middle;\n",
       "    }\n",
       "\n",
       "    .dataframe tbody tr th {\n",
       "        vertical-align: top;\n",
       "    }\n",
       "\n",
       "    .dataframe thead th {\n",
       "        text-align: right;\n",
       "    }\n",
       "</style>\n",
       "<table border=\"1\" class=\"dataframe\">\n",
       "  <thead>\n",
       "    <tr style=\"text-align: right;\">\n",
       "      <th></th>\n",
       "      <th>Plot Number</th>\n",
       "      <th>Block</th>\n",
       "      <th>Treatment</th>\n",
       "      <th>simple_treatment</th>\n",
       "      <th>Yield</th>\n",
       "      <th>Treatment Description</th>\n",
       "      <th>Short Trt Description</th>\n",
       "    </tr>\n",
       "  </thead>\n",
       "  <tbody>\n",
       "    <tr>\n",
       "      <th>2</th>\n",
       "      <td>3</td>\n",
       "      <td>2</td>\n",
       "      <td>1C</td>\n",
       "      <td>1.0</td>\n",
       "      <td>232.173281</td>\n",
       "      <td>Corn/Soy, Spring UAN</td>\n",
       "      <td>CS, SUAN</td>\n",
       "    </tr>\n",
       "    <tr>\n",
       "      <th>3</th>\n",
       "      <td>4</td>\n",
       "      <td>2</td>\n",
       "      <td>3.1</td>\n",
       "      <td>3.1</td>\n",
       "      <td>231.645855</td>\n",
       "      <td>Continuous Corn</td>\n",
       "      <td>CC</td>\n",
       "    </tr>\n",
       "    <tr>\n",
       "      <th>4</th>\n",
       "      <td>5</td>\n",
       "      <td>2</td>\n",
       "      <td>4.1</td>\n",
       "      <td>4.1</td>\n",
       "      <td>208.940519</td>\n",
       "      <td>Continuous Corn + PGC</td>\n",
       "      <td>CC + PGC</td>\n",
       "    </tr>\n",
       "    <tr>\n",
       "      <th>5</th>\n",
       "      <td>6</td>\n",
       "      <td>2</td>\n",
       "      <td>3.2</td>\n",
       "      <td>3.2</td>\n",
       "      <td>223.988531</td>\n",
       "      <td>Continuous Corn + 30 in ISC</td>\n",
       "      <td>CC + 30ISC</td>\n",
       "    </tr>\n",
       "    <tr>\n",
       "      <th>10</th>\n",
       "      <td>11</td>\n",
       "      <td>2</td>\n",
       "      <td>2C</td>\n",
       "      <td>2.0</td>\n",
       "      <td>237.683989</td>\n",
       "      <td>Corn/Soy, Spring Manure</td>\n",
       "      <td>CS, SM</td>\n",
       "    </tr>\n",
       "  </tbody>\n",
       "</table>\n",
       "</div>"
      ],
      "text/plain": [
       "    Plot Number  Block Treatment  simple_treatment       Yield  \\\n",
       "2             3      2        1C               1.0  232.173281   \n",
       "3             4      2       3.1               3.1  231.645855   \n",
       "4             5      2       4.1               4.1  208.940519   \n",
       "5             6      2       3.2               3.2  223.988531   \n",
       "10           11      2        2C               2.0  237.683989   \n",
       "\n",
       "          Treatment Description Short Trt Description  \n",
       "2          Corn/Soy, Spring UAN              CS, SUAN  \n",
       "3               Continuous Corn                    CC  \n",
       "4         Continuous Corn + PGC              CC + PGC  \n",
       "5   Continuous Corn + 30 in ISC            CC + 30ISC  \n",
       "10      Corn/Soy, Spring Manure                CS, SM  "
      ]
     },
     "execution_count": 25,
     "metadata": {},
     "output_type": "execute_result"
    }
   ],
   "source": [
    "corn_only = corn_only.rename(columns={\"Simp. Treatment\": \"simple_treatment\"})\n",
    "corn_only.head()"
   ]
  },
  {
   "cell_type": "code",
   "execution_count": 26,
   "id": "b4c26b15",
   "metadata": {},
   "outputs": [
    {
     "data": {
      "text/html": [
       "<div>\n",
       "<style scoped>\n",
       "    .dataframe tbody tr th:only-of-type {\n",
       "        vertical-align: middle;\n",
       "    }\n",
       "\n",
       "    .dataframe tbody tr th {\n",
       "        vertical-align: top;\n",
       "    }\n",
       "\n",
       "    .dataframe thead th {\n",
       "        text-align: right;\n",
       "    }\n",
       "</style>\n",
       "<table border=\"1\" class=\"dataframe\">\n",
       "  <thead>\n",
       "    <tr style=\"text-align: right;\">\n",
       "      <th></th>\n",
       "      <th>Plot Number</th>\n",
       "      <th>Block</th>\n",
       "      <th>Treatment</th>\n",
       "      <th>simple_treatment</th>\n",
       "      <th>Yield</th>\n",
       "      <th>Treatment Description</th>\n",
       "      <th>Short Trt Description</th>\n",
       "    </tr>\n",
       "  </thead>\n",
       "  <tbody>\n",
       "    <tr>\n",
       "      <th>2</th>\n",
       "      <td>3</td>\n",
       "      <td>2</td>\n",
       "      <td>1C</td>\n",
       "      <td>1.0</td>\n",
       "      <td>232.173281</td>\n",
       "      <td>Corn/Soy, Spring UAN</td>\n",
       "      <td>CS, SUAN</td>\n",
       "    </tr>\n",
       "    <tr>\n",
       "      <th>3</th>\n",
       "      <td>4</td>\n",
       "      <td>2</td>\n",
       "      <td>3.1</td>\n",
       "      <td>3.1</td>\n",
       "      <td>231.645855</td>\n",
       "      <td>Continuous Corn</td>\n",
       "      <td>CC</td>\n",
       "    </tr>\n",
       "    <tr>\n",
       "      <th>4</th>\n",
       "      <td>5</td>\n",
       "      <td>2</td>\n",
       "      <td>4.1</td>\n",
       "      <td>4.1</td>\n",
       "      <td>208.940519</td>\n",
       "      <td>Continuous Corn + PGC</td>\n",
       "      <td>CC + PGC</td>\n",
       "    </tr>\n",
       "    <tr>\n",
       "      <th>5</th>\n",
       "      <td>6</td>\n",
       "      <td>2</td>\n",
       "      <td>3.2</td>\n",
       "      <td>3.2</td>\n",
       "      <td>223.988531</td>\n",
       "      <td>Continuous Corn + 30 in ISC</td>\n",
       "      <td>CC + 30ISC</td>\n",
       "    </tr>\n",
       "    <tr>\n",
       "      <th>10</th>\n",
       "      <td>11</td>\n",
       "      <td>2</td>\n",
       "      <td>2C</td>\n",
       "      <td>2.0</td>\n",
       "      <td>237.683989</td>\n",
       "      <td>Corn/Soy, Spring Manure</td>\n",
       "      <td>CS, SM</td>\n",
       "    </tr>\n",
       "    <tr>\n",
       "      <th>11</th>\n",
       "      <td>12</td>\n",
       "      <td>2</td>\n",
       "      <td>5C</td>\n",
       "      <td>5.0</td>\n",
       "      <td>229.933270</td>\n",
       "      <td>Corn/Soy + Rye</td>\n",
       "      <td>CS + R</td>\n",
       "    </tr>\n",
       "    <tr>\n",
       "      <th>12</th>\n",
       "      <td>13</td>\n",
       "      <td>2</td>\n",
       "      <td>4.2</td>\n",
       "      <td>4.2</td>\n",
       "      <td>179.638775</td>\n",
       "      <td>Continuous Corn + 60in ISC</td>\n",
       "      <td>CC + 60ISC</td>\n",
       "    </tr>\n",
       "    <tr>\n",
       "      <th>13</th>\n",
       "      <td>14</td>\n",
       "      <td>2</td>\n",
       "      <td>6C</td>\n",
       "      <td>6.0</td>\n",
       "      <td>239.973125</td>\n",
       "      <td>Corn/Soy, Fall Manure</td>\n",
       "      <td>CS, FM</td>\n",
       "    </tr>\n",
       "    <tr>\n",
       "      <th>16</th>\n",
       "      <td>17</td>\n",
       "      <td>1</td>\n",
       "      <td>5C</td>\n",
       "      <td>5.0</td>\n",
       "      <td>214.635798</td>\n",
       "      <td>Corn/Soy + Rye</td>\n",
       "      <td>CS + R</td>\n",
       "    </tr>\n",
       "    <tr>\n",
       "      <th>17</th>\n",
       "      <td>18</td>\n",
       "      <td>1</td>\n",
       "      <td>3.1</td>\n",
       "      <td>3.1</td>\n",
       "      <td>225.744819</td>\n",
       "      <td>Continuous Corn</td>\n",
       "      <td>CC</td>\n",
       "    </tr>\n",
       "    <tr>\n",
       "      <th>20</th>\n",
       "      <td>21</td>\n",
       "      <td>1</td>\n",
       "      <td>4.1</td>\n",
       "      <td>4.1</td>\n",
       "      <td>212.613434</td>\n",
       "      <td>Continuous Corn + PGC</td>\n",
       "      <td>CC + PGC</td>\n",
       "    </tr>\n",
       "    <tr>\n",
       "      <th>21</th>\n",
       "      <td>22</td>\n",
       "      <td>1</td>\n",
       "      <td>4.2</td>\n",
       "      <td>4.2</td>\n",
       "      <td>174.955895</td>\n",
       "      <td>Continuous Corn + 60in ISC</td>\n",
       "      <td>CC + 60ISC</td>\n",
       "    </tr>\n",
       "    <tr>\n",
       "      <th>22</th>\n",
       "      <td>23</td>\n",
       "      <td>3</td>\n",
       "      <td>2C</td>\n",
       "      <td>2.0</td>\n",
       "      <td>235.878142</td>\n",
       "      <td>Corn/Soy, Spring Manure</td>\n",
       "      <td>CS, SM</td>\n",
       "    </tr>\n",
       "    <tr>\n",
       "      <th>23</th>\n",
       "      <td>24</td>\n",
       "      <td>3</td>\n",
       "      <td>1C</td>\n",
       "      <td>1.0</td>\n",
       "      <td>221.982221</td>\n",
       "      <td>Corn/Soy, Spring UAN</td>\n",
       "      <td>CS, SUAN</td>\n",
       "    </tr>\n",
       "    <tr>\n",
       "      <th>24</th>\n",
       "      <td>25</td>\n",
       "      <td>3</td>\n",
       "      <td>6C</td>\n",
       "      <td>6.0</td>\n",
       "      <td>242.690536</td>\n",
       "      <td>Corn/Soy, Fall Manure</td>\n",
       "      <td>CS, FM</td>\n",
       "    </tr>\n",
       "    <tr>\n",
       "      <th>25</th>\n",
       "      <td>26</td>\n",
       "      <td>3</td>\n",
       "      <td>4.1</td>\n",
       "      <td>4.1</td>\n",
       "      <td>224.553810</td>\n",
       "      <td>Continuous Corn + PGC</td>\n",
       "      <td>CC + PGC</td>\n",
       "    </tr>\n",
       "    <tr>\n",
       "      <th>26</th>\n",
       "      <td>27</td>\n",
       "      <td>1</td>\n",
       "      <td>2C</td>\n",
       "      <td>2.0</td>\n",
       "      <td>242.054538</td>\n",
       "      <td>Corn/Soy, Spring Manure</td>\n",
       "      <td>CS, SM</td>\n",
       "    </tr>\n",
       "    <tr>\n",
       "      <th>27</th>\n",
       "      <td>28</td>\n",
       "      <td>1</td>\n",
       "      <td>1C</td>\n",
       "      <td>1.0</td>\n",
       "      <td>218.430571</td>\n",
       "      <td>Corn/Soy, Spring UAN</td>\n",
       "      <td>CS, SUAN</td>\n",
       "    </tr>\n",
       "    <tr>\n",
       "      <th>30</th>\n",
       "      <td>31</td>\n",
       "      <td>1</td>\n",
       "      <td>6C</td>\n",
       "      <td>6.0</td>\n",
       "      <td>241.981279</td>\n",
       "      <td>Corn/Soy, Fall Manure</td>\n",
       "      <td>CS, FM</td>\n",
       "    </tr>\n",
       "    <tr>\n",
       "      <th>31</th>\n",
       "      <td>32</td>\n",
       "      <td>1</td>\n",
       "      <td>3.2</td>\n",
       "      <td>3.2</td>\n",
       "      <td>214.282805</td>\n",
       "      <td>Continuous Corn + 30 in ISC</td>\n",
       "      <td>CC + 30ISC</td>\n",
       "    </tr>\n",
       "    <tr>\n",
       "      <th>32</th>\n",
       "      <td>33</td>\n",
       "      <td>3</td>\n",
       "      <td>3.1</td>\n",
       "      <td>3.1</td>\n",
       "      <td>226.954749</td>\n",
       "      <td>Continuous Corn</td>\n",
       "      <td>CC</td>\n",
       "    </tr>\n",
       "    <tr>\n",
       "      <th>33</th>\n",
       "      <td>34</td>\n",
       "      <td>3</td>\n",
       "      <td>5C</td>\n",
       "      <td>5.0</td>\n",
       "      <td>226.563653</td>\n",
       "      <td>Corn/Soy + Rye</td>\n",
       "      <td>CS + R</td>\n",
       "    </tr>\n",
       "    <tr>\n",
       "      <th>34</th>\n",
       "      <td>35</td>\n",
       "      <td>3</td>\n",
       "      <td>4.2</td>\n",
       "      <td>4.2</td>\n",
       "      <td>174.586423</td>\n",
       "      <td>Continuous Corn + 60in ISC</td>\n",
       "      <td>CC + 60ISC</td>\n",
       "    </tr>\n",
       "    <tr>\n",
       "      <th>35</th>\n",
       "      <td>36</td>\n",
       "      <td>3</td>\n",
       "      <td>3.2</td>\n",
       "      <td>3.2</td>\n",
       "      <td>233.153352</td>\n",
       "      <td>Continuous Corn + 30 in ISC</td>\n",
       "      <td>CC + 30ISC</td>\n",
       "    </tr>\n",
       "  </tbody>\n",
       "</table>\n",
       "</div>"
      ],
      "text/plain": [
       "    Plot Number  Block Treatment  simple_treatment       Yield  \\\n",
       "2             3      2        1C               1.0  232.173281   \n",
       "3             4      2       3.1               3.1  231.645855   \n",
       "4             5      2       4.1               4.1  208.940519   \n",
       "5             6      2       3.2               3.2  223.988531   \n",
       "10           11      2        2C               2.0  237.683989   \n",
       "11           12      2        5C               5.0  229.933270   \n",
       "12           13      2       4.2               4.2  179.638775   \n",
       "13           14      2        6C               6.0  239.973125   \n",
       "16           17      1        5C               5.0  214.635798   \n",
       "17           18      1       3.1               3.1  225.744819   \n",
       "20           21      1       4.1               4.1  212.613434   \n",
       "21           22      1       4.2               4.2  174.955895   \n",
       "22           23      3        2C               2.0  235.878142   \n",
       "23           24      3        1C               1.0  221.982221   \n",
       "24           25      3        6C               6.0  242.690536   \n",
       "25           26      3       4.1               4.1  224.553810   \n",
       "26           27      1        2C               2.0  242.054538   \n",
       "27           28      1        1C               1.0  218.430571   \n",
       "30           31      1        6C               6.0  241.981279   \n",
       "31           32      1       3.2               3.2  214.282805   \n",
       "32           33      3       3.1               3.1  226.954749   \n",
       "33           34      3        5C               5.0  226.563653   \n",
       "34           35      3       4.2               4.2  174.586423   \n",
       "35           36      3       3.2               3.2  233.153352   \n",
       "\n",
       "          Treatment Description Short Trt Description  \n",
       "2          Corn/Soy, Spring UAN              CS, SUAN  \n",
       "3               Continuous Corn                    CC  \n",
       "4         Continuous Corn + PGC              CC + PGC  \n",
       "5   Continuous Corn + 30 in ISC            CC + 30ISC  \n",
       "10      Corn/Soy, Spring Manure                CS, SM  \n",
       "11               Corn/Soy + Rye                CS + R  \n",
       "12   Continuous Corn + 60in ISC            CC + 60ISC  \n",
       "13        Corn/Soy, Fall Manure                CS, FM  \n",
       "16               Corn/Soy + Rye                CS + R  \n",
       "17              Continuous Corn                    CC  \n",
       "20        Continuous Corn + PGC              CC + PGC  \n",
       "21   Continuous Corn + 60in ISC            CC + 60ISC  \n",
       "22      Corn/Soy, Spring Manure                CS, SM  \n",
       "23         Corn/Soy, Spring UAN              CS, SUAN  \n",
       "24        Corn/Soy, Fall Manure                CS, FM  \n",
       "25        Continuous Corn + PGC              CC + PGC  \n",
       "26      Corn/Soy, Spring Manure                CS, SM  \n",
       "27         Corn/Soy, Spring UAN              CS, SUAN  \n",
       "30        Corn/Soy, Fall Manure                CS, FM  \n",
       "31  Continuous Corn + 30 in ISC            CC + 30ISC  \n",
       "32              Continuous Corn                    CC  \n",
       "33               Corn/Soy + Rye                CS + R  \n",
       "34   Continuous Corn + 60in ISC            CC + 60ISC  \n",
       "35  Continuous Corn + 30 in ISC            CC + 30ISC  "
      ]
     },
     "execution_count": 26,
     "metadata": {},
     "output_type": "execute_result"
    }
   ],
   "source": [
    "corn_only"
   ]
  },
  {
   "cell_type": "code",
   "execution_count": 27,
   "id": "3a042920",
   "metadata": {},
   "outputs": [
    {
     "data": {
      "text/html": [
       "<div>\n",
       "<style scoped>\n",
       "    .dataframe tbody tr th:only-of-type {\n",
       "        vertical-align: middle;\n",
       "    }\n",
       "\n",
       "    .dataframe tbody tr th {\n",
       "        vertical-align: top;\n",
       "    }\n",
       "\n",
       "    .dataframe thead th {\n",
       "        text-align: right;\n",
       "    }\n",
       "</style>\n",
       "<table border=\"1\" class=\"dataframe\">\n",
       "  <thead>\n",
       "    <tr style=\"text-align: right;\">\n",
       "      <th></th>\n",
       "      <th>count</th>\n",
       "      <th>mean</th>\n",
       "      <th>std</th>\n",
       "      <th>min</th>\n",
       "      <th>25%</th>\n",
       "      <th>50%</th>\n",
       "      <th>75%</th>\n",
       "      <th>max</th>\n",
       "    </tr>\n",
       "    <tr>\n",
       "      <th>Treatment</th>\n",
       "      <th></th>\n",
       "      <th></th>\n",
       "      <th></th>\n",
       "      <th></th>\n",
       "      <th></th>\n",
       "      <th></th>\n",
       "      <th></th>\n",
       "      <th></th>\n",
       "    </tr>\n",
       "  </thead>\n",
       "  <tbody>\n",
       "    <tr>\n",
       "      <th>1C</th>\n",
       "      <td>3.0</td>\n",
       "      <td>224.195358</td>\n",
       "      <td>7.133652</td>\n",
       "      <td>218.430571</td>\n",
       "      <td>220.206396</td>\n",
       "      <td>221.982221</td>\n",
       "      <td>227.077751</td>\n",
       "      <td>232.173281</td>\n",
       "    </tr>\n",
       "    <tr>\n",
       "      <th>2C</th>\n",
       "      <td>3.0</td>\n",
       "      <td>238.538890</td>\n",
       "      <td>3.175706</td>\n",
       "      <td>235.878142</td>\n",
       "      <td>236.781066</td>\n",
       "      <td>237.683989</td>\n",
       "      <td>239.869263</td>\n",
       "      <td>242.054538</td>\n",
       "    </tr>\n",
       "    <tr>\n",
       "      <th>3.1</th>\n",
       "      <td>3.0</td>\n",
       "      <td>228.115141</td>\n",
       "      <td>3.116960</td>\n",
       "      <td>225.744819</td>\n",
       "      <td>226.349784</td>\n",
       "      <td>226.954749</td>\n",
       "      <td>229.300302</td>\n",
       "      <td>231.645855</td>\n",
       "    </tr>\n",
       "    <tr>\n",
       "      <th>3.2</th>\n",
       "      <td>3.0</td>\n",
       "      <td>223.808229</td>\n",
       "      <td>9.436566</td>\n",
       "      <td>214.282805</td>\n",
       "      <td>219.135668</td>\n",
       "      <td>223.988531</td>\n",
       "      <td>228.570942</td>\n",
       "      <td>233.153352</td>\n",
       "    </tr>\n",
       "    <tr>\n",
       "      <th>4.1</th>\n",
       "      <td>3.0</td>\n",
       "      <td>215.369255</td>\n",
       "      <td>8.163310</td>\n",
       "      <td>208.940519</td>\n",
       "      <td>210.776977</td>\n",
       "      <td>212.613434</td>\n",
       "      <td>218.583622</td>\n",
       "      <td>224.553810</td>\n",
       "    </tr>\n",
       "    <tr>\n",
       "      <th>4.2</th>\n",
       "      <td>3.0</td>\n",
       "      <td>176.393698</td>\n",
       "      <td>2.816385</td>\n",
       "      <td>174.586423</td>\n",
       "      <td>174.771159</td>\n",
       "      <td>174.955895</td>\n",
       "      <td>177.297335</td>\n",
       "      <td>179.638775</td>\n",
       "    </tr>\n",
       "    <tr>\n",
       "      <th>5C</th>\n",
       "      <td>3.0</td>\n",
       "      <td>223.710907</td>\n",
       "      <td>8.037834</td>\n",
       "      <td>214.635798</td>\n",
       "      <td>220.599726</td>\n",
       "      <td>226.563653</td>\n",
       "      <td>228.248461</td>\n",
       "      <td>229.933270</td>\n",
       "    </tr>\n",
       "    <tr>\n",
       "      <th>6C</th>\n",
       "      <td>3.0</td>\n",
       "      <td>241.548313</td>\n",
       "      <td>1.409495</td>\n",
       "      <td>239.973125</td>\n",
       "      <td>240.977202</td>\n",
       "      <td>241.981279</td>\n",
       "      <td>242.335907</td>\n",
       "      <td>242.690536</td>\n",
       "    </tr>\n",
       "  </tbody>\n",
       "</table>\n",
       "</div>"
      ],
      "text/plain": [
       "           count        mean       std         min         25%         50%  \\\n",
       "Treatment                                                                    \n",
       "1C           3.0  224.195358  7.133652  218.430571  220.206396  221.982221   \n",
       "2C           3.0  238.538890  3.175706  235.878142  236.781066  237.683989   \n",
       "3.1          3.0  228.115141  3.116960  225.744819  226.349784  226.954749   \n",
       "3.2          3.0  223.808229  9.436566  214.282805  219.135668  223.988531   \n",
       "4.1          3.0  215.369255  8.163310  208.940519  210.776977  212.613434   \n",
       "4.2          3.0  176.393698  2.816385  174.586423  174.771159  174.955895   \n",
       "5C           3.0  223.710907  8.037834  214.635798  220.599726  226.563653   \n",
       "6C           3.0  241.548313  1.409495  239.973125  240.977202  241.981279   \n",
       "\n",
       "                  75%         max  \n",
       "Treatment                          \n",
       "1C         227.077751  232.173281  \n",
       "2C         239.869263  242.054538  \n",
       "3.1        229.300302  231.645855  \n",
       "3.2        228.570942  233.153352  \n",
       "4.1        218.583622  224.553810  \n",
       "4.2        177.297335  179.638775  \n",
       "5C         228.248461  229.933270  \n",
       "6C         242.335907  242.690536  "
      ]
     },
     "execution_count": 27,
     "metadata": {},
     "output_type": "execute_result"
    }
   ],
   "source": [
    "corn_only_stats = pd.DataFrame(corn_only.groupby('Treatment')['Yield'].describe())\n",
    "corn_only_stats"
   ]
  },
  {
   "cell_type": "code",
   "execution_count": 28,
   "id": "2f434949",
   "metadata": {},
   "outputs": [
    {
     "data": {
      "image/png": "[encoded data removed]",
      "text/plain": [
       "<Figure size 432x288 with 1 Axes>"
      ]
     },
     "metadata": {
      "needs_background": "light"
     },
     "output_type": "display_data"
    }
   ],
   "source": [
    "plt.hist(x='Yield', bins = 'auto', data = corn_only)\n",
    "plt.title(\"Corn Yields 2021\")\n",
    "plt.xlabel('Yield (bu/ac)')\n",
    "plt.ylabel('Frequency')\n",
    "plt.savefig('Corn Histogram.jpg', bbox_inches='tight')"
   ]
  },
  {
   "cell_type": "markdown",
   "id": "5c1d9a31",
   "metadata": {},
   "source": [
    "This is not looking very normally distributed. "
   ]
  },
  {
   "cell_type": "code",
   "execution_count": 29,
   "id": "7148eae7",
   "metadata": {},
   "outputs": [
    {
     "data": {
      "image/png": "[encoded data removed]",
      "text/plain": [
       "<Figure size 432x288 with 1 Axes>"
      ]
     },
     "metadata": {
      "needs_background": "light"
     },
     "output_type": "display_data"
    },
    {
     "data": {
      "text/plain": [
       "<Figure size 432x288 with 0 Axes>"
      ]
     },
     "metadata": {},
     "output_type": "display_data"
    }
   ],
   "source": [
    "import scipy.stats as stats\n",
    "stats.probplot(corn_only['Yield'], dist=\"norm\", plot=plt)\n",
    "plt.show()\n",
    "plt.savefig('corn_yield_probplot', bbox_inches='tight')"
   ]
  },
  {
   "cell_type": "code",
   "execution_count": 30,
   "id": "ae7e35f4",
   "metadata": {},
   "outputs": [
    {
     "data": {
      "image/png": "[encoded data removed]",
      "text/plain": [
       "<Figure size 432x288 with 1 Axes>"
      ]
     },
     "metadata": {
      "needs_background": "light"
     },
     "output_type": "display_data"
    },
    {
     "data": {
      "image/png": "[encoded data removed]",
      "text/plain": [
       "<Figure size 432x288 with 1 Axes>"
      ]
     },
     "metadata": {
      "needs_background": "light"
     },
     "output_type": "display_data"
    },
    {
     "data": {
      "image/png": "[encoded data removed]",
      "text/plain": [
       "<Figure size 432x288 with 1 Axes>"
      ]
     },
     "metadata": {
      "needs_background": "light"
     },
     "output_type": "display_data"
    },
    {
     "data": {
      "image/png": "[encoded data removed]",
      "text/plain": [
       "<Figure size 432x288 with 1 Axes>"
      ]
     },
     "metadata": {
      "needs_background": "light"
     },
     "output_type": "display_data"
    },
    {
     "data": {
      "image/png": "[encoded data removed]",
      "text/plain": [
       "<Figure size 432x288 with 1 Axes>"
      ]
     },
     "metadata": {
      "needs_background": "light"
     },
     "output_type": "display_data"
    },
    {
     "data": {
      "image/png": "[encoded data removed]",
      "text/plain": [
       "<Figure size 432x288 with 1 Axes>"
      ]
     },
     "metadata": {
      "needs_background": "light"
     },
     "output_type": "display_data"
    },
    {
     "data": {
      "image/png": "[encoded data removed]",
      "text/plain": [
       "<Figure size 432x288 with 1 Axes>"
      ]
     },
     "metadata": {
      "needs_background": "light"
     },
     "output_type": "display_data"
    },
    {
     "data": {
      "image/png": "[encoded data removed]",
      "text/plain": [
       "<Figure size 432x288 with 1 Axes>"
      ]
     },
     "metadata": {
      "needs_background": "light"
     },
     "output_type": "display_data"
    }
   ],
   "source": [
    "import scipy.stats as stats\n",
    "unique_treatments = corn_only['Treatment'].unique()\n",
    "for Treatment in unique_treatments:\n",
    "    stats.probplot(corn_only[corn_only['Treatment'] == Treatment]['Yield'], dist=\"norm\", plot=plt)\n",
    "    plt.title(\"Probability Plot - \" +  Treatment)\n",
    "    plt.show()"
   ]
  },
  {
   "cell_type": "markdown",
   "id": "e3de519d",
   "metadata": {},
   "source": [
    "### Bartlett’s Test of Homogeneity of Variances"
   ]
  },
  {
   "cell_type": "markdown",
   "id": "6bff9ffb",
   "metadata": {},
   "source": [
    "Following this tutorial: https://www.marsja.se/levenes-bartletts-test-of-equality-homogeneity-of-variance-in-python/"
   ]
  },
  {
   "cell_type": "markdown",
   "id": "d9538d64",
   "metadata": {},
   "source": [
    "Null Hypothesis: the variances are equal across all samples/groups     \n",
    "Alternative Hypothesis:  the variances are not equal across all samples/groups    "
   ]
  },
  {
   "cell_type": "code",
   "execution_count": 31,
   "id": "1308adba",
   "metadata": {},
   "outputs": [
    {
     "name": "stdout",
     "output_type": "stream",
     "text": [
      "8.236102945085667 0.3122358533181093\n"
     ]
    }
   ],
   "source": [
    "from scipy.stats import bartlett\n",
    "\n",
    "# subsetting the data:\n",
    "trt1 = corn_only.query('Treatment == \"1C\"')['Yield']\n",
    "trt2 = corn_only.query('Treatment == \"2C\"')['Yield']\n",
    "trt31 = corn_only.query('Treatment == \"3.1\"')['Yield']\n",
    "trt32 = corn_only.query('Treatment == \"3.2\"')['Yield']\n",
    "trt41 = corn_only.query('Treatment == \"4.1\"')['Yield']\n",
    "trt42 = corn_only.query('Treatment == \"4.2\"')['Yield']\n",
    "trt5 = corn_only.query('Treatment == \"5C\"')['Yield']\n",
    "trt6 = corn_only.query('Treatment == \"6C\"')['Yield']\n",
    "\n",
    "# Bartlett's test in Python with SciPy:\n",
    "stat, p = bartlett(trt1, trt2, trt31, trt32, trt41, trt42, trt5, trt6)\n",
    "\n",
    "# Get the results:\n",
    "print(stat, p)"
   ]
  },
  {
   "cell_type": "markdown",
   "id": "7395f4c2",
   "metadata": {},
   "source": [
    "p-value is high, so assume variances are the same. "
   ]
  },
  {
   "cell_type": "markdown",
   "id": "2c477ea8",
   "metadata": {},
   "source": [
    "### Levene’s Test of Equality of Variances"
   ]
  },
  {
   "cell_type": "code",
   "execution_count": 32,
   "id": "f1205773",
   "metadata": {},
   "outputs": [
    {
     "name": "stdout",
     "output_type": "stream",
     "text": [
      "0.6584854455470804 0.7032800804487055\n"
     ]
    }
   ],
   "source": [
    "from scipy.stats import levene\n",
    "\n",
    "# Create three arrays for each sample:\n",
    "trt1 = corn_only.query('Treatment == \"1C\"')['Yield']\n",
    "trt2 = corn_only.query('Treatment == \"2C\"')['Yield']\n",
    "trt31 = corn_only.query('Treatment == \"3.1\"')['Yield']\n",
    "trt32 = corn_only.query('Treatment == \"3.2\"')['Yield']\n",
    "trt41 = corn_only.query('Treatment == \"4.1\"')['Yield']\n",
    "trt42 = corn_only.query('Treatment == \"4.2\"')['Yield']\n",
    "trt5 = corn_only.query('Treatment == \"5C\"')['Yield']\n",
    "trt6 = corn_only.query('Treatment == \"6C\"')['Yield']\n",
    "\n",
    "# Levene's Test in Python with Scipy:\n",
    "stat, p = levene(trt1, trt2, trt31, trt32, trt41, trt42, trt5, trt6)\n",
    "\n",
    "print(stat, p)"
   ]
  },
  {
   "cell_type": "markdown",
   "id": "2c48c626",
   "metadata": {},
   "source": [
    "Again, p-value is high, so assume variances are the same. "
   ]
  },
  {
   "cell_type": "code",
   "execution_count": 33,
   "id": "47834c02",
   "metadata": {},
   "outputs": [
    {
     "data": {
      "image/png": "[encoded data removed]",
      "text/plain": [
       "<Figure size 432x288 with 1 Axes>"
      ]
     },
     "metadata": {
      "needs_background": "light"
     },
     "output_type": "display_data"
    },
    {
     "data": {
      "image/png": "[encoded data removed]",
      "text/plain": [
       "<Figure size 432x288 with 1 Axes>"
      ]
     },
     "metadata": {
      "needs_background": "light"
     },
     "output_type": "display_data"
    },
    {
     "data": {
      "image/png": "[encoded data removed]",
      "text/plain": [
       "<Figure size 432x288 with 1 Axes>"
      ]
     },
     "metadata": {
      "needs_background": "light"
     },
     "output_type": "display_data"
    },
    {
     "data": {
      "image/png": "[encoded data removed]",
      "text/plain": [
       "<Figure size 432x288 with 1 Axes>"
      ]
     },
     "metadata": {
      "needs_background": "light"
     },
     "output_type": "display_data"
    },
    {
     "data": {
      "image/png": "[encoded data removed]",
      "text/plain": [
       "<Figure size 432x288 with 1 Axes>"
      ]
     },
     "metadata": {
      "needs_background": "light"
     },
     "output_type": "display_data"
    },
    {
     "data": {
      "image/png": "[encoded data removed]",
      "text/plain": [
       "<Figure size 432x288 with 1 Axes>"
      ]
     },
     "metadata": {
      "needs_background": "light"
     },
     "output_type": "display_data"
    },
    {
     "data": {
      "image/png": "[encoded data removed]",
      "text/plain": [
       "<Figure size 432x288 with 1 Axes>"
      ]
     },
     "metadata": {
      "needs_background": "light"
     },
     "output_type": "display_data"
    },
    {
     "data": {
      "image/png": "[encoded data removed]",
      "text/plain": [
       "<Figure size 432x288 with 1 Axes>"
      ]
     },
     "metadata": {
      "needs_background": "light"
     },
     "output_type": "display_data"
    }
   ],
   "source": [
    "unique_treatments = corn_only['Treatment'].unique()\n",
    "for Treatment in unique_treatments:\n",
    "    plt.hist(corn_only[corn_only['Treatment'] == Treatment]['Yield'], bins = 'auto')\n",
    "    plt.title(\"Histogram - \" +  Treatment)\n",
    "    plt.show()"
   ]
  },
  {
   "cell_type": "markdown",
   "id": "1c3c870b",
   "metadata": {},
   "source": [
    "### Corn Analysis of Variance"
   ]
  },
  {
   "cell_type": "code",
   "execution_count": 34,
   "id": "7e4330bf",
   "metadata": {
    "scrolled": true
   },
   "outputs": [
    {
     "name": "stdout",
     "output_type": "stream",
     "text": [
      "                       df       sum_sq      mean_sq          F        PR(>F)\n",
      "C(Block)              2.0   136.847333    68.423666   2.060247  1.643259e-01\n",
      "C(simple_treatment)   7.0  8476.954203  1210.993458  36.463195  6.190045e-08\n",
      "Residual             14.0   464.959492    33.211392        NaN           NaN\n"
     ]
    }
   ],
   "source": [
    "\n",
    "\n",
    "#corn_formula = 'Yield ~C(Block)+C(Treatment)+C(Block):C(Treatment)'\n",
    "\n",
    "model = ols('Yield ~ C(Block) + C(simple_treatment)', data = corn_only).fit()\n",
    "\n",
    "aov_table = sm.stats.anova_lm(model)\n",
    "\n",
    "print(aov_table)\n",
    "\n"
   ]
  },
  {
   "cell_type": "markdown",
   "id": "6615421c",
   "metadata": {},
   "source": [
    "It looks like block does not have a significant effect (p = 0.164), but treatment does (p < 0.05)."
   ]
  },
  {
   "cell_type": "code",
   "execution_count": 35,
   "id": "b8e908be",
   "metadata": {},
   "outputs": [
    {
     "name": "stdout",
     "output_type": "stream",
     "text": [
      "                            OLS Regression Results                            \n",
      "==============================================================================\n",
      "Dep. Variable:                  Yield   R-squared:                       0.949\n",
      "Model:                            OLS   Adj. R-squared:                  0.916\n",
      "Method:                 Least Squares   F-statistic:                     28.82\n",
      "Date:                Tue, 16 Nov 2021   Prob (F-statistic):           1.60e-07\n",
      "Time:                        10:31:44   Log-Likelihood:                -69.621\n",
      "No. Observations:                  24   AIC:                             159.2\n",
      "Df Residuals:                      14   BIC:                             171.0\n",
      "Df Model:                           9                                         \n",
      "Covariance Type:            nonrobust                                         \n",
      "==============================================================================================\n",
      "                                 coef    std err          t      P>|t|      [0.025      0.975]\n",
      "----------------------------------------------------------------------------------------------\n",
      "Intercept                    220.8228      3.720     59.362      0.000     212.844     228.801\n",
      "C(Block)[T.2]                  4.9098      2.881      1.704      0.110      -1.270      11.090\n",
      "C(Block)[T.3]                  5.2080      2.881      1.807      0.092      -0.972      11.388\n",
      "C(simple_treatment)[T.2.0]    14.3435      4.705      3.048      0.009       4.251      24.436\n",
      "C(simple_treatment)[T.3.1]     3.9198      4.705      0.833      0.419      -6.172      14.012\n",
      "C(simple_treatment)[T.3.2]    -0.3871      4.705     -0.082      0.936     -10.479       9.705\n",
      "C(simple_treatment)[T.4.1]    -8.8261      4.705     -1.876      0.082     -18.918       1.266\n",
      "C(simple_treatment)[T.4.2]   -47.8017      4.705    -10.159      0.000     -57.894     -37.710\n",
      "C(simple_treatment)[T.5.0]    -0.4845      4.705     -0.103      0.919     -10.577       9.608\n",
      "C(simple_treatment)[T.6.0]    17.3530      4.705      3.688      0.002       7.261      27.445\n",
      "==============================================================================\n",
      "Omnibus:                        1.599   Durbin-Watson:                   1.749\n",
      "Prob(Omnibus):                  0.449   Jarque-Bera (JB):                1.050\n",
      "Skew:                           0.185   Prob(JB):                        0.592\n",
      "Kurtosis:                       2.044   Cond. No.                         9.82\n",
      "==============================================================================\n",
      "\n",
      "Notes:\n",
      "[1] Standard Errors assume that the covariance matrix of the errors is correctly specified.\n"
     ]
    }
   ],
   "source": [
    "print(model.summary())"
   ]
  },
  {
   "cell_type": "code",
   "execution_count": 36,
   "id": "21479845",
   "metadata": {},
   "outputs": [
    {
     "name": "stdout",
     "output_type": "stream",
     "text": [
      "                                df        sum_sq      mean_sq    F  PR(>F)\n",
      "C(Block)                       2.0  1.368473e+02    68.423666  0.0     NaN\n",
      "C(simple_treatment)            7.0  8.476954e+03  1210.993458  0.0     NaN\n",
      "C(Block):C(simple_treatment)  14.0  4.649595e+02    33.211392  0.0     NaN\n",
      "Residual                       0.0  1.723024e-24          inf  NaN     NaN\n"
     ]
    },
    {
     "name": "stderr",
     "output_type": "stream",
     "text": [
      "C:\\ProgramData\\Anaconda3.0\\lib\\site-packages\\statsmodels\\stats\\anova.py:138: RuntimeWarning: divide by zero encountered in double_scalars\n",
      "  (model.ssr / model.df_resid))\n"
     ]
    }
   ],
   "source": [
    "\n",
    "model = ols('Yield ~ C(Block) + C(simple_treatment) + C(Block):C(simple_treatment)', data = corn_only).fit()\n",
    "\n",
    "aov_table = sm.stats.anova_lm(model)\n",
    "\n",
    "print(aov_table)\n"
   ]
  },
  {
   "cell_type": "markdown",
   "id": "e5674d35",
   "metadata": {},
   "source": [
    "## Mean Comparisons Attempt"
   ]
  },
  {
   "cell_type": "code",
   "execution_count": 38,
   "id": "1ea48d69",
   "metadata": {},
   "outputs": [
    {
     "data": {
      "text/html": [
       "<div>\n",
       "<style scoped>\n",
       "    .dataframe tbody tr th:only-of-type {\n",
       "        vertical-align: middle;\n",
       "    }\n",
       "\n",
       "    .dataframe tbody tr th {\n",
       "        vertical-align: top;\n",
       "    }\n",
       "\n",
       "    .dataframe thead th {\n",
       "        text-align: right;\n",
       "    }\n",
       "</style>\n",
       "<table border=\"1\" class=\"dataframe\">\n",
       "  <thead>\n",
       "    <tr style=\"text-align: right;\">\n",
       "      <th></th>\n",
       "      <th>1C</th>\n",
       "      <th>3.1</th>\n",
       "      <th>4.1</th>\n",
       "      <th>3.2</th>\n",
       "      <th>2C</th>\n",
       "      <th>5C</th>\n",
       "      <th>4.2</th>\n",
       "      <th>6C</th>\n",
       "    </tr>\n",
       "  </thead>\n",
       "  <tbody>\n",
       "    <tr>\n",
       "      <th>1C</th>\n",
       "      <td>1.000000</td>\n",
       "      <td>1.000000</td>\n",
       "      <td>1.000000</td>\n",
       "      <td>1.000000</td>\n",
       "      <td>0.484020</td>\n",
       "      <td>1.000000</td>\n",
       "      <td>0.010440</td>\n",
       "      <td>0.260172</td>\n",
       "    </tr>\n",
       "    <tr>\n",
       "      <th>3.1</th>\n",
       "      <td>1.000000</td>\n",
       "      <td>1.000000</td>\n",
       "      <td>0.749633</td>\n",
       "      <td>1.000000</td>\n",
       "      <td>0.261491</td>\n",
       "      <td>1.000000</td>\n",
       "      <td>0.000743</td>\n",
       "      <td>0.051264</td>\n",
       "    </tr>\n",
       "    <tr>\n",
       "      <th>4.1</th>\n",
       "      <td>1.000000</td>\n",
       "      <td>0.749633</td>\n",
       "      <td>1.000000</td>\n",
       "      <td>1.000000</td>\n",
       "      <td>0.193260</td>\n",
       "      <td>1.000000</td>\n",
       "      <td>0.031795</td>\n",
       "      <td>0.108431</td>\n",
       "    </tr>\n",
       "    <tr>\n",
       "      <th>3.2</th>\n",
       "      <td>1.000000</td>\n",
       "      <td>1.000000</td>\n",
       "      <td>1.000000</td>\n",
       "      <td>1.000000</td>\n",
       "      <td>0.749633</td>\n",
       "      <td>1.000000</td>\n",
       "      <td>0.025992</td>\n",
       "      <td>0.484020</td>\n",
       "    </tr>\n",
       "    <tr>\n",
       "      <th>2C</th>\n",
       "      <td>0.484020</td>\n",
       "      <td>0.261491</td>\n",
       "      <td>0.193260</td>\n",
       "      <td>0.749633</td>\n",
       "      <td>1.000000</td>\n",
       "      <td>0.533972</td>\n",
       "      <td>0.000388</td>\n",
       "      <td>1.000000</td>\n",
       "    </tr>\n",
       "    <tr>\n",
       "      <th>5C</th>\n",
       "      <td>1.000000</td>\n",
       "      <td>1.000000</td>\n",
       "      <td>1.000000</td>\n",
       "      <td>1.000000</td>\n",
       "      <td>0.533972</td>\n",
       "      <td>1.000000</td>\n",
       "      <td>0.015651</td>\n",
       "      <td>0.309376</td>\n",
       "    </tr>\n",
       "    <tr>\n",
       "      <th>4.2</th>\n",
       "      <td>0.010440</td>\n",
       "      <td>0.000743</td>\n",
       "      <td>0.031795</td>\n",
       "      <td>0.025992</td>\n",
       "      <td>0.000388</td>\n",
       "      <td>0.015651</td>\n",
       "      <td>1.000000</td>\n",
       "      <td>0.000101</td>\n",
       "    </tr>\n",
       "    <tr>\n",
       "      <th>6C</th>\n",
       "      <td>0.260172</td>\n",
       "      <td>0.051264</td>\n",
       "      <td>0.108431</td>\n",
       "      <td>0.484020</td>\n",
       "      <td>1.000000</td>\n",
       "      <td>0.309376</td>\n",
       "      <td>0.000101</td>\n",
       "      <td>1.000000</td>\n",
       "    </tr>\n",
       "  </tbody>\n",
       "</table>\n",
       "</div>"
      ],
      "text/plain": [
       "           1C       3.1       4.1       3.2        2C        5C       4.2  \\\n",
       "1C   1.000000  1.000000  1.000000  1.000000  0.484020  1.000000  0.010440   \n",
       "3.1  1.000000  1.000000  0.749633  1.000000  0.261491  1.000000  0.000743   \n",
       "4.1  1.000000  0.749633  1.000000  1.000000  0.193260  1.000000  0.031795   \n",
       "3.2  1.000000  1.000000  1.000000  1.000000  0.749633  1.000000  0.025992   \n",
       "2C   0.484020  0.261491  0.193260  0.749633  1.000000  0.533972  0.000388   \n",
       "5C   1.000000  1.000000  1.000000  1.000000  0.533972  1.000000  0.015651   \n",
       "4.2  0.010440  0.000743  0.031795  0.025992  0.000388  0.015651  1.000000   \n",
       "6C   0.260172  0.051264  0.108431  0.484020  1.000000  0.309376  0.000101   \n",
       "\n",
       "           6C  \n",
       "1C   0.260172  \n",
       "3.1  0.051264  \n",
       "4.1  0.108431  \n",
       "3.2  0.484020  \n",
       "2C   1.000000  \n",
       "5C   0.309376  \n",
       "4.2  0.000101  \n",
       "6C   1.000000  "
      ]
     },
     "execution_count": 38,
     "metadata": {},
     "output_type": "execute_result"
    }
   ],
   "source": [
    "import statsmodels.api as sa\n",
    "import statsmodels.formula.api as sfa\n",
    "import scikit_posthocs as sp\n",
    "\n",
    "sp.posthoc_ttest(corn_only, val_col='Yield', group_col='Treatment', p_adjust='holm')"
   ]
  },
  {
   "cell_type": "code",
   "execution_count": 39,
   "id": "b8fb32d2",
   "metadata": {},
   "outputs": [
    {
     "data": {
      "text/html": [
       "<div>\n",
       "<style scoped>\n",
       "    .dataframe tbody tr th:only-of-type {\n",
       "        vertical-align: middle;\n",
       "    }\n",
       "\n",
       "    .dataframe tbody tr th {\n",
       "        vertical-align: top;\n",
       "    }\n",
       "\n",
       "    .dataframe thead th {\n",
       "        text-align: right;\n",
       "    }\n",
       "</style>\n",
       "<table border=\"1\" class=\"dataframe\">\n",
       "  <thead>\n",
       "    <tr style=\"text-align: right;\">\n",
       "      <th></th>\n",
       "      <th>1C</th>\n",
       "      <th>2C</th>\n",
       "      <th>3.1</th>\n",
       "      <th>3.2</th>\n",
       "      <th>4.1</th>\n",
       "      <th>4.2</th>\n",
       "      <th>5C</th>\n",
       "      <th>6C</th>\n",
       "    </tr>\n",
       "  </thead>\n",
       "  <tbody>\n",
       "    <tr>\n",
       "      <th>1C</th>\n",
       "      <td>1.000000</td>\n",
       "      <td>0.116421</td>\n",
       "      <td>1.000000</td>\n",
       "      <td>1.000000</td>\n",
       "      <td>1.000000</td>\n",
       "      <td>0.116421</td>\n",
       "      <td>1.000000</td>\n",
       "      <td>0.042947</td>\n",
       "    </tr>\n",
       "    <tr>\n",
       "      <th>2C</th>\n",
       "      <td>0.116421</td>\n",
       "      <td>1.000000</td>\n",
       "      <td>0.463083</td>\n",
       "      <td>0.116421</td>\n",
       "      <td>0.005629</td>\n",
       "      <td>0.000280</td>\n",
       "      <td>0.116421</td>\n",
       "      <td>1.000000</td>\n",
       "    </tr>\n",
       "    <tr>\n",
       "      <th>3.1</th>\n",
       "      <td>1.000000</td>\n",
       "      <td>0.463083</td>\n",
       "      <td>1.000000</td>\n",
       "      <td>1.000000</td>\n",
       "      <td>0.320955</td>\n",
       "      <td>0.021985</td>\n",
       "      <td>1.000000</td>\n",
       "      <td>0.173516</td>\n",
       "    </tr>\n",
       "    <tr>\n",
       "      <th>3.2</th>\n",
       "      <td>1.000000</td>\n",
       "      <td>0.116421</td>\n",
       "      <td>1.000000</td>\n",
       "      <td>1.000000</td>\n",
       "      <td>1.000000</td>\n",
       "      <td>0.116421</td>\n",
       "      <td>1.000000</td>\n",
       "      <td>0.042947</td>\n",
       "    </tr>\n",
       "    <tr>\n",
       "      <th>4.1</th>\n",
       "      <td>1.000000</td>\n",
       "      <td>0.005629</td>\n",
       "      <td>0.320955</td>\n",
       "      <td>1.000000</td>\n",
       "      <td>1.000000</td>\n",
       "      <td>1.000000</td>\n",
       "      <td>1.000000</td>\n",
       "      <td>0.001881</td>\n",
       "    </tr>\n",
       "    <tr>\n",
       "      <th>4.2</th>\n",
       "      <td>0.116421</td>\n",
       "      <td>0.000280</td>\n",
       "      <td>0.021985</td>\n",
       "      <td>0.116421</td>\n",
       "      <td>1.000000</td>\n",
       "      <td>1.000000</td>\n",
       "      <td>0.096701</td>\n",
       "      <td>0.000105</td>\n",
       "    </tr>\n",
       "    <tr>\n",
       "      <th>5C</th>\n",
       "      <td>1.000000</td>\n",
       "      <td>0.116421</td>\n",
       "      <td>1.000000</td>\n",
       "      <td>1.000000</td>\n",
       "      <td>1.000000</td>\n",
       "      <td>0.096701</td>\n",
       "      <td>1.000000</td>\n",
       "      <td>0.049750</td>\n",
       "    </tr>\n",
       "    <tr>\n",
       "      <th>6C</th>\n",
       "      <td>0.042947</td>\n",
       "      <td>1.000000</td>\n",
       "      <td>0.173516</td>\n",
       "      <td>0.042947</td>\n",
       "      <td>0.001881</td>\n",
       "      <td>0.000105</td>\n",
       "      <td>0.049750</td>\n",
       "      <td>1.000000</td>\n",
       "    </tr>\n",
       "  </tbody>\n",
       "</table>\n",
       "</div>"
      ],
      "text/plain": [
       "           1C        2C       3.1       3.2       4.1       4.2        5C  \\\n",
       "1C   1.000000  0.116421  1.000000  1.000000  1.000000  0.116421  1.000000   \n",
       "2C   0.116421  1.000000  0.463083  0.116421  0.005629  0.000280  0.116421   \n",
       "3.1  1.000000  0.463083  1.000000  1.000000  0.320955  0.021985  1.000000   \n",
       "3.2  1.000000  0.116421  1.000000  1.000000  1.000000  0.116421  1.000000   \n",
       "4.1  1.000000  0.005629  0.320955  1.000000  1.000000  1.000000  1.000000   \n",
       "4.2  0.116421  0.000280  0.021985  0.116421  1.000000  1.000000  0.096701   \n",
       "5C   1.000000  0.116421  1.000000  1.000000  1.000000  0.096701  1.000000   \n",
       "6C   0.042947  1.000000  0.173516  0.042947  0.001881  0.000105  0.049750   \n",
       "\n",
       "           6C  \n",
       "1C   0.042947  \n",
       "2C   1.000000  \n",
       "3.1  0.173516  \n",
       "3.2  0.042947  \n",
       "4.1  0.001881  \n",
       "4.2  0.000105  \n",
       "5C   0.049750  \n",
       "6C   1.000000  "
      ]
     },
     "execution_count": 39,
     "metadata": {},
     "output_type": "execute_result"
    }
   ],
   "source": [
    "sp.posthoc_conover(corn_only, val_col='Yield', group_col='Treatment', p_adjust='holm')"
   ]
  },
  {
   "cell_type": "code",
   "execution_count": 43,
   "id": "40ac637c",
   "metadata": {},
   "outputs": [
    {
     "name": "stdout",
     "output_type": "stream",
     "text": [
      "                       df       sum_sq     mean_sq         F    PR(>F)\n",
      "C(Block)              2.0   143.759534   71.879767  1.950678  0.184707\n",
      "C(simple_treatment)   6.0  1513.631179  252.271863  6.846172  0.002433\n",
      "Residual             12.0   442.183244   36.848604       NaN       NaN\n"
     ]
    }
   ],
   "source": [
    "corn_only_no60 = corn_only[corn_only['Treatment'].str.contains('1C|2C|3.1|3.2|4.1|5C|6C')]\n",
    "\n",
    "model = ols('Yield ~ C(Block) + C(simple_treatment)', data = corn_only_no60).fit()\n",
    "\n",
    "aov_table = sm.stats.anova_lm(model)\n",
    "\n",
    "print(aov_table)"
   ]
  },
  {
   "cell_type": "code",
   "execution_count": 44,
   "id": "f46334b8",
   "metadata": {},
   "outputs": [
    {
     "data": {
      "text/html": [
       "<div>\n",
       "<style scoped>\n",
       "    .dataframe tbody tr th:only-of-type {\n",
       "        vertical-align: middle;\n",
       "    }\n",
       "\n",
       "    .dataframe tbody tr th {\n",
       "        vertical-align: top;\n",
       "    }\n",
       "\n",
       "    .dataframe thead th {\n",
       "        text-align: right;\n",
       "    }\n",
       "</style>\n",
       "<table border=\"1\" class=\"dataframe\">\n",
       "  <thead>\n",
       "    <tr style=\"text-align: right;\">\n",
       "      <th></th>\n",
       "      <th>1C</th>\n",
       "      <th>3.1</th>\n",
       "      <th>4.1</th>\n",
       "      <th>3.2</th>\n",
       "      <th>2C</th>\n",
       "      <th>5C</th>\n",
       "      <th>6C</th>\n",
       "    </tr>\n",
       "  </thead>\n",
       "  <tbody>\n",
       "    <tr>\n",
       "      <th>1C</th>\n",
       "      <td>1.000000</td>\n",
       "      <td>1.000000</td>\n",
       "      <td>1.000000</td>\n",
       "      <td>1.000000</td>\n",
       "      <td>0.484020</td>\n",
       "      <td>1.000000</td>\n",
       "      <td>0.260172</td>\n",
       "    </tr>\n",
       "    <tr>\n",
       "      <th>3.1</th>\n",
       "      <td>1.000000</td>\n",
       "      <td>1.000000</td>\n",
       "      <td>0.749633</td>\n",
       "      <td>1.000000</td>\n",
       "      <td>0.261491</td>\n",
       "      <td>1.000000</td>\n",
       "      <td>0.051264</td>\n",
       "    </tr>\n",
       "    <tr>\n",
       "      <th>4.1</th>\n",
       "      <td>1.000000</td>\n",
       "      <td>0.749633</td>\n",
       "      <td>1.000000</td>\n",
       "      <td>1.000000</td>\n",
       "      <td>0.193260</td>\n",
       "      <td>1.000000</td>\n",
       "      <td>0.108431</td>\n",
       "    </tr>\n",
       "    <tr>\n",
       "      <th>3.2</th>\n",
       "      <td>1.000000</td>\n",
       "      <td>1.000000</td>\n",
       "      <td>1.000000</td>\n",
       "      <td>1.000000</td>\n",
       "      <td>0.749633</td>\n",
       "      <td>1.000000</td>\n",
       "      <td>0.484020</td>\n",
       "    </tr>\n",
       "    <tr>\n",
       "      <th>2C</th>\n",
       "      <td>0.484020</td>\n",
       "      <td>0.261491</td>\n",
       "      <td>0.193260</td>\n",
       "      <td>0.749633</td>\n",
       "      <td>1.000000</td>\n",
       "      <td>0.533972</td>\n",
       "      <td>1.000000</td>\n",
       "    </tr>\n",
       "    <tr>\n",
       "      <th>5C</th>\n",
       "      <td>1.000000</td>\n",
       "      <td>1.000000</td>\n",
       "      <td>1.000000</td>\n",
       "      <td>1.000000</td>\n",
       "      <td>0.533972</td>\n",
       "      <td>1.000000</td>\n",
       "      <td>0.309376</td>\n",
       "    </tr>\n",
       "    <tr>\n",
       "      <th>6C</th>\n",
       "      <td>0.260172</td>\n",
       "      <td>0.051264</td>\n",
       "      <td>0.108431</td>\n",
       "      <td>0.484020</td>\n",
       "      <td>1.000000</td>\n",
       "      <td>0.309376</td>\n",
       "      <td>1.000000</td>\n",
       "    </tr>\n",
       "  </tbody>\n",
       "</table>\n",
       "</div>"
      ],
      "text/plain": [
       "           1C       3.1       4.1       3.2        2C        5C        6C\n",
       "1C   1.000000  1.000000  1.000000  1.000000  0.484020  1.000000  0.260172\n",
       "3.1  1.000000  1.000000  0.749633  1.000000  0.261491  1.000000  0.051264\n",
       "4.1  1.000000  0.749633  1.000000  1.000000  0.193260  1.000000  0.108431\n",
       "3.2  1.000000  1.000000  1.000000  1.000000  0.749633  1.000000  0.484020\n",
       "2C   0.484020  0.261491  0.193260  0.749633  1.000000  0.533972  1.000000\n",
       "5C   1.000000  1.000000  1.000000  1.000000  0.533972  1.000000  0.309376\n",
       "6C   0.260172  0.051264  0.108431  0.484020  1.000000  0.309376  1.000000"
      ]
     },
     "execution_count": 44,
     "metadata": {},
     "output_type": "execute_result"
    }
   ],
   "source": [
    "sp.posthoc_ttest(corn_only_no60, val_col='Yield', group_col='Treatment', p_adjust='holm')"
   ]
  },
  {
   "cell_type": "markdown",
   "id": "b60d0061",
   "metadata": {},
   "source": [
    "### Soy ANOVA"
   ]
  },
  {
   "cell_type": "code",
   "execution_count": 37,
   "id": "c888ef0a",
   "metadata": {},
   "outputs": [
    {
     "data": {
      "text/html": [
       "<div>\n",
       "<style scoped>\n",
       "    .dataframe tbody tr th:only-of-type {\n",
       "        vertical-align: middle;\n",
       "    }\n",
       "\n",
       "    .dataframe tbody tr th {\n",
       "        vertical-align: top;\n",
       "    }\n",
       "\n",
       "    .dataframe thead th {\n",
       "        text-align: right;\n",
       "    }\n",
       "</style>\n",
       "<table border=\"1\" class=\"dataframe\">\n",
       "  <thead>\n",
       "    <tr style=\"text-align: right;\">\n",
       "      <th></th>\n",
       "      <th>Plot Number</th>\n",
       "      <th>Block</th>\n",
       "      <th>Treatment</th>\n",
       "      <th>simple_treatment</th>\n",
       "      <th>Yield</th>\n",
       "      <th>Treatment Description</th>\n",
       "      <th>Short Trt Description</th>\n",
       "    </tr>\n",
       "  </thead>\n",
       "  <tbody>\n",
       "    <tr>\n",
       "      <th>0</th>\n",
       "      <td>1</td>\n",
       "      <td>2</td>\n",
       "      <td>2S</td>\n",
       "      <td>2.0</td>\n",
       "      <td>75.328418</td>\n",
       "      <td>Corn/Soy, Spring Manure</td>\n",
       "      <td>CS, SM</td>\n",
       "    </tr>\n",
       "    <tr>\n",
       "      <th>1</th>\n",
       "      <td>2</td>\n",
       "      <td>2</td>\n",
       "      <td>6S</td>\n",
       "      <td>6.0</td>\n",
       "      <td>77.482016</td>\n",
       "      <td>Corn/Soy, Fall Manure</td>\n",
       "      <td>CS, FM</td>\n",
       "    </tr>\n",
       "    <tr>\n",
       "      <th>6</th>\n",
       "      <td>7</td>\n",
       "      <td>3</td>\n",
       "      <td>2S</td>\n",
       "      <td>2.0</td>\n",
       "      <td>75.667936</td>\n",
       "      <td>Corn/Soy, Spring Manure</td>\n",
       "      <td>CS, SM</td>\n",
       "    </tr>\n",
       "    <tr>\n",
       "      <th>7</th>\n",
       "      <td>8</td>\n",
       "      <td>3</td>\n",
       "      <td>5S</td>\n",
       "      <td>5.0</td>\n",
       "      <td>71.839370</td>\n",
       "      <td>Corn/Soy + Rye</td>\n",
       "      <td>CS + R</td>\n",
       "    </tr>\n",
       "    <tr>\n",
       "      <th>8</th>\n",
       "      <td>9</td>\n",
       "      <td>2</td>\n",
       "      <td>5S</td>\n",
       "      <td>5.0</td>\n",
       "      <td>72.610892</td>\n",
       "      <td>Corn/Soy + Rye</td>\n",
       "      <td>CS + R</td>\n",
       "    </tr>\n",
       "  </tbody>\n",
       "</table>\n",
       "</div>"
      ],
      "text/plain": [
       "   Plot Number  Block Treatment  simple_treatment      Yield  \\\n",
       "0            1      2        2S               2.0  75.328418   \n",
       "1            2      2        6S               6.0  77.482016   \n",
       "6            7      3        2S               2.0  75.667936   \n",
       "7            8      3        5S               5.0  71.839370   \n",
       "8            9      2        5S               5.0  72.610892   \n",
       "\n",
       "     Treatment Description Short Trt Description  \n",
       "0  Corn/Soy, Spring Manure                CS, SM  \n",
       "1    Corn/Soy, Fall Manure                CS, FM  \n",
       "6  Corn/Soy, Spring Manure                CS, SM  \n",
       "7           Corn/Soy + Rye                CS + R  \n",
       "8           Corn/Soy + Rye                CS + R  "
      ]
     },
     "execution_count": 37,
     "metadata": {},
     "output_type": "execute_result"
    }
   ],
   "source": [
    "soy_only = soy_only.rename(columns={\"Simp. Treatment\": \"simple_treatment\"})\n",
    "soy_only.head()"
   ]
  },
  {
   "cell_type": "code",
   "execution_count": 38,
   "id": "291c1d47",
   "metadata": {},
   "outputs": [
    {
     "data": {
      "text/html": [
       "<div>\n",
       "<style scoped>\n",
       "    .dataframe tbody tr th:only-of-type {\n",
       "        vertical-align: middle;\n",
       "    }\n",
       "\n",
       "    .dataframe tbody tr th {\n",
       "        vertical-align: top;\n",
       "    }\n",
       "\n",
       "    .dataframe thead th {\n",
       "        text-align: right;\n",
       "    }\n",
       "</style>\n",
       "<table border=\"1\" class=\"dataframe\">\n",
       "  <thead>\n",
       "    <tr style=\"text-align: right;\">\n",
       "      <th></th>\n",
       "      <th>count</th>\n",
       "      <th>mean</th>\n",
       "      <th>std</th>\n",
       "      <th>min</th>\n",
       "      <th>25%</th>\n",
       "      <th>50%</th>\n",
       "      <th>75%</th>\n",
       "      <th>max</th>\n",
       "    </tr>\n",
       "    <tr>\n",
       "      <th>Treatment</th>\n",
       "      <th></th>\n",
       "      <th></th>\n",
       "      <th></th>\n",
       "      <th></th>\n",
       "      <th></th>\n",
       "      <th></th>\n",
       "      <th></th>\n",
       "      <th></th>\n",
       "    </tr>\n",
       "  </thead>\n",
       "  <tbody>\n",
       "    <tr>\n",
       "      <th>1S</th>\n",
       "      <td>3.0</td>\n",
       "      <td>69.256568</td>\n",
       "      <td>1.013542</td>\n",
       "      <td>68.365015</td>\n",
       "      <td>68.705382</td>\n",
       "      <td>69.045750</td>\n",
       "      <td>69.702345</td>\n",
       "      <td>70.358940</td>\n",
       "    </tr>\n",
       "    <tr>\n",
       "      <th>2S</th>\n",
       "      <td>3.0</td>\n",
       "      <td>75.123919</td>\n",
       "      <td>0.670094</td>\n",
       "      <td>74.375402</td>\n",
       "      <td>74.851910</td>\n",
       "      <td>75.328418</td>\n",
       "      <td>75.498177</td>\n",
       "      <td>75.667936</td>\n",
       "    </tr>\n",
       "    <tr>\n",
       "      <th>5S</th>\n",
       "      <td>3.0</td>\n",
       "      <td>71.951712</td>\n",
       "      <td>0.610807</td>\n",
       "      <td>71.404874</td>\n",
       "      <td>71.622122</td>\n",
       "      <td>71.839370</td>\n",
       "      <td>72.225131</td>\n",
       "      <td>72.610892</td>\n",
       "    </tr>\n",
       "    <tr>\n",
       "      <th>6S</th>\n",
       "      <td>3.0</td>\n",
       "      <td>75.131992</td>\n",
       "      <td>2.060390</td>\n",
       "      <td>73.635658</td>\n",
       "      <td>73.956980</td>\n",
       "      <td>74.278302</td>\n",
       "      <td>75.880159</td>\n",
       "      <td>77.482016</td>\n",
       "    </tr>\n",
       "  </tbody>\n",
       "</table>\n",
       "</div>"
      ],
      "text/plain": [
       "           count       mean       std        min        25%        50%  \\\n",
       "Treatment                                                                \n",
       "1S           3.0  69.256568  1.013542  68.365015  68.705382  69.045750   \n",
       "2S           3.0  75.123919  0.670094  74.375402  74.851910  75.328418   \n",
       "5S           3.0  71.951712  0.610807  71.404874  71.622122  71.839370   \n",
       "6S           3.0  75.131992  2.060390  73.635658  73.956980  74.278302   \n",
       "\n",
       "                 75%        max  \n",
       "Treatment                        \n",
       "1S         69.702345  70.358940  \n",
       "2S         75.498177  75.667936  \n",
       "5S         72.225131  72.610892  \n",
       "6S         75.880159  77.482016  "
      ]
     },
     "execution_count": 38,
     "metadata": {},
     "output_type": "execute_result"
    }
   ],
   "source": [
    "soy_only_stats = pd.DataFrame(soy_only.groupby('Treatment')['Yield'].describe())\n",
    "soy_only_stats"
   ]
  },
  {
   "cell_type": "code",
   "execution_count": 40,
   "id": "8915d062",
   "metadata": {},
   "outputs": [
    {
     "data": {
      "image/png": "[encoded data removed]",
      "text/plain": [
       "<Figure size 432x288 with 1 Axes>"
      ]
     },
     "metadata": {
      "needs_background": "light"
     },
     "output_type": "display_data"
    }
   ],
   "source": [
    "plt.hist(x='Yield', bins = 'auto', data = soy_only)\n",
    "plt.title(\"Soy Yields 2021\")\n",
    "plt.xlabel('Yield (bu/ac)')\n",
    "plt.ylabel('Frequency')\n",
    "plt.savefig('Soy Histogram.jpg', bbox_inches='tight')"
   ]
  },
  {
   "cell_type": "code",
   "execution_count": 46,
   "id": "8936cdd5",
   "metadata": {},
   "outputs": [
    {
     "data": {
      "image/png": "[encoded data removed]",
      "text/plain": [
       "<Figure size 432x288 with 1 Axes>"
      ]
     },
     "metadata": {
      "needs_background": "light"
     },
     "output_type": "display_data"
    },
    {
     "data": {
      "text/plain": [
       "<Figure size 432x288 with 0 Axes>"
      ]
     },
     "metadata": {},
     "output_type": "display_data"
    }
   ],
   "source": [
    "import scipy.stats as stats\n",
    "stats.probplot(soy_only['Yield'], dist=\"norm\", plot=plt)\n",
    "plt.show()\n",
    "\n",
    "plt.savefig('soy_yield_probplot', bbox_inches='tight')"
   ]
  },
  {
   "cell_type": "code",
   "execution_count": 42,
   "id": "3a659962",
   "metadata": {},
   "outputs": [
    {
     "data": {
      "image/png": "[encoded data removed]",
      "text/plain": [
       "<Figure size 432x288 with 1 Axes>"
      ]
     },
     "metadata": {
      "needs_background": "light"
     },
     "output_type": "display_data"
    },
    {
     "data": {
      "image/png": "[encoded data removed]",
      "text/plain": [
       "<Figure size 432x288 with 1 Axes>"
      ]
     },
     "metadata": {
      "needs_background": "light"
     },
     "output_type": "display_data"
    },
    {
     "data": {
      "image/png": "[encoded data removed]",
      "text/plain": [
       "<Figure size 432x288 with 1 Axes>"
      ]
     },
     "metadata": {
      "needs_background": "light"
     },
     "output_type": "display_data"
    },
    {
     "data": {
      "image/png": "[encoded data removed]",
      "text/plain": [
       "<Figure size 432x288 with 1 Axes>"
      ]
     },
     "metadata": {
      "needs_background": "light"
     },
     "output_type": "display_data"
    }
   ],
   "source": [
    "import scipy.stats as stats\n",
    "unique_treatments = soy_only['Treatment'].unique()\n",
    "for Treatment in unique_treatments:\n",
    "    stats.probplot(soy_only[soy_only['Treatment'] == Treatment]['Yield'], dist=\"norm\", plot=plt)\n",
    "    plt.title(\"Probability Plot - \" +  Treatment)\n",
    "    plt.show()"
   ]
  },
  {
   "cell_type": "code",
   "execution_count": 43,
   "id": "cf95942e",
   "metadata": {},
   "outputs": [
    {
     "name": "stdout",
     "output_type": "stream",
     "text": [
      "3.3076242408562706 0.3465829012906225\n"
     ]
    }
   ],
   "source": [
    "from scipy.stats import bartlett\n",
    "\n",
    "# subsetting the data:\n",
    "trt2 = soy_only.query('Treatment == \"2S\"')['Yield']\n",
    "trt1 = soy_only.query('Treatment == \"1S\"')['Yield']\n",
    "trt5 = soy_only.query('Treatment == \"5S\"')['Yield']\n",
    "trt6 = soy_only.query('Treatment == \"6S\"')['Yield']\n",
    "\n",
    "\n",
    "# Bartlett's test in Python with SciPy:\n",
    "stat, p = bartlett(trt1, trt2, trt5, trt6)\n",
    "\n",
    "# Get the results:\n",
    "print(stat, p)"
   ]
  },
  {
   "cell_type": "code",
   "execution_count": 44,
   "id": "b5970746",
   "metadata": {
    "scrolled": true
   },
   "outputs": [
    {
     "name": "stdout",
     "output_type": "stream",
     "text": [
      "                      df     sum_sq    mean_sq          F    PR(>F)\n",
      "C(Block)             2.0   4.565992   2.282996   1.796885  0.244617\n",
      "C(simple_treatment)  3.0  72.290509  24.096836  18.965972  0.001830\n",
      "Residual             6.0   7.623180   1.270530        NaN       NaN\n"
     ]
    }
   ],
   "source": [
    "\n",
    "model = ols('Yield ~ C(Block) + C(simple_treatment)', data = soy_only).fit()\n",
    "\n",
    "aov_table = sm.stats.anova_lm(model)\n",
    "\n",
    "print(aov_table)\n",
    "\n"
   ]
  },
  {
   "cell_type": "markdown",
   "id": "940819e7",
   "metadata": {},
   "source": [
    "Again, no effect from block, but treatments do have an effect. "
   ]
  },
  {
   "cell_type": "markdown",
   "id": "490cc147",
   "metadata": {},
   "source": [
    "https://medium.com/budding-data-scientist/data-analytics-using-python-part-6-9e740a1dd681"
   ]
  },
  {
   "cell_type": "code",
   "execution_count": null,
   "id": "af47a3d7",
   "metadata": {},
   "outputs": [],
   "source": [
    "from patsy.contrasts import Treatment\n",
    "\n",
    "levels = [1, 2, 3, 4]\n",
    "contrast = Treatment(reference=0).code_without_intercept(levels)\n",
    "print(contrast.matrix)\n"
   ]
  },
  {
   "cell_type": "markdown",
   "id": "0746bbf2",
   "metadata": {},
   "source": [
    "https://www.pythonfordatascience.org/mixed-effects-regression-python/"
   ]
  },
  {
   "cell_type": "markdown",
   "id": "8b9ef3ae",
   "metadata": {},
   "source": [
    "https://pbgworks.org/sites/pbgworks.org/files/RandomizedCompleteBlockDesignTutorial.pdf"
   ]
  },
  {
   "cell_type": "code",
   "execution_count": null,
   "id": "deb38979",
   "metadata": {},
   "outputs": [],
   "source": []
  }
 ],
 "metadata": {
  "kernelspec": {
   "display_name": "Python 3",
   "language": "python",
   "name": "python3"
  },
  "language_info": {
   "codemirror_mode": {
    "name": "ipython",
    "version": 3
   },
   "file_extension": ".py",
   "mimetype": "text/x-python",
   "name": "python",
   "nbconvert_exporter": "python",
   "pygments_lexer": "ipython3",
   "version": "3.8.8"
  }
 },
 "nbformat": 4,
 "nbformat_minor": 5
}
