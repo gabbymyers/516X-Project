{
 "cells": [
  {
   "cell_type": "code",
   "execution_count": 46,
   "id": "c9bb5ca3",
   "metadata": {},
   "outputs": [],
   "source": [
    "import pandas as pd\n",
    "import matplotlib.pyplot as plt \n",
    "%matplotlib inline \n",
    "import numpy as np\n",
    "import seaborn as sns\n",
    "import statsmodels.api as sm\n",
    "from statsmodels.formula.api import ols"
   ]
  },
  {
   "cell_type": "markdown",
   "id": "47937da3",
   "metadata": {},
   "source": [
    "First import soil moisture data from the master data sheet. We have 12 weeks of soil moisture data for 36 plots and 12 treatments."
   ]
  },
  {
   "cell_type": "code",
   "execution_count": 47,
   "id": "003cbb16",
   "metadata": {},
   "outputs": [
    {
     "data": {
      "text/html": [
       "<div>\n",
       "<style scoped>\n",
       "    .dataframe tbody tr th:only-of-type {\n",
       "        vertical-align: middle;\n",
       "    }\n",
       "\n",
       "    .dataframe tbody tr th {\n",
       "        vertical-align: top;\n",
       "    }\n",
       "\n",
       "    .dataframe thead th {\n",
       "        text-align: right;\n",
       "    }\n",
       "</style>\n",
       "<table border=\"1\" class=\"dataframe\">\n",
       "  <thead>\n",
       "    <tr style=\"text-align: right;\">\n",
       "      <th></th>\n",
       "      <th>Plot Number</th>\n",
       "      <th>Treatment</th>\n",
       "      <th>Block</th>\n",
       "      <th>Sample Date</th>\n",
       "      <th>Moisture Content</th>\n",
       "      <th>Simp. Treatment</th>\n",
       "      <th>Treatment Description</th>\n",
       "      <th>Short Trt Description</th>\n",
       "    </tr>\n",
       "  </thead>\n",
       "  <tbody>\n",
       "    <tr>\n",
       "      <th>0</th>\n",
       "      <td>1</td>\n",
       "      <td>2S</td>\n",
       "      <td>2</td>\n",
       "      <td>1</td>\n",
       "      <td>0.050720</td>\n",
       "      <td>2.0</td>\n",
       "      <td>Corn/Soy, Spring Manure</td>\n",
       "      <td>CS, SM</td>\n",
       "    </tr>\n",
       "    <tr>\n",
       "      <th>1</th>\n",
       "      <td>2</td>\n",
       "      <td>6S</td>\n",
       "      <td>2</td>\n",
       "      <td>1</td>\n",
       "      <td>0.053265</td>\n",
       "      <td>6.0</td>\n",
       "      <td>Corn/Soy, Fall Manure</td>\n",
       "      <td>CS, FM</td>\n",
       "    </tr>\n",
       "    <tr>\n",
       "      <th>2</th>\n",
       "      <td>3</td>\n",
       "      <td>1C</td>\n",
       "      <td>2</td>\n",
       "      <td>1</td>\n",
       "      <td>0.075589</td>\n",
       "      <td>1.0</td>\n",
       "      <td>Corn/Soy, Spring UAN</td>\n",
       "      <td>CS, SUAN</td>\n",
       "    </tr>\n",
       "    <tr>\n",
       "      <th>3</th>\n",
       "      <td>4</td>\n",
       "      <td>3.1</td>\n",
       "      <td>2</td>\n",
       "      <td>1</td>\n",
       "      <td>0.059354</td>\n",
       "      <td>3.1</td>\n",
       "      <td>Continuous Corn</td>\n",
       "      <td>CC</td>\n",
       "    </tr>\n",
       "    <tr>\n",
       "      <th>4</th>\n",
       "      <td>5</td>\n",
       "      <td>4.1</td>\n",
       "      <td>2</td>\n",
       "      <td>1</td>\n",
       "      <td>0.082545</td>\n",
       "      <td>4.1</td>\n",
       "      <td>Continuous Corn + PGC</td>\n",
       "      <td>CC + PGC</td>\n",
       "    </tr>\n",
       "  </tbody>\n",
       "</table>\n",
       "</div>"
      ],
      "text/plain": [
       "   Plot Number Treatment  Block  Sample Date  Moisture Content  \\\n",
       "0            1        2S      2            1          0.050720   \n",
       "1            2        6S      2            1          0.053265   \n",
       "2            3        1C      2            1          0.075589   \n",
       "3            4       3.1      2            1          0.059354   \n",
       "4            5       4.1      2            1          0.082545   \n",
       "\n",
       "   Simp. Treatment    Treatment Description Short Trt Description  \n",
       "0              2.0  Corn/Soy, Spring Manure                CS, SM  \n",
       "1              6.0    Corn/Soy, Fall Manure                CS, FM  \n",
       "2              1.0     Corn/Soy, Spring UAN              CS, SUAN  \n",
       "3              3.1          Continuous Corn                    CC  \n",
       "4              4.1    Continuous Corn + PGC              CC + PGC  "
      ]
     },
     "execution_count": 47,
     "metadata": {},
     "output_type": "execute_result"
    }
   ],
   "source": [
    "soil_moisture = pd.read_excel('2021 Data.xlsx', sheet_name = 'Soil Moisture' )\n",
    "soil_moisture.head()"
   ]
  },
  {
   "cell_type": "markdown",
   "id": "885947d3",
   "metadata": {},
   "source": [
    "Make the column names shorter"
   ]
  },
  {
   "cell_type": "code",
   "execution_count": 50,
   "id": "b25635eb",
   "metadata": {},
   "outputs": [
    {
     "data": {
      "text/html": [
       "<div>\n",
       "<style scoped>\n",
       "    .dataframe tbody tr th:only-of-type {\n",
       "        vertical-align: middle;\n",
       "    }\n",
       "\n",
       "    .dataframe tbody tr th {\n",
       "        vertical-align: top;\n",
       "    }\n",
       "\n",
       "    .dataframe thead th {\n",
       "        text-align: right;\n",
       "    }\n",
       "</style>\n",
       "<table border=\"1\" class=\"dataframe\">\n",
       "  <thead>\n",
       "    <tr style=\"text-align: right;\">\n",
       "      <th></th>\n",
       "      <th>Plot</th>\n",
       "      <th>Treatment</th>\n",
       "      <th>Block</th>\n",
       "      <th>Date</th>\n",
       "      <th>MC</th>\n",
       "      <th>simp_trt</th>\n",
       "      <th>Treatment Description</th>\n",
       "      <th>Short Trt Description</th>\n",
       "    </tr>\n",
       "  </thead>\n",
       "  <tbody>\n",
       "    <tr>\n",
       "      <th>0</th>\n",
       "      <td>1</td>\n",
       "      <td>2S</td>\n",
       "      <td>2</td>\n",
       "      <td>1</td>\n",
       "      <td>0.050720</td>\n",
       "      <td>2.0</td>\n",
       "      <td>Corn/Soy, Spring Manure</td>\n",
       "      <td>CS, SM</td>\n",
       "    </tr>\n",
       "    <tr>\n",
       "      <th>1</th>\n",
       "      <td>2</td>\n",
       "      <td>6S</td>\n",
       "      <td>2</td>\n",
       "      <td>1</td>\n",
       "      <td>0.053265</td>\n",
       "      <td>6.0</td>\n",
       "      <td>Corn/Soy, Fall Manure</td>\n",
       "      <td>CS, FM</td>\n",
       "    </tr>\n",
       "    <tr>\n",
       "      <th>2</th>\n",
       "      <td>3</td>\n",
       "      <td>1C</td>\n",
       "      <td>2</td>\n",
       "      <td>1</td>\n",
       "      <td>0.075589</td>\n",
       "      <td>1.0</td>\n",
       "      <td>Corn/Soy, Spring UAN</td>\n",
       "      <td>CS, SUAN</td>\n",
       "    </tr>\n",
       "    <tr>\n",
       "      <th>3</th>\n",
       "      <td>4</td>\n",
       "      <td>3.1</td>\n",
       "      <td>2</td>\n",
       "      <td>1</td>\n",
       "      <td>0.059354</td>\n",
       "      <td>3.1</td>\n",
       "      <td>Continuous Corn</td>\n",
       "      <td>CC</td>\n",
       "    </tr>\n",
       "    <tr>\n",
       "      <th>4</th>\n",
       "      <td>5</td>\n",
       "      <td>4.1</td>\n",
       "      <td>2</td>\n",
       "      <td>1</td>\n",
       "      <td>0.082545</td>\n",
       "      <td>4.1</td>\n",
       "      <td>Continuous Corn + PGC</td>\n",
       "      <td>CC + PGC</td>\n",
       "    </tr>\n",
       "  </tbody>\n",
       "</table>\n",
       "</div>"
      ],
      "text/plain": [
       "   Plot Treatment  Block  Date        MC  simp_trt    Treatment Description  \\\n",
       "0     1        2S      2     1  0.050720       2.0  Corn/Soy, Spring Manure   \n",
       "1     2        6S      2     1  0.053265       6.0    Corn/Soy, Fall Manure   \n",
       "2     3        1C      2     1  0.075589       1.0     Corn/Soy, Spring UAN   \n",
       "3     4       3.1      2     1  0.059354       3.1          Continuous Corn   \n",
       "4     5       4.1      2     1  0.082545       4.1    Continuous Corn + PGC   \n",
       "\n",
       "  Short Trt Description  \n",
       "0                CS, SM  \n",
       "1                CS, FM  \n",
       "2              CS, SUAN  \n",
       "3                    CC  \n",
       "4              CC + PGC  "
      ]
     },
     "execution_count": 50,
     "metadata": {},
     "output_type": "execute_result"
    }
   ],
   "source": [
    "soil_moisture = soil_moisture.rename(columns={'Plot Number': 'Plot'})\n",
    "soil_moisture = soil_moisture.rename(columns={'Sample Date': 'Date'})\n",
    "soil_moisture = soil_moisture.rename(columns={'Simp. Treatment': 'simp_trt'})\n",
    "soil_moisture = soil_moisture.rename(columns={'Moisture Content': 'MC'})\n",
    "soil_moisture.head()"
   ]
  },
  {
   "cell_type": "code",
   "execution_count": 97,
   "id": "a5d9c58b",
   "metadata": {},
   "outputs": [
    {
     "data": {
      "image/png": "[encoded data removed]",
      "text/plain": [
       "<Figure size 432x288 with 1 Axes>"
      ]
     },
     "metadata": {
      "needs_background": "light"
     },
     "output_type": "display_data"
    }
   ],
   "source": [
    "ax = sns.boxplot(x = \"Treatment\", y = \"MC\", data = soil_moisture, hue = 'Short Trt Description', dodge = False)\n",
    "plt.legend(bbox_to_anchor=(1.05, 1), loc=2, borderaxespad=0.)\n",
    "plt.savefig('trt_mc_box.jpg', bbox_inches='tight')"
   ]
  },
  {
   "cell_type": "markdown",
   "id": "274a9abb",
   "metadata": {},
   "source": [
    "The treatments don't look all that different. There is an outlier on the 30 in row treatment. "
   ]
  },
  {
   "cell_type": "code",
   "execution_count": 96,
   "id": "ff8d7e31",
   "metadata": {},
   "outputs": [
    {
     "data": {
      "image/png": "[encoded data removed]",
      "text/plain": [
       "<Figure size 432x288 with 1 Axes>"
      ]
     },
     "metadata": {
      "needs_background": "light"
     },
     "output_type": "display_data"
    }
   ],
   "source": [
    "ax = sns.boxplot(x = \"Date\", y = \"MC\", data = soil_moisture)\n",
    "plt.savefig('date_bc_box.jpg', bbox_inches='tight')"
   ]
  },
  {
   "cell_type": "markdown",
   "id": "6101bd4c",
   "metadata": {},
   "source": [
    "Function to filter the data by date"
   ]
  },
  {
   "cell_type": "code",
   "execution_count": 54,
   "id": "8ca114cd",
   "metadata": {},
   "outputs": [],
   "source": [
    "def filterbydate (sampledate):\n",
    "    sample_date_df = pd.DataFrame(soil_moisture[soil_moisture.Date == sampledate])\n",
    "    return sample_date_df"
   ]
  },
  {
   "cell_type": "code",
   "execution_count": 55,
   "id": "9f97fd68",
   "metadata": {},
   "outputs": [
    {
     "data": {
      "text/html": [
       "<div>\n",
       "<style scoped>\n",
       "    .dataframe tbody tr th:only-of-type {\n",
       "        vertical-align: middle;\n",
       "    }\n",
       "\n",
       "    .dataframe tbody tr th {\n",
       "        vertical-align: top;\n",
       "    }\n",
       "\n",
       "    .dataframe thead th {\n",
       "        text-align: right;\n",
       "    }\n",
       "</style>\n",
       "<table border=\"1\" class=\"dataframe\">\n",
       "  <thead>\n",
       "    <tr style=\"text-align: right;\">\n",
       "      <th></th>\n",
       "      <th>Plot</th>\n",
       "      <th>Treatment</th>\n",
       "      <th>Block</th>\n",
       "      <th>Date</th>\n",
       "      <th>MC</th>\n",
       "      <th>simp_trt</th>\n",
       "      <th>Treatment Description</th>\n",
       "      <th>Short Trt Description</th>\n",
       "    </tr>\n",
       "  </thead>\n",
       "  <tbody>\n",
       "    <tr>\n",
       "      <th>36</th>\n",
       "      <td>1</td>\n",
       "      <td>2S</td>\n",
       "      <td>2</td>\n",
       "      <td>2</td>\n",
       "      <td>0.222821</td>\n",
       "      <td>2.0</td>\n",
       "      <td>Corn/Soy, Spring Manure</td>\n",
       "      <td>CS, SM</td>\n",
       "    </tr>\n",
       "    <tr>\n",
       "      <th>37</th>\n",
       "      <td>2</td>\n",
       "      <td>6S</td>\n",
       "      <td>2</td>\n",
       "      <td>2</td>\n",
       "      <td>0.251901</td>\n",
       "      <td>6.0</td>\n",
       "      <td>Corn/Soy, Fall Manure</td>\n",
       "      <td>CS, FM</td>\n",
       "    </tr>\n",
       "    <tr>\n",
       "      <th>38</th>\n",
       "      <td>3</td>\n",
       "      <td>1C</td>\n",
       "      <td>2</td>\n",
       "      <td>2</td>\n",
       "      <td>0.229083</td>\n",
       "      <td>1.0</td>\n",
       "      <td>Corn/Soy, Spring UAN</td>\n",
       "      <td>CS, SUAN</td>\n",
       "    </tr>\n",
       "    <tr>\n",
       "      <th>39</th>\n",
       "      <td>4</td>\n",
       "      <td>3.1</td>\n",
       "      <td>2</td>\n",
       "      <td>2</td>\n",
       "      <td>0.263580</td>\n",
       "      <td>3.1</td>\n",
       "      <td>Continuous Corn</td>\n",
       "      <td>CC</td>\n",
       "    </tr>\n",
       "    <tr>\n",
       "      <th>40</th>\n",
       "      <td>5</td>\n",
       "      <td>4.1</td>\n",
       "      <td>2</td>\n",
       "      <td>2</td>\n",
       "      <td>0.256769</td>\n",
       "      <td>4.1</td>\n",
       "      <td>Continuous Corn + PGC</td>\n",
       "      <td>CC + PGC</td>\n",
       "    </tr>\n",
       "  </tbody>\n",
       "</table>\n",
       "</div>"
      ],
      "text/plain": [
       "    Plot Treatment  Block  Date        MC  simp_trt    Treatment Description  \\\n",
       "36     1        2S      2     2  0.222821       2.0  Corn/Soy, Spring Manure   \n",
       "37     2        6S      2     2  0.251901       6.0    Corn/Soy, Fall Manure   \n",
       "38     3        1C      2     2  0.229083       1.0     Corn/Soy, Spring UAN   \n",
       "39     4       3.1      2     2  0.263580       3.1          Continuous Corn   \n",
       "40     5       4.1      2     2  0.256769       4.1    Continuous Corn + PGC   \n",
       "\n",
       "   Short Trt Description  \n",
       "36                CS, SM  \n",
       "37                CS, FM  \n",
       "38              CS, SUAN  \n",
       "39                    CC  \n",
       "40              CC + PGC  "
      ]
     },
     "execution_count": 55,
     "metadata": {},
     "output_type": "execute_result"
    }
   ],
   "source": [
    "filterbydate(2).head()"
   ]
  },
  {
   "cell_type": "markdown",
   "id": "f9dae0dc",
   "metadata": {},
   "source": [
    "Use that function to create box plots by date. "
   ]
  },
  {
   "cell_type": "code",
   "execution_count": 56,
   "id": "7097cd8b",
   "metadata": {
    "scrolled": false
   },
   "outputs": [
    {
     "data": {
      "image/png": "[encoded data removed]",
      "text/plain": [
       "<Figure size 432x288 with 1 Axes>"
      ]
     },
     "metadata": {
      "needs_background": "light"
     },
     "output_type": "display_data"
    },
    {
     "data": {
      "image/png": "[encoded data removed]",
      "text/plain": [
       "<Figure size 432x288 with 1 Axes>"
      ]
     },
     "metadata": {
      "needs_background": "light"
     },
     "output_type": "display_data"
    },
    {
     "data": {
      "image/png": "[encoded data removed]",
      "text/plain": [
       "<Figure size 432x288 with 1 Axes>"
      ]
     },
     "metadata": {
      "needs_background": "light"
     },
     "output_type": "display_data"
    },
    {
     "data": {
      "image/png": "[encoded data removed]",
      "text/plain": [
       "<Figure size 432x288 with 1 Axes>"
      ]
     },
     "metadata": {
      "needs_background": "light"
     },
     "output_type": "display_data"
    },
    {
     "data": {
      "image/png": "[encoded data removed]",
      "text/plain": [
       "<Figure size 432x288 with 1 Axes>"
      ]
     },
     "metadata": {
      "needs_background": "light"
     },
     "output_type": "display_data"
    },
    {
     "data": {
      "image/png": "[encoded data removed]",
      "text/plain": [
       "<Figure size 432x288 with 1 Axes>"
      ]
     },
     "metadata": {
      "needs_background": "light"
     },
     "output_type": "display_data"
    },
    {
     "data": {
      "image/png": "[encoded data removed]",
      "text/plain": [
       "<Figure size 432x288 with 1 Axes>"
      ]
     },
     "metadata": {
      "needs_background": "light"
     },
     "output_type": "display_data"
    },
    {
     "data": {
      "image/png": "[encoded data removed]",
      "text/plain": [
       "<Figure size 432x288 with 1 Axes>"
      ]
     },
     "metadata": {
      "needs_background": "light"
     },
     "output_type": "display_data"
    },
    {
     "data": {
      "image/png": "[encoded data removed]",
      "text/plain": [
       "<Figure size 432x288 with 1 Axes>"
      ]
     },
     "metadata": {
      "needs_background": "light"
     },
     "output_type": "display_data"
    },
    {
     "data": {
      "image/png": "[encoded data removed]",
      "text/plain": [
       "<Figure size 432x288 with 1 Axes>"
      ]
     },
     "metadata": {
      "needs_background": "light"
     },
     "output_type": "display_data"
    },
    {
     "data": {
      "image/png": "[encoded data removed]",
      "text/plain": [
       "<Figure size 432x288 with 1 Axes>"
      ]
     },
     "metadata": {
      "needs_background": "light"
     },
     "output_type": "display_data"
    },
    {
     "data": {
      "image/png": "[encoded data removed]",
      "text/plain": [
       "<Figure size 432x288 with 1 Axes>"
      ]
     },
     "metadata": {
      "needs_background": "light"
     },
     "output_type": "display_data"
    }
   ],
   "source": [
    "sample_date = 1 \n",
    "while sample_date <= max(soil_moisture.Date):\n",
    "    date_df = filterbydate(sample_date)\n",
    "    date_df.boxplot('MC', by = 'Treatment')\n",
    "    plt.title('Moisture Content by Trt on Date {}'.format(sample_date))\n",
    "    plt.suptitle(\"\")\n",
    "    plt.ylabel(\"Moisture Content, DB\")\n",
    "    sample_date = sample_date + 1"
   ]
  },
  {
   "cell_type": "code",
   "execution_count": 57,
   "id": "85e870b0",
   "metadata": {},
   "outputs": [
    {
     "data": {
      "image/png": "[encoded data removed]",
      "text/plain": [
       "<Figure size 432x288 with 1 Axes>"
      ]
     },
     "metadata": {
      "needs_background": "light"
     },
     "output_type": "display_data"
    }
   ],
   "source": [
    "trt_means = pd.DataFrame(soil_moisture.groupby('Treatment')['MC'].describe()['mean'])\n",
    "trt_means = trt_means.reset_index()\n",
    "trt_means['mean'] = 100 * trt_means['mean']\n",
    "\n",
    "ax = sns.barplot(x = 'Treatment', y = 'mean', data = trt_means)\n",
    "ax.set_title('2021 Mean Soil Moisture Content')\n",
    "ax.set(xlabel='Treatment', ylabel='Mean MC %')\n",
    "\n",
    "#for annotating \n",
    "for p in ax.patches:\n",
    "             ax.annotate(\"%.1f\" % p.get_height(), (p.get_x() + p.get_width() / 2., p.get_height()),\n",
    "                 ha='center', va='center', fontsize=10, color='black', xytext=(0, 5),\n",
    "                 textcoords='offset points')\n",
    "        \n",
    "plt.savefig('MC_bar_trt.jpg', bbox_inches='tight')"
   ]
  },
  {
   "cell_type": "code",
   "execution_count": 58,
   "id": "48153443",
   "metadata": {},
   "outputs": [
    {
     "data": {
      "image/png": "[encoded data removed]",
      "text/plain": [
       "<Figure size 432x288 with 1 Axes>"
      ]
     },
     "metadata": {
      "needs_background": "light"
     },
     "output_type": "display_data"
    }
   ],
   "source": [
    "block_means = pd.DataFrame(soil_moisture.groupby('Block')['MC'].describe()['mean'])\n",
    "block_means = block_means.reset_index()\n",
    "block_means['mean'] = 100 * block_means['mean']\n",
    "\n",
    "ax = sns.barplot(x = 'Block', y = 'mean', data = block_means)\n",
    "ax.set_title('2021 Mean Soil Moisture Content')\n",
    "ax.set(xlabel='Block', ylabel='Mean MC %')\n",
    "\n",
    "#for annotating \n",
    "for p in ax.patches:\n",
    "             ax.annotate(\"%.1f\" % p.get_height(), (p.get_x() + p.get_width() / 2., p.get_height()),\n",
    "                 ha='center', va='center', fontsize=10, color='black', xytext=(0, 5),\n",
    "                 textcoords='offset points')\n",
    "        \n",
    "plt.savefig('MC_bar_block.jpg', bbox_inches='tight')"
   ]
  },
  {
   "cell_type": "code",
   "execution_count": 59,
   "id": "0af5383d",
   "metadata": {},
   "outputs": [
    {
     "data": {
      "image/png": "[encoded data removed]",
      "text/plain": [
       "<Figure size 432x288 with 1 Axes>"
      ]
     },
     "metadata": {
      "needs_background": "light"
     },
     "output_type": "display_data"
    }
   ],
   "source": [
    "day_means = pd.DataFrame(soil_moisture.groupby('Date')['MC'].describe()['mean'])\n",
    "day_means = day_means.reset_index()\n",
    "day_means['mean'] = 100 * day_means['mean']\n",
    "\n",
    "ax = sns.barplot(x = 'Date', y = 'mean', data = day_means)\n",
    "ax.set_title('2021 Mean Soil Moisture Content')\n",
    "ax.set(xlabel='Sample Date', ylabel='Mean MC %')\n",
    "\n",
    "#for annotating \n",
    "for p in ax.patches:\n",
    "             ax.annotate(\"%.1f\" % p.get_height(), (p.get_x() + p.get_width() / 2., p.get_height()),\n",
    "                 ha='center', va='center', fontsize=10, color='black', xytext=(0, 5),\n",
    "                 textcoords='offset points')\n",
    "        \n",
    "plt.savefig('MC_bar_date.jpg', bbox_inches='tight')"
   ]
  },
  {
   "cell_type": "markdown",
   "id": "d61ef700",
   "metadata": {},
   "source": [
    "## Checking for Normality"
   ]
  },
  {
   "cell_type": "code",
   "execution_count": 60,
   "id": "7421fb69",
   "metadata": {},
   "outputs": [
    {
     "data": {
      "image/png": "[encoded data removed]",
      "text/plain": [
       "<Figure size 432x288 with 1 Axes>"
      ]
     },
     "metadata": {
      "needs_background": "light"
     },
     "output_type": "display_data"
    }
   ],
   "source": [
    "sns.kdeplot(data=soil_moisture, x=\"MC\")\n",
    "plt.title('Soil Moisture Kernel Density Plot')\n",
    "plt.savefig('soil_moisture_kde.jpg', bbox_inches='tight')"
   ]
  },
  {
   "cell_type": "code",
   "execution_count": 62,
   "id": "a508591a",
   "metadata": {},
   "outputs": [
    {
     "data": {
      "image/png": "[encoded data removed]",
      "text/plain": [
       "<Figure size 432x288 with 1 Axes>"
      ]
     },
     "metadata": {
      "needs_background": "light"
     },
     "output_type": "display_data"
    }
   ],
   "source": [
    "plt.hist(x='MC', bins = 'auto', data = soil_moisture)\n",
    "plt.title(\"Soil Moisture Content 2021\")\n",
    "plt.xlabel('Soil Moisture Content')\n",
    "plt.ylabel('Frequency')\n",
    "plt.savefig('Soil_MC_Histogram.jpg', bbox_inches='tight')"
   ]
  },
  {
   "cell_type": "code",
   "execution_count": 63,
   "id": "56ba467f",
   "metadata": {},
   "outputs": [
    {
     "data": {
      "image/png": "[encoded data removed]",
      "text/plain": [
       "<Figure size 432x288 with 1 Axes>"
      ]
     },
     "metadata": {
      "needs_background": "light"
     },
     "output_type": "display_data"
    },
    {
     "data": {
      "text/plain": [
       "<Figure size 432x288 with 0 Axes>"
      ]
     },
     "metadata": {},
     "output_type": "display_data"
    }
   ],
   "source": [
    "import scipy.stats as stats\n",
    "stats.probplot(soil_moisture['MC'], dist=\"norm\", plot=plt)\n",
    "plt.show()\n",
    "plt.savefig('soil_moisture_probplot', bbox_inches='tight')"
   ]
  },
  {
   "cell_type": "code",
   "execution_count": 82,
   "id": "cbfe9300",
   "metadata": {},
   "outputs": [
    {
     "data": {
      "text/html": [
       "<div>\n",
       "<style scoped>\n",
       "    .dataframe tbody tr th:only-of-type {\n",
       "        vertical-align: middle;\n",
       "    }\n",
       "\n",
       "    .dataframe tbody tr th {\n",
       "        vertical-align: top;\n",
       "    }\n",
       "\n",
       "    .dataframe thead th {\n",
       "        text-align: right;\n",
       "    }\n",
       "</style>\n",
       "<table border=\"1\" class=\"dataframe\">\n",
       "  <thead>\n",
       "    <tr style=\"text-align: right;\">\n",
       "      <th></th>\n",
       "      <th>W</th>\n",
       "      <th>pval</th>\n",
       "      <th>normal</th>\n",
       "    </tr>\n",
       "  </thead>\n",
       "  <tbody>\n",
       "    <tr>\n",
       "      <th>2S</th>\n",
       "      <td>0.952880</td>\n",
       "      <td>0.128851</td>\n",
       "      <td>True</td>\n",
       "    </tr>\n",
       "    <tr>\n",
       "      <th>6S</th>\n",
       "      <td>0.965920</td>\n",
       "      <td>0.324772</td>\n",
       "      <td>True</td>\n",
       "    </tr>\n",
       "    <tr>\n",
       "      <th>1C</th>\n",
       "      <td>0.961268</td>\n",
       "      <td>0.235156</td>\n",
       "      <td>True</td>\n",
       "    </tr>\n",
       "    <tr>\n",
       "      <th>3.1</th>\n",
       "      <td>0.955072</td>\n",
       "      <td>0.150982</td>\n",
       "      <td>True</td>\n",
       "    </tr>\n",
       "    <tr>\n",
       "      <th>4.1</th>\n",
       "      <td>0.948630</td>\n",
       "      <td>0.094685</td>\n",
       "      <td>True</td>\n",
       "    </tr>\n",
       "    <tr>\n",
       "      <th>3.2</th>\n",
       "      <td>0.907526</td>\n",
       "      <td>0.005516</td>\n",
       "      <td>False</td>\n",
       "    </tr>\n",
       "    <tr>\n",
       "      <th>5S</th>\n",
       "      <td>0.959953</td>\n",
       "      <td>0.214258</td>\n",
       "      <td>True</td>\n",
       "    </tr>\n",
       "    <tr>\n",
       "      <th>1S</th>\n",
       "      <td>0.948358</td>\n",
       "      <td>0.092842</td>\n",
       "      <td>True</td>\n",
       "    </tr>\n",
       "    <tr>\n",
       "      <th>2C</th>\n",
       "      <td>0.960136</td>\n",
       "      <td>0.217054</td>\n",
       "      <td>True</td>\n",
       "    </tr>\n",
       "    <tr>\n",
       "      <th>5C</th>\n",
       "      <td>0.930807</td>\n",
       "      <td>0.026481</td>\n",
       "      <td>False</td>\n",
       "    </tr>\n",
       "    <tr>\n",
       "      <th>4.2</th>\n",
       "      <td>0.948560</td>\n",
       "      <td>0.094209</td>\n",
       "      <td>True</td>\n",
       "    </tr>\n",
       "    <tr>\n",
       "      <th>6C</th>\n",
       "      <td>0.936129</td>\n",
       "      <td>0.038540</td>\n",
       "      <td>False</td>\n",
       "    </tr>\n",
       "  </tbody>\n",
       "</table>\n",
       "</div>"
      ],
      "text/plain": [
       "            W      pval  normal\n",
       "2S   0.952880  0.128851    True\n",
       "6S   0.965920  0.324772    True\n",
       "1C   0.961268  0.235156    True\n",
       "3.1  0.955072  0.150982    True\n",
       "4.1  0.948630  0.094685    True\n",
       "3.2  0.907526  0.005516   False\n",
       "5S   0.959953  0.214258    True\n",
       "1S   0.948358  0.092842    True\n",
       "2C   0.960136  0.217054    True\n",
       "5C   0.930807  0.026481   False\n",
       "4.2  0.948560  0.094209    True\n",
       "6C   0.936129  0.038540   False"
      ]
     },
     "execution_count": 82,
     "metadata": {},
     "output_type": "execute_result"
    }
   ],
   "source": [
    "pg.normality(soil_moisture, group='Treatment', dv='MC')"
   ]
  },
  {
   "cell_type": "code",
   "execution_count": 84,
   "id": "0d08f9df",
   "metadata": {},
   "outputs": [
    {
     "data": {
      "text/html": [
       "<div>\n",
       "<style scoped>\n",
       "    .dataframe tbody tr th:only-of-type {\n",
       "        vertical-align: middle;\n",
       "    }\n",
       "\n",
       "    .dataframe tbody tr th {\n",
       "        vertical-align: top;\n",
       "    }\n",
       "\n",
       "    .dataframe thead th {\n",
       "        text-align: right;\n",
       "    }\n",
       "</style>\n",
       "<table border=\"1\" class=\"dataframe\">\n",
       "  <thead>\n",
       "    <tr style=\"text-align: right;\">\n",
       "      <th></th>\n",
       "      <th>W</th>\n",
       "      <th>pval</th>\n",
       "      <th>normal</th>\n",
       "    </tr>\n",
       "  </thead>\n",
       "  <tbody>\n",
       "    <tr>\n",
       "      <th>1</th>\n",
       "      <td>0.960749</td>\n",
       "      <td>2.266894e-01</td>\n",
       "      <td>True</td>\n",
       "    </tr>\n",
       "    <tr>\n",
       "      <th>2</th>\n",
       "      <td>0.858340</td>\n",
       "      <td>2.978925e-04</td>\n",
       "      <td>False</td>\n",
       "    </tr>\n",
       "    <tr>\n",
       "      <th>3</th>\n",
       "      <td>0.891883</td>\n",
       "      <td>2.062198e-03</td>\n",
       "      <td>False</td>\n",
       "    </tr>\n",
       "    <tr>\n",
       "      <th>4</th>\n",
       "      <td>0.983862</td>\n",
       "      <td>8.662307e-01</td>\n",
       "      <td>True</td>\n",
       "    </tr>\n",
       "    <tr>\n",
       "      <th>5</th>\n",
       "      <td>0.969947</td>\n",
       "      <td>4.240769e-01</td>\n",
       "      <td>True</td>\n",
       "    </tr>\n",
       "    <tr>\n",
       "      <th>6</th>\n",
       "      <td>0.976246</td>\n",
       "      <td>6.180680e-01</td>\n",
       "      <td>True</td>\n",
       "    </tr>\n",
       "    <tr>\n",
       "      <th>7</th>\n",
       "      <td>0.850150</td>\n",
       "      <td>1.918544e-04</td>\n",
       "      <td>False</td>\n",
       "    </tr>\n",
       "    <tr>\n",
       "      <th>8</th>\n",
       "      <td>0.985895</td>\n",
       "      <td>9.177669e-01</td>\n",
       "      <td>True</td>\n",
       "    </tr>\n",
       "    <tr>\n",
       "      <th>9</th>\n",
       "      <td>0.971317</td>\n",
       "      <td>4.625928e-01</td>\n",
       "      <td>True</td>\n",
       "    </tr>\n",
       "    <tr>\n",
       "      <th>10</th>\n",
       "      <td>0.941432</td>\n",
       "      <td>5.629814e-02</td>\n",
       "      <td>True</td>\n",
       "    </tr>\n",
       "    <tr>\n",
       "      <th>11</th>\n",
       "      <td>0.698062</td>\n",
       "      <td>2.637880e-07</td>\n",
       "      <td>False</td>\n",
       "    </tr>\n",
       "    <tr>\n",
       "      <th>12</th>\n",
       "      <td>0.839111</td>\n",
       "      <td>1.079376e-04</td>\n",
       "      <td>False</td>\n",
       "    </tr>\n",
       "  </tbody>\n",
       "</table>\n",
       "</div>"
      ],
      "text/plain": [
       "           W          pval  normal\n",
       "1   0.960749  2.266894e-01    True\n",
       "2   0.858340  2.978925e-04   False\n",
       "3   0.891883  2.062198e-03   False\n",
       "4   0.983862  8.662307e-01    True\n",
       "5   0.969947  4.240769e-01    True\n",
       "6   0.976246  6.180680e-01    True\n",
       "7   0.850150  1.918544e-04   False\n",
       "8   0.985895  9.177669e-01    True\n",
       "9   0.971317  4.625928e-01    True\n",
       "10  0.941432  5.629814e-02    True\n",
       "11  0.698062  2.637880e-07   False\n",
       "12  0.839111  1.079376e-04   False"
      ]
     },
     "execution_count": 84,
     "metadata": {},
     "output_type": "execute_result"
    }
   ],
   "source": [
    "pg.normality(soil_moisture, group='Date', dv='MC')"
   ]
  },
  {
   "cell_type": "code",
   "execution_count": 85,
   "id": "4af176be",
   "metadata": {},
   "outputs": [
    {
     "data": {
      "text/html": [
       "<div>\n",
       "<style scoped>\n",
       "    .dataframe tbody tr th:only-of-type {\n",
       "        vertical-align: middle;\n",
       "    }\n",
       "\n",
       "    .dataframe tbody tr th {\n",
       "        vertical-align: top;\n",
       "    }\n",
       "\n",
       "    .dataframe thead th {\n",
       "        text-align: right;\n",
       "    }\n",
       "</style>\n",
       "<table border=\"1\" class=\"dataframe\">\n",
       "  <thead>\n",
       "    <tr style=\"text-align: right;\">\n",
       "      <th></th>\n",
       "      <th>W</th>\n",
       "      <th>pval</th>\n",
       "      <th>normal</th>\n",
       "    </tr>\n",
       "  </thead>\n",
       "  <tbody>\n",
       "    <tr>\n",
       "      <th>2</th>\n",
       "      <td>0.945980</td>\n",
       "      <td>0.000023</td>\n",
       "      <td>False</td>\n",
       "    </tr>\n",
       "    <tr>\n",
       "      <th>3</th>\n",
       "      <td>0.974413</td>\n",
       "      <td>0.008447</td>\n",
       "      <td>False</td>\n",
       "    </tr>\n",
       "    <tr>\n",
       "      <th>1</th>\n",
       "      <td>0.956845</td>\n",
       "      <td>0.000177</td>\n",
       "      <td>False</td>\n",
       "    </tr>\n",
       "  </tbody>\n",
       "</table>\n",
       "</div>"
      ],
      "text/plain": [
       "          W      pval  normal\n",
       "2  0.945980  0.000023   False\n",
       "3  0.974413  0.008447   False\n",
       "1  0.956845  0.000177   False"
      ]
     },
     "execution_count": 85,
     "metadata": {},
     "output_type": "execute_result"
    }
   ],
   "source": [
    "pg.normality(soil_moisture, group='Block', dv='MC')"
   ]
  },
  {
   "cell_type": "markdown",
   "id": "2f1b03db",
   "metadata": {},
   "source": [
    "## Bartlett’s Test of Homogeneity of Variances"
   ]
  },
  {
   "cell_type": "code",
   "execution_count": 64,
   "id": "26dcaa74",
   "metadata": {},
   "outputs": [
    {
     "data": {
      "text/plain": [
       "array(['2S', '6S', '1C', 3.1, 4.1, 3.2, '5S', '1S', '2C', '5C', 4.2, '6C'],\n",
       "      dtype=object)"
      ]
     },
     "execution_count": 64,
     "metadata": {},
     "output_type": "execute_result"
    }
   ],
   "source": [
    "soil_moisture['Treatment'].unique()"
   ]
  },
  {
   "cell_type": "code",
   "execution_count": 68,
   "id": "9518a7a5",
   "metadata": {},
   "outputs": [
    {
     "name": "stdout",
     "output_type": "stream",
     "text": [
      "Collecting pingouin\n",
      "  Using cached pingouin-0.5.0-py3-none-any.whl\n",
      "Requirement already satisfied: matplotlib>=3.0.2 in c:\\users\\gmmyers\\anaconda3\\lib\\site-packages (from pingouin) (3.3.4)\n",
      "Requirement already satisfied: scipy>=1.7 in c:\\users\\gmmyers\\anaconda3\\lib\\site-packages (from pingouin) (1.7.2)\n",
      "Collecting outdated\n",
      "Note: you may need to restart the kernel to use updated packages.\n",
      "  Using cached outdated-0.2.1-py3-none-any.whl (7.5 kB)\n",
      "Requirement already satisfied: pandas>=1.0 in c:\\users\\gmmyers\\anaconda3\\lib\\site-packages (from pingouin) (1.2.4)\n",
      "Collecting tabulate\n",
      "  Using cached tabulate-0.8.9-py3-none-any.whl (25 kB)\n",
      "Collecting pandas-flavor>=0.2.0\n",
      "  Using cached pandas_flavor-0.2.0-py2.py3-none-any.whl (6.6 kB)\n",
      "Requirement already satisfied: scikit-learn in c:\\users\\gmmyers\\anaconda3\\lib\\site-packages (from pingouin) (0.24.1)\n",
      "Requirement already satisfied: seaborn>=0.9.0 in c:\\users\\gmmyers\\anaconda3\\lib\\site-packages (from pingouin) (0.11.1)\n",
      "Requirement already satisfied: numpy>=1.19 in c:\\users\\gmmyers\\anaconda3\\lib\\site-packages (from pingouin) (1.20.1)\n",
      "Requirement already satisfied: statsmodels>=0.12.0 in c:\\users\\gmmyers\\anaconda3\\lib\\site-packages (from pingouin) (0.12.2)\n",
      "Requirement already satisfied: python-dateutil>=2.1 in c:\\users\\gmmyers\\anaconda3\\lib\\site-packages (from matplotlib>=3.0.2->pingouin) (2.8.1)\n",
      "Requirement already satisfied: pillow>=6.2.0 in c:\\users\\gmmyers\\anaconda3\\lib\\site-packages (from matplotlib>=3.0.2->pingouin) (8.2.0)\n",
      "Requirement already satisfied: pyparsing!=2.0.4,!=2.1.2,!=2.1.6,>=2.0.3 in c:\\users\\gmmyers\\anaconda3\\lib\\site-packages (from matplotlib>=3.0.2->pingouin) (2.4.7)\n",
      "Requirement already satisfied: cycler>=0.10 in c:\\users\\gmmyers\\anaconda3\\lib\\site-packages (from matplotlib>=3.0.2->pingouin) (0.10.0)\n",
      "Requirement already satisfied: kiwisolver>=1.0.1 in c:\\users\\gmmyers\\anaconda3\\lib\\site-packages (from matplotlib>=3.0.2->pingouin) (1.3.1)\n",
      "Requirement already satisfied: six in c:\\users\\gmmyers\\anaconda3\\lib\\site-packages (from cycler>=0.10->matplotlib>=3.0.2->pingouin) (1.15.0)\n",
      "Requirement already satisfied: pytz>=2017.3 in c:\\users\\gmmyers\\anaconda3\\lib\\site-packages (from pandas>=1.0->pingouin) (2021.1)\n",
      "Requirement already satisfied: xarray in c:\\users\\gmmyers\\anaconda3\\lib\\site-packages (from pandas-flavor>=0.2.0->pingouin) (0.20.1)\n",
      "Requirement already satisfied: patsy>=0.5 in c:\\users\\gmmyers\\anaconda3\\lib\\site-packages (from statsmodels>=0.12.0->pingouin) (0.5.1)\n",
      "Collecting littleutils\n",
      "  Using cached littleutils-0.2.2-py3-none-any.whl\n",
      "Requirement already satisfied: requests in c:\\users\\gmmyers\\anaconda3\\lib\\site-packages (from outdated->pingouin) (2.25.1)\n",
      "Requirement already satisfied: idna<3,>=2.5 in c:\\users\\gmmyers\\anaconda3\\lib\\site-packages (from requests->outdated->pingouin) (2.10)\n",
      "Requirement already satisfied: certifi>=2017.4.17 in c:\\users\\gmmyers\\anaconda3\\lib\\site-packages (from requests->outdated->pingouin) (2020.12.5)\n",
      "Requirement already satisfied: chardet<5,>=3.0.2 in c:\\users\\gmmyers\\anaconda3\\lib\\site-packages (from requests->outdated->pingouin) (4.0.0)\n",
      "Requirement already satisfied: urllib3<1.27,>=1.21.1 in c:\\users\\gmmyers\\anaconda3\\lib\\site-packages (from requests->outdated->pingouin) (1.26.4)\n",
      "Requirement already satisfied: joblib>=0.11 in c:\\users\\gmmyers\\anaconda3\\lib\\site-packages (from scikit-learn->pingouin) (1.0.1)\n",
      "Requirement already satisfied: threadpoolctl>=2.0.0 in c:\\users\\gmmyers\\anaconda3\\lib\\site-packages (from scikit-learn->pingouin) (2.1.0)\n",
      "Installing collected packages: littleutils, tabulate, pandas-flavor, outdated, pingouin\n",
      "Successfully installed littleutils-0.2.2 outdated-0.2.1 pandas-flavor-0.2.0 pingouin-0.5.0 tabulate-0.8.9\n"
     ]
    }
   ],
   "source": [
    "pip install pingouin"
   ]
  },
  {
   "cell_type": "code",
   "execution_count": 69,
   "id": "cffcb243",
   "metadata": {},
   "outputs": [
    {
     "data": {
      "text/html": [
       "<div>\n",
       "<style scoped>\n",
       "    .dataframe tbody tr th:only-of-type {\n",
       "        vertical-align: middle;\n",
       "    }\n",
       "\n",
       "    .dataframe tbody tr th {\n",
       "        vertical-align: top;\n",
       "    }\n",
       "\n",
       "    .dataframe thead th {\n",
       "        text-align: right;\n",
       "    }\n",
       "</style>\n",
       "<table border=\"1\" class=\"dataframe\">\n",
       "  <thead>\n",
       "    <tr style=\"text-align: right;\">\n",
       "      <th></th>\n",
       "      <th>T</th>\n",
       "      <th>pval</th>\n",
       "      <th>equal_var</th>\n",
       "    </tr>\n",
       "  </thead>\n",
       "  <tbody>\n",
       "    <tr>\n",
       "      <th>bartlett</th>\n",
       "      <td>10.737118</td>\n",
       "      <td>0.465542</td>\n",
       "      <td>True</td>\n",
       "    </tr>\n",
       "  </tbody>\n",
       "</table>\n",
       "</div>"
      ],
      "text/plain": [
       "                  T      pval  equal_var\n",
       "bartlett  10.737118  0.465542       True"
      ]
     },
     "execution_count": 69,
     "metadata": {},
     "output_type": "execute_result"
    }
   ],
   "source": [
    "import pingouin as pg\n",
    "\n",
    "# Bartlett's test in Python with pingouin:\n",
    "pg.homoscedasticity(soil_moisture, dv='MC', \n",
    "                    group='Treatment',\n",
    "                   method='bartlett')"
   ]
  },
  {
   "cell_type": "markdown",
   "id": "54fbec84",
   "metadata": {},
   "source": [
    "The treatments have equal variances. "
   ]
  },
  {
   "cell_type": "code",
   "execution_count": 76,
   "id": "07a9651d",
   "metadata": {},
   "outputs": [
    {
     "data": {
      "text/html": [
       "<div>\n",
       "<style scoped>\n",
       "    .dataframe tbody tr th:only-of-type {\n",
       "        vertical-align: middle;\n",
       "    }\n",
       "\n",
       "    .dataframe tbody tr th {\n",
       "        vertical-align: top;\n",
       "    }\n",
       "\n",
       "    .dataframe thead th {\n",
       "        text-align: right;\n",
       "    }\n",
       "</style>\n",
       "<table border=\"1\" class=\"dataframe\">\n",
       "  <thead>\n",
       "    <tr style=\"text-align: right;\">\n",
       "      <th></th>\n",
       "      <th>T</th>\n",
       "      <th>pval</th>\n",
       "      <th>equal_var</th>\n",
       "    </tr>\n",
       "  </thead>\n",
       "  <tbody>\n",
       "    <tr>\n",
       "      <th>bartlett</th>\n",
       "      <td>77.757506</td>\n",
       "      <td>3.998443e-12</td>\n",
       "      <td>False</td>\n",
       "    </tr>\n",
       "  </tbody>\n",
       "</table>\n",
       "</div>"
      ],
      "text/plain": [
       "                  T          pval  equal_var\n",
       "bartlett  77.757506  3.998443e-12      False"
      ]
     },
     "execution_count": 76,
     "metadata": {},
     "output_type": "execute_result"
    }
   ],
   "source": [
    "\n",
    "pg.homoscedasticity(soil_moisture, dv='MC', \n",
    "                    group='Date',\n",
    "                   method='bartlett')"
   ]
  },
  {
   "cell_type": "markdown",
   "id": "e56db8f6",
   "metadata": {},
   "source": [
    "The dates do not have equali variances. "
   ]
  },
  {
   "cell_type": "code",
   "execution_count": 77,
   "id": "50b1b5d7",
   "metadata": {},
   "outputs": [
    {
     "data": {
      "text/html": [
       "<div>\n",
       "<style scoped>\n",
       "    .dataframe tbody tr th:only-of-type {\n",
       "        vertical-align: middle;\n",
       "    }\n",
       "\n",
       "    .dataframe tbody tr th {\n",
       "        vertical-align: top;\n",
       "    }\n",
       "\n",
       "    .dataframe thead th {\n",
       "        text-align: right;\n",
       "    }\n",
       "</style>\n",
       "<table border=\"1\" class=\"dataframe\">\n",
       "  <thead>\n",
       "    <tr style=\"text-align: right;\">\n",
       "      <th></th>\n",
       "      <th>T</th>\n",
       "      <th>pval</th>\n",
       "      <th>equal_var</th>\n",
       "    </tr>\n",
       "  </thead>\n",
       "  <tbody>\n",
       "    <tr>\n",
       "      <th>bartlett</th>\n",
       "      <td>2.178006</td>\n",
       "      <td>0.336552</td>\n",
       "      <td>True</td>\n",
       "    </tr>\n",
       "  </tbody>\n",
       "</table>\n",
       "</div>"
      ],
      "text/plain": [
       "                 T      pval  equal_var\n",
       "bartlett  2.178006  0.336552       True"
      ]
     },
     "execution_count": 77,
     "metadata": {},
     "output_type": "execute_result"
    }
   ],
   "source": [
    "pg.homoscedasticity(soil_moisture, dv='MC', \n",
    "                    group='Block',\n",
    "                   method='bartlett')"
   ]
  },
  {
   "cell_type": "markdown",
   "id": "3764e134",
   "metadata": {},
   "source": [
    "Blocks have equal variances."
   ]
  },
  {
   "cell_type": "markdown",
   "id": "83f8d2bf",
   "metadata": {},
   "source": [
    "## ANOVA"
   ]
  },
  {
   "cell_type": "code",
   "execution_count": 94,
   "id": "3cee11f9",
   "metadata": {},
   "outputs": [
    {
     "name": "stdout",
     "output_type": "stream",
     "text": [
      "                                 df    sum_sq   mean_sq           F  \\\n",
      "C(Block)                        2.0  0.000971  0.000486    0.403765   \n",
      "C(simp_trt)                     7.0  0.034961  0.004994    4.153477   \n",
      "C(Date)                        11.0  2.166061  0.196915  163.758221   \n",
      "C(Block):C(Date)               22.0  0.027173  0.001235    1.027175   \n",
      "C(Block):C(simp_trt)           14.0  0.013106  0.000936    0.778506   \n",
      "C(Date):C(simp_trt)            77.0  0.098117  0.001274    1.059694   \n",
      "C(Date):C(simp_trt):C(Block)  154.0  0.160669  0.001043    0.867634   \n",
      "Residual                      144.0  0.173156  0.001202         NaN   \n",
      "\n",
      "                                    PR(>F)  \n",
      "C(Block)                      6.685547e-01  \n",
      "C(simp_trt)                   3.426457e-04  \n",
      "C(Date)                       1.440032e-75  \n",
      "C(Block):C(Date)              4.355479e-01  \n",
      "C(Block):C(simp_trt)          6.909369e-01  \n",
      "C(Date):C(simp_trt)           3.779958e-01  \n",
      "C(Date):C(simp_trt):C(Block)  8.069726e-01  \n",
      "Residual                               NaN  \n"
     ]
    }
   ],
   "source": [
    "model = ols('MC ~ C(Block) + C(simp_trt) + C(Date) + C(Block):C(Date) + C(Block):C(simp_trt) + C(Date):C(simp_trt) + C(Date):C(simp_trt):C(Block)', data = soil_moisture).fit()\n",
    "\n",
    "aov_table = sm.stats.anova_lm(model)\n",
    "\n",
    "print(aov_table)"
   ]
  },
  {
   "cell_type": "markdown",
   "id": "a900e2a6",
   "metadata": {},
   "source": [
    "Date and treatment had significant effects. "
   ]
  },
  {
   "cell_type": "code",
   "execution_count": 89,
   "id": "18c686df",
   "metadata": {},
   "outputs": [
    {
     "data": {
      "text/html": [
       "<div>\n",
       "<style scoped>\n",
       "    .dataframe tbody tr th:only-of-type {\n",
       "        vertical-align: middle;\n",
       "    }\n",
       "\n",
       "    .dataframe tbody tr th {\n",
       "        vertical-align: top;\n",
       "    }\n",
       "\n",
       "    .dataframe thead th {\n",
       "        text-align: right;\n",
       "    }\n",
       "</style>\n",
       "<table border=\"1\" class=\"dataframe\">\n",
       "  <thead>\n",
       "    <tr style=\"text-align: right;\">\n",
       "      <th></th>\n",
       "      <th>Source</th>\n",
       "      <th>SS</th>\n",
       "      <th>DF</th>\n",
       "      <th>MS</th>\n",
       "      <th>F</th>\n",
       "      <th>p-unc</th>\n",
       "      <th>np2</th>\n",
       "    </tr>\n",
       "  </thead>\n",
       "  <tbody>\n",
       "    <tr>\n",
       "      <th>0</th>\n",
       "      <td>simp_trt</td>\n",
       "      <td>0.035</td>\n",
       "      <td>7.0</td>\n",
       "      <td>0.005</td>\n",
       "      <td>4.153</td>\n",
       "      <td>0.000</td>\n",
       "      <td>0.168</td>\n",
       "    </tr>\n",
       "    <tr>\n",
       "      <th>1</th>\n",
       "      <td>Block</td>\n",
       "      <td>0.001</td>\n",
       "      <td>2.0</td>\n",
       "      <td>0.001</td>\n",
       "      <td>0.529</td>\n",
       "      <td>0.590</td>\n",
       "      <td>0.007</td>\n",
       "    </tr>\n",
       "    <tr>\n",
       "      <th>2</th>\n",
       "      <td>Date</td>\n",
       "      <td>1.982</td>\n",
       "      <td>11.0</td>\n",
       "      <td>0.180</td>\n",
       "      <td>149.858</td>\n",
       "      <td>0.000</td>\n",
       "      <td>0.920</td>\n",
       "    </tr>\n",
       "    <tr>\n",
       "      <th>3</th>\n",
       "      <td>simp_trt * Block</td>\n",
       "      <td>0.013</td>\n",
       "      <td>14.0</td>\n",
       "      <td>0.001</td>\n",
       "      <td>0.779</td>\n",
       "      <td>0.691</td>\n",
       "      <td>0.070</td>\n",
       "    </tr>\n",
       "    <tr>\n",
       "      <th>4</th>\n",
       "      <td>simp_trt * Date</td>\n",
       "      <td>0.098</td>\n",
       "      <td>77.0</td>\n",
       "      <td>0.001</td>\n",
       "      <td>1.060</td>\n",
       "      <td>0.378</td>\n",
       "      <td>0.362</td>\n",
       "    </tr>\n",
       "    <tr>\n",
       "      <th>5</th>\n",
       "      <td>Block * Date</td>\n",
       "      <td>0.032</td>\n",
       "      <td>22.0</td>\n",
       "      <td>0.001</td>\n",
       "      <td>1.206</td>\n",
       "      <td>0.252</td>\n",
       "      <td>0.156</td>\n",
       "    </tr>\n",
       "    <tr>\n",
       "      <th>6</th>\n",
       "      <td>simp_trt * Block * Date</td>\n",
       "      <td>0.161</td>\n",
       "      <td>154.0</td>\n",
       "      <td>0.001</td>\n",
       "      <td>0.868</td>\n",
       "      <td>0.807</td>\n",
       "      <td>0.481</td>\n",
       "    </tr>\n",
       "    <tr>\n",
       "      <th>7</th>\n",
       "      <td>Residual</td>\n",
       "      <td>0.173</td>\n",
       "      <td>144.0</td>\n",
       "      <td>0.001</td>\n",
       "      <td>NaN</td>\n",
       "      <td>NaN</td>\n",
       "      <td>NaN</td>\n",
       "    </tr>\n",
       "  </tbody>\n",
       "</table>\n",
       "</div>"
      ],
      "text/plain": [
       "                    Source     SS     DF     MS        F  p-unc    np2\n",
       "0                 simp_trt  0.035    7.0  0.005    4.153  0.000  0.168\n",
       "1                    Block  0.001    2.0  0.001    0.529  0.590  0.007\n",
       "2                     Date  1.982   11.0  0.180  149.858  0.000  0.920\n",
       "3         simp_trt * Block  0.013   14.0  0.001    0.779  0.691  0.070\n",
       "4          simp_trt * Date  0.098   77.0  0.001    1.060  0.378  0.362\n",
       "5             Block * Date  0.032   22.0  0.001    1.206  0.252  0.156\n",
       "6  simp_trt * Block * Date  0.161  154.0  0.001    0.868  0.807  0.481\n",
       "7                 Residual  0.173  144.0  0.001      NaN    NaN    NaN"
      ]
     },
     "execution_count": 89,
     "metadata": {},
     "output_type": "execute_result"
    }
   ],
   "source": [
    "soil_moisture.anova(dv=\"MC\", between=[\"simp_trt\", \"Block\", \"Date\"], ss_type = 3).round(3)"
   ]
  },
  {
   "cell_type": "code",
   "execution_count": 93,
   "id": "3687fad8",
   "metadata": {},
   "outputs": [
    {
     "data": {
      "text/html": [
       "<div>\n",
       "<style scoped>\n",
       "    .dataframe tbody tr th:only-of-type {\n",
       "        vertical-align: middle;\n",
       "    }\n",
       "\n",
       "    .dataframe tbody tr th {\n",
       "        vertical-align: top;\n",
       "    }\n",
       "\n",
       "    .dataframe thead th {\n",
       "        text-align: right;\n",
       "    }\n",
       "</style>\n",
       "<table border=\"1\" class=\"dataframe\">\n",
       "  <thead>\n",
       "    <tr style=\"text-align: right;\">\n",
       "      <th></th>\n",
       "      <th>A</th>\n",
       "      <th>B</th>\n",
       "      <th>mean(A)</th>\n",
       "      <th>mean(B)</th>\n",
       "      <th>diff</th>\n",
       "      <th>se</th>\n",
       "      <th>T</th>\n",
       "      <th>df</th>\n",
       "      <th>pval</th>\n",
       "      <th>hedges</th>\n",
       "    </tr>\n",
       "  </thead>\n",
       "  <tbody>\n",
       "    <tr>\n",
       "      <th>0</th>\n",
       "      <td>3.1</td>\n",
       "      <td>3.2</td>\n",
       "      <td>0.156</td>\n",
       "      <td>0.176</td>\n",
       "      <td>-0.020</td>\n",
       "      <td>0.021</td>\n",
       "      <td>-0.963</td>\n",
       "      <td>63.487</td>\n",
       "      <td>0.9</td>\n",
       "      <td>-0.224</td>\n",
       "    </tr>\n",
       "    <tr>\n",
       "      <th>1</th>\n",
       "      <td>3.1</td>\n",
       "      <td>4.1</td>\n",
       "      <td>0.156</td>\n",
       "      <td>0.159</td>\n",
       "      <td>-0.004</td>\n",
       "      <td>0.018</td>\n",
       "      <td>-0.200</td>\n",
       "      <td>69.340</td>\n",
       "      <td>0.9</td>\n",
       "      <td>-0.047</td>\n",
       "    </tr>\n",
       "    <tr>\n",
       "      <th>2</th>\n",
       "      <td>3.1</td>\n",
       "      <td>4.2</td>\n",
       "      <td>0.156</td>\n",
       "      <td>0.170</td>\n",
       "      <td>-0.014</td>\n",
       "      <td>0.018</td>\n",
       "      <td>-0.804</td>\n",
       "      <td>69.988</td>\n",
       "      <td>0.9</td>\n",
       "      <td>-0.188</td>\n",
       "    </tr>\n",
       "    <tr>\n",
       "      <th>3</th>\n",
       "      <td>3.1</td>\n",
       "      <td>1C</td>\n",
       "      <td>0.156</td>\n",
       "      <td>0.145</td>\n",
       "      <td>0.011</td>\n",
       "      <td>0.017</td>\n",
       "      <td>0.635</td>\n",
       "      <td>69.449</td>\n",
       "      <td>0.9</td>\n",
       "      <td>0.148</td>\n",
       "    </tr>\n",
       "    <tr>\n",
       "      <th>4</th>\n",
       "      <td>3.1</td>\n",
       "      <td>1S</td>\n",
       "      <td>0.156</td>\n",
       "      <td>0.164</td>\n",
       "      <td>-0.008</td>\n",
       "      <td>0.017</td>\n",
       "      <td>-0.459</td>\n",
       "      <td>69.970</td>\n",
       "      <td>0.9</td>\n",
       "      <td>-0.107</td>\n",
       "    </tr>\n",
       "    <tr>\n",
       "      <th>...</th>\n",
       "      <td>...</td>\n",
       "      <td>...</td>\n",
       "      <td>...</td>\n",
       "      <td>...</td>\n",
       "      <td>...</td>\n",
       "      <td>...</td>\n",
       "      <td>...</td>\n",
       "      <td>...</td>\n",
       "      <td>...</td>\n",
       "      <td>...</td>\n",
       "    </tr>\n",
       "    <tr>\n",
       "      <th>61</th>\n",
       "      <td>5C</td>\n",
       "      <td>6C</td>\n",
       "      <td>0.161</td>\n",
       "      <td>0.168</td>\n",
       "      <td>-0.007</td>\n",
       "      <td>0.019</td>\n",
       "      <td>-0.358</td>\n",
       "      <td>69.719</td>\n",
       "      <td>0.9</td>\n",
       "      <td>-0.084</td>\n",
       "    </tr>\n",
       "    <tr>\n",
       "      <th>62</th>\n",
       "      <td>5C</td>\n",
       "      <td>6S</td>\n",
       "      <td>0.161</td>\n",
       "      <td>0.186</td>\n",
       "      <td>-0.026</td>\n",
       "      <td>0.019</td>\n",
       "      <td>-1.331</td>\n",
       "      <td>69.867</td>\n",
       "      <td>0.9</td>\n",
       "      <td>-0.310</td>\n",
       "    </tr>\n",
       "    <tr>\n",
       "      <th>63</th>\n",
       "      <td>5S</td>\n",
       "      <td>6C</td>\n",
       "      <td>0.178</td>\n",
       "      <td>0.168</td>\n",
       "      <td>0.010</td>\n",
       "      <td>0.018</td>\n",
       "      <td>0.571</td>\n",
       "      <td>67.158</td>\n",
       "      <td>0.9</td>\n",
       "      <td>0.133</td>\n",
       "    </tr>\n",
       "    <tr>\n",
       "      <th>64</th>\n",
       "      <td>5S</td>\n",
       "      <td>6S</td>\n",
       "      <td>0.178</td>\n",
       "      <td>0.186</td>\n",
       "      <td>-0.008</td>\n",
       "      <td>0.018</td>\n",
       "      <td>-0.456</td>\n",
       "      <td>67.644</td>\n",
       "      <td>0.9</td>\n",
       "      <td>-0.106</td>\n",
       "    </tr>\n",
       "    <tr>\n",
       "      <th>65</th>\n",
       "      <td>6C</td>\n",
       "      <td>6S</td>\n",
       "      <td>0.168</td>\n",
       "      <td>0.186</td>\n",
       "      <td>-0.019</td>\n",
       "      <td>0.020</td>\n",
       "      <td>-0.939</td>\n",
       "      <td>69.973</td>\n",
       "      <td>0.9</td>\n",
       "      <td>-0.219</td>\n",
       "    </tr>\n",
       "  </tbody>\n",
       "</table>\n",
       "<p>66 rows × 10 columns</p>\n",
       "</div>"
      ],
      "text/plain": [
       "      A    B  mean(A)  mean(B)   diff     se      T      df  pval  hedges\n",
       "0   3.1  3.2    0.156    0.176 -0.020  0.021 -0.963  63.487   0.9  -0.224\n",
       "1   3.1  4.1    0.156    0.159 -0.004  0.018 -0.200  69.340   0.9  -0.047\n",
       "2   3.1  4.2    0.156    0.170 -0.014  0.018 -0.804  69.988   0.9  -0.188\n",
       "3   3.1   1C    0.156    0.145  0.011  0.017  0.635  69.449   0.9   0.148\n",
       "4   3.1   1S    0.156    0.164 -0.008  0.017 -0.459  69.970   0.9  -0.107\n",
       "..  ...  ...      ...      ...    ...    ...    ...     ...   ...     ...\n",
       "61   5C   6C    0.161    0.168 -0.007  0.019 -0.358  69.719   0.9  -0.084\n",
       "62   5C   6S    0.161    0.186 -0.026  0.019 -1.331  69.867   0.9  -0.310\n",
       "63   5S   6C    0.178    0.168  0.010  0.018  0.571  67.158   0.9   0.133\n",
       "64   5S   6S    0.178    0.186 -0.008  0.018 -0.456  67.644   0.9  -0.106\n",
       "65   6C   6S    0.168    0.186 -0.019  0.020 -0.939  69.973   0.9  -0.219\n",
       "\n",
       "[66 rows x 10 columns]"
      ]
     },
     "execution_count": 93,
     "metadata": {},
     "output_type": "execute_result"
    }
   ],
   "source": [
    "pg.pairwise_gameshowell(data = soil_moisture, dv = 'MC', between = 'Treatment').round(3)"
   ]
  },
  {
   "cell_type": "code",
   "execution_count": null,
   "id": "07d24364",
   "metadata": {},
   "outputs": [],
   "source": []
  }
 ],
 "metadata": {
  "kernelspec": {
   "display_name": "Python 3",
   "language": "python",
   "name": "python3"
  },
  "language_info": {
   "codemirror_mode": {
    "name": "ipython",
    "version": 3
   },
   "file_extension": ".py",
   "mimetype": "text/x-python",
   "name": "python",
   "nbconvert_exporter": "python",
   "pygments_lexer": "ipython3",
   "version": "3.8.8"
  }
 },
 "nbformat": 4,
 "nbformat_minor": 5
}
